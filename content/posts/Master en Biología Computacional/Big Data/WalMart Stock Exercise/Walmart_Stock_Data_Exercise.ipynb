{
  "nbformat": 4,
  "nbformat_minor": 0,
  "metadata": {
    "colab": {
      "name": "Walmart Stock Data Exercise",
      "provenance": [],
      "collapsed_sections": []
    },
    "kernelspec": {
      "display_name": "Python 3",
      "name": "python3"
    }
  },
  "cells": [
    {
      "cell_type": "markdown",
      "metadata": {
        "id": "alwyfakobMo5"
      },
      "source": [
        "Create a Jupyter notebook to execute the following tasks, as part of the Big Data engineerig course:"
      ]
    },
    {
      "cell_type": "markdown",
      "metadata": {
        "id": "UTzT87Q9bV9d"
      },
      "source": [
        "1. Start a simple Spark session"
      ]
    },
    {
      "cell_type": "code",
      "metadata": {
        "id": "6zxLIGxNuoZq"
      },
      "source": [
        "!apt-get install openjdk-8-jdk-headless -qq > /dev/null\n",
        "!wget -q https://mirrors.sonic.net/apache/spark/spark-3.1.2/spark-3.1.2-bin-hadoop3.2.tgz\n",
        "!tar xzf spark-3.1.2-bin-hadoop3.2.tgz\n",
        "!pip install -q findspark\n",
        "\n",
        "\n",
        "import os\n",
        "os.environ[\"JAVA_HOME\"] = \"/usr/lib/jvm/java-8-openjdk-amd64\"\n",
        "os.environ[\"SPARK_HOME\"] = \"/content/spark-3.1.2-bin-hadoop3.2\"\n",
        "\n",
        "\n",
        "import findspark\n",
        "findspark.init()\n",
        "from pyspark.sql import SparkSession\n",
        "spark = SparkSession.builder.master(\"local[*]\").getOrCreate()\n",
        "\n",
        "import pandas as pd"
      ],
      "execution_count": 1,
      "outputs": []
    },
    {
      "cell_type": "markdown",
      "metadata": {
        "id": "CEh5GjDkbafg"
      },
      "source": [
        "2. Load the Walmart Stock CSV file, let Spark infer the data types"
      ]
    },
    {
      "cell_type": "code",
      "metadata": {
        "colab": {
          "base_uri": "https://localhost:8080/"
        },
        "id": "Icysxcuybepm",
        "outputId": "57fa86b3-46c9-496d-8115-3a914a14a692"
      },
      "source": [
        "df = spark.read.options(infersSchema=\"true\").csv(\"/content/walmart_stock.csv\")\n",
        "df.printSchema()"
      ],
      "execution_count": 2,
      "outputs": [
        {
          "output_type": "stream",
          "name": "stdout",
          "text": [
            "root\n",
            " |-- _c0: string (nullable = true)\n",
            " |-- _c1: string (nullable = true)\n",
            " |-- _c2: string (nullable = true)\n",
            " |-- _c3: string (nullable = true)\n",
            " |-- _c4: string (nullable = true)\n",
            " |-- _c5: string (nullable = true)\n",
            " |-- _c6: string (nullable = true)\n",
            "\n"
          ]
        }
      ]
    },
    {
      "cell_type": "markdown",
      "metadata": {
        "id": "Ct-5Vh5ihSmA"
      },
      "source": [
        "As we can see, Spark is not really good at infering the Schema. Lets manually coerce it:"
      ]
    },
    {
      "cell_type": "code",
      "metadata": {
        "colab": {
          "base_uri": "https://localhost:8080/"
        },
        "id": "yGXx4afEhc5s",
        "outputId": "fc80fef6-6a35-4cb9-e165-e068dcb0749a"
      },
      "source": [
        "df = spark.read.options(header=\"true\").csv(\"/content/walmart_stock.csv\")\n",
        "df.printSchema()"
      ],
      "execution_count": 3,
      "outputs": [
        {
          "output_type": "stream",
          "name": "stdout",
          "text": [
            "root\n",
            " |-- Date: string (nullable = true)\n",
            " |-- Open: string (nullable = true)\n",
            " |-- High: string (nullable = true)\n",
            " |-- Low: string (nullable = true)\n",
            " |-- Close: string (nullable = true)\n",
            " |-- Volume: string (nullable = true)\n",
            " |-- Adj Close: string (nullable = true)\n",
            "\n"
          ]
        }
      ]
    },
    {
      "cell_type": "markdown",
      "metadata": {
        "id": "6buNhecahhao"
      },
      "source": [
        "Good! Now it works (more or less, see point 4)"
      ]
    },
    {
      "cell_type": "markdown",
      "metadata": {
        "id": "fpJUlj_Dep0d"
      },
      "source": [
        "3. Show the column names"
      ]
    },
    {
      "cell_type": "code",
      "metadata": {
        "colab": {
          "base_uri": "https://localhost:8080/"
        },
        "id": "0LfqWj5H2Slb",
        "outputId": "69967d4a-b443-4b0b-ebe9-c936c480e479"
      },
      "source": [
        "df.schema.names"
      ],
      "execution_count": 4,
      "outputs": [
        {
          "output_type": "execute_result",
          "data": {
            "text/plain": [
              "['Date', 'Open', 'High', 'Low', 'Close', 'Volume', 'Adj Close']"
            ]
          },
          "metadata": {},
          "execution_count": 4
        }
      ]
    },
    {
      "cell_type": "markdown",
      "metadata": {
        "id": "2Vv-AOR-fAB0"
      },
      "source": [
        "4. What does the Schema look like?"
      ]
    },
    {
      "cell_type": "code",
      "metadata": {
        "colab": {
          "base_uri": "https://localhost:8080/"
        },
        "id": "ADcRD48efdDT",
        "outputId": "e28e98e9-0830-4550-80ba-cb8b43e1c01f"
      },
      "source": [
        "df.printSchema()"
      ],
      "execution_count": 5,
      "outputs": [
        {
          "output_type": "stream",
          "name": "stdout",
          "text": [
            "root\n",
            " |-- Date: string (nullable = true)\n",
            " |-- Open: string (nullable = true)\n",
            " |-- High: string (nullable = true)\n",
            " |-- Low: string (nullable = true)\n",
            " |-- Close: string (nullable = true)\n",
            " |-- Volume: string (nullable = true)\n",
            " |-- Adj Close: string (nullable = true)\n",
            "\n"
          ]
        }
      ]
    },
    {
      "cell_type": "markdown",
      "metadata": {
        "id": "WaWmzo9MhpEz"
      },
      "source": [
        "However, as you can see in Point 5, not all columns are strings: some of them are dates, some are numbers... We will have to fix this later"
      ]
    },
    {
      "cell_type": "markdown",
      "metadata": {
        "id": "JbLdSeVAfDmi"
      },
      "source": [
        "5. Print out the first 5 rows"
      ]
    },
    {
      "cell_type": "code",
      "metadata": {
        "colab": {
          "base_uri": "https://localhost:8080/",
          "height": 206
        },
        "id": "028wjSD_2TUh",
        "outputId": "bb8bf3d2-b902-4144-f09f-4dbbefc4f152"
      },
      "source": [
        "df.toPandas().head() #If I dont do toPandas(), I only print the first row, and the formatting is worse"
      ],
      "execution_count": 6,
      "outputs": [
        {
          "output_type": "execute_result",
          "data": {
            "text/html": [
              "<div>\n",
              "<style scoped>\n",
              "    .dataframe tbody tr th:only-of-type {\n",
              "        vertical-align: middle;\n",
              "    }\n",
              "\n",
              "    .dataframe tbody tr th {\n",
              "        vertical-align: top;\n",
              "    }\n",
              "\n",
              "    .dataframe thead th {\n",
              "        text-align: right;\n",
              "    }\n",
              "</style>\n",
              "<table border=\"1\" class=\"dataframe\">\n",
              "  <thead>\n",
              "    <tr style=\"text-align: right;\">\n",
              "      <th></th>\n",
              "      <th>Date</th>\n",
              "      <th>Open</th>\n",
              "      <th>High</th>\n",
              "      <th>Low</th>\n",
              "      <th>Close</th>\n",
              "      <th>Volume</th>\n",
              "      <th>Adj Close</th>\n",
              "    </tr>\n",
              "  </thead>\n",
              "  <tbody>\n",
              "    <tr>\n",
              "      <th>0</th>\n",
              "      <td>2012-01-03</td>\n",
              "      <td>59.970001</td>\n",
              "      <td>61.060001</td>\n",
              "      <td>59.869999</td>\n",
              "      <td>60.330002</td>\n",
              "      <td>12668800</td>\n",
              "      <td>52.619234999999996</td>\n",
              "    </tr>\n",
              "    <tr>\n",
              "      <th>1</th>\n",
              "      <td>2012-01-04</td>\n",
              "      <td>60.209998999999996</td>\n",
              "      <td>60.349998</td>\n",
              "      <td>59.470001</td>\n",
              "      <td>59.709998999999996</td>\n",
              "      <td>9593300</td>\n",
              "      <td>52.078475</td>\n",
              "    </tr>\n",
              "    <tr>\n",
              "      <th>2</th>\n",
              "      <td>2012-01-05</td>\n",
              "      <td>59.349998</td>\n",
              "      <td>59.619999</td>\n",
              "      <td>58.369999</td>\n",
              "      <td>59.419998</td>\n",
              "      <td>12768200</td>\n",
              "      <td>51.825539</td>\n",
              "    </tr>\n",
              "    <tr>\n",
              "      <th>3</th>\n",
              "      <td>2012-01-06</td>\n",
              "      <td>59.419998</td>\n",
              "      <td>59.450001</td>\n",
              "      <td>58.869999</td>\n",
              "      <td>59.0</td>\n",
              "      <td>8069400</td>\n",
              "      <td>51.45922</td>\n",
              "    </tr>\n",
              "    <tr>\n",
              "      <th>4</th>\n",
              "      <td>2012-01-09</td>\n",
              "      <td>59.029999</td>\n",
              "      <td>59.549999</td>\n",
              "      <td>58.919998</td>\n",
              "      <td>59.18</td>\n",
              "      <td>6679300</td>\n",
              "      <td>51.616215000000004</td>\n",
              "    </tr>\n",
              "  </tbody>\n",
              "</table>\n",
              "</div>"
            ],
            "text/plain": [
              "         Date                Open  ...    Volume           Adj Close\n",
              "0  2012-01-03           59.970001  ...  12668800  52.619234999999996\n",
              "1  2012-01-04  60.209998999999996  ...   9593300           52.078475\n",
              "2  2012-01-05           59.349998  ...  12768200           51.825539\n",
              "3  2012-01-06           59.419998  ...   8069400            51.45922\n",
              "4  2012-01-09           59.029999  ...   6679300  51.616215000000004\n",
              "\n",
              "[5 rows x 7 columns]"
            ]
          },
          "metadata": {},
          "execution_count": 6
        }
      ]
    },
    {
      "cell_type": "markdown",
      "metadata": {
        "id": "CfkOROSSiGL-"
      },
      "source": [
        "6. Use describe() to learn about the DataFrame"
      ]
    },
    {
      "cell_type": "code",
      "metadata": {
        "colab": {
          "base_uri": "https://localhost:8080/",
          "height": 175
        },
        "id": "mU_ORsRt6Z9S",
        "outputId": "3d5a715c-3f72-4925-feff-c842eae043ba"
      },
      "source": [
        "df.toPandas().describe() #If I do toPandas(), the shown info is cuter and more useful"
      ],
      "execution_count": 7,
      "outputs": [
        {
          "output_type": "execute_result",
          "data": {
            "text/html": [
              "<div>\n",
              "<style scoped>\n",
              "    .dataframe tbody tr th:only-of-type {\n",
              "        vertical-align: middle;\n",
              "    }\n",
              "\n",
              "    .dataframe tbody tr th {\n",
              "        vertical-align: top;\n",
              "    }\n",
              "\n",
              "    .dataframe thead th {\n",
              "        text-align: right;\n",
              "    }\n",
              "</style>\n",
              "<table border=\"1\" class=\"dataframe\">\n",
              "  <thead>\n",
              "    <tr style=\"text-align: right;\">\n",
              "      <th></th>\n",
              "      <th>Date</th>\n",
              "      <th>Open</th>\n",
              "      <th>High</th>\n",
              "      <th>Low</th>\n",
              "      <th>Close</th>\n",
              "      <th>Volume</th>\n",
              "      <th>Adj Close</th>\n",
              "    </tr>\n",
              "  </thead>\n",
              "  <tbody>\n",
              "    <tr>\n",
              "      <th>count</th>\n",
              "      <td>1258</td>\n",
              "      <td>1258</td>\n",
              "      <td>1258</td>\n",
              "      <td>1258</td>\n",
              "      <td>1258</td>\n",
              "      <td>1258</td>\n",
              "      <td>1258</td>\n",
              "    </tr>\n",
              "    <tr>\n",
              "      <th>unique</th>\n",
              "      <td>1258</td>\n",
              "      <td>957</td>\n",
              "      <td>956</td>\n",
              "      <td>938</td>\n",
              "      <td>943</td>\n",
              "      <td>1250</td>\n",
              "      <td>1184</td>\n",
              "    </tr>\n",
              "    <tr>\n",
              "      <th>top</th>\n",
              "      <td>2014-09-18</td>\n",
              "      <td>74.839996</td>\n",
              "      <td>75.190002</td>\n",
              "      <td>74.510002</td>\n",
              "      <td>73.510002</td>\n",
              "      <td>12653800</td>\n",
              "      <td>69.701339</td>\n",
              "    </tr>\n",
              "    <tr>\n",
              "      <th>freq</th>\n",
              "      <td>1</td>\n",
              "      <td>5</td>\n",
              "      <td>5</td>\n",
              "      <td>5</td>\n",
              "      <td>5</td>\n",
              "      <td>2</td>\n",
              "      <td>3</td>\n",
              "    </tr>\n",
              "  </tbody>\n",
              "</table>\n",
              "</div>"
            ],
            "text/plain": [
              "              Date       Open       High  ...      Close    Volume  Adj Close\n",
              "count         1258       1258       1258  ...       1258      1258       1258\n",
              "unique        1258        957        956  ...        943      1250       1184\n",
              "top     2014-09-18  74.839996  75.190002  ...  73.510002  12653800  69.701339\n",
              "freq             1          5          5  ...          5         2          3\n",
              "\n",
              "[4 rows x 7 columns]"
            ]
          },
          "metadata": {},
          "execution_count": 7
        }
      ]
    },
    {
      "cell_type": "markdown",
      "metadata": {
        "id": "MbDr8u4qib9X"
      },
      "source": [
        "7. Format the numbers to show only 2 decimal places"
      ]
    },
    {
      "cell_type": "code",
      "metadata": {
        "colab": {
          "base_uri": "https://localhost:8080/",
          "height": 206
        },
        "id": "QY2Qg_X96sz8",
        "outputId": "eae1362e-7986-4a45-9207-41bb84fe7b94"
      },
      "source": [
        "#Moving it definitely toPandas() to make it easier to manage the df and set datatypes. \n",
        "df2 = df.toPandas().astype({'Date': \"string\", 'Open': float, 'High': float, 'Low': float, 'Close': float, 'Volume': float, 'Adj Close': float})\n",
        "pd.options.display.float_format = '{:.2f}'.format\n",
        "df2.head()"
      ],
      "execution_count": 8,
      "outputs": [
        {
          "output_type": "execute_result",
          "data": {
            "text/html": [
              "<div>\n",
              "<style scoped>\n",
              "    .dataframe tbody tr th:only-of-type {\n",
              "        vertical-align: middle;\n",
              "    }\n",
              "\n",
              "    .dataframe tbody tr th {\n",
              "        vertical-align: top;\n",
              "    }\n",
              "\n",
              "    .dataframe thead th {\n",
              "        text-align: right;\n",
              "    }\n",
              "</style>\n",
              "<table border=\"1\" class=\"dataframe\">\n",
              "  <thead>\n",
              "    <tr style=\"text-align: right;\">\n",
              "      <th></th>\n",
              "      <th>Date</th>\n",
              "      <th>Open</th>\n",
              "      <th>High</th>\n",
              "      <th>Low</th>\n",
              "      <th>Close</th>\n",
              "      <th>Volume</th>\n",
              "      <th>Adj Close</th>\n",
              "    </tr>\n",
              "  </thead>\n",
              "  <tbody>\n",
              "    <tr>\n",
              "      <th>0</th>\n",
              "      <td>2012-01-03</td>\n",
              "      <td>59.97</td>\n",
              "      <td>61.06</td>\n",
              "      <td>59.87</td>\n",
              "      <td>60.33</td>\n",
              "      <td>12668800.00</td>\n",
              "      <td>52.62</td>\n",
              "    </tr>\n",
              "    <tr>\n",
              "      <th>1</th>\n",
              "      <td>2012-01-04</td>\n",
              "      <td>60.21</td>\n",
              "      <td>60.35</td>\n",
              "      <td>59.47</td>\n",
              "      <td>59.71</td>\n",
              "      <td>9593300.00</td>\n",
              "      <td>52.08</td>\n",
              "    </tr>\n",
              "    <tr>\n",
              "      <th>2</th>\n",
              "      <td>2012-01-05</td>\n",
              "      <td>59.35</td>\n",
              "      <td>59.62</td>\n",
              "      <td>58.37</td>\n",
              "      <td>59.42</td>\n",
              "      <td>12768200.00</td>\n",
              "      <td>51.83</td>\n",
              "    </tr>\n",
              "    <tr>\n",
              "      <th>3</th>\n",
              "      <td>2012-01-06</td>\n",
              "      <td>59.42</td>\n",
              "      <td>59.45</td>\n",
              "      <td>58.87</td>\n",
              "      <td>59.00</td>\n",
              "      <td>8069400.00</td>\n",
              "      <td>51.46</td>\n",
              "    </tr>\n",
              "    <tr>\n",
              "      <th>4</th>\n",
              "      <td>2012-01-09</td>\n",
              "      <td>59.03</td>\n",
              "      <td>59.55</td>\n",
              "      <td>58.92</td>\n",
              "      <td>59.18</td>\n",
              "      <td>6679300.00</td>\n",
              "      <td>51.62</td>\n",
              "    </tr>\n",
              "  </tbody>\n",
              "</table>\n",
              "</div>"
            ],
            "text/plain": [
              "         Date  Open  High   Low  Close      Volume  Adj Close\n",
              "0  2012-01-03 59.97 61.06 59.87  60.33 12668800.00      52.62\n",
              "1  2012-01-04 60.21 60.35 59.47  59.71  9593300.00      52.08\n",
              "2  2012-01-05 59.35 59.62 58.37  59.42 12768200.00      51.83\n",
              "3  2012-01-06 59.42 59.45 58.87  59.00  8069400.00      51.46\n",
              "4  2012-01-09 59.03 59.55 58.92  59.18  6679300.00      51.62"
            ]
          },
          "metadata": {},
          "execution_count": 8
        }
      ]
    },
    {
      "cell_type": "markdown",
      "metadata": {
        "id": "2rfa3jSElGwD"
      },
      "source": [
        "8. Create a new DataFrame with a column called  'HV Ratio' that is the ratio of the High Price vs Volume of Stock traded for a day"
      ]
    },
    {
      "cell_type": "code",
      "metadata": {
        "colab": {
          "base_uri": "https://localhost:8080/",
          "height": 206
        },
        "id": "eTlRnDZ9j4MK",
        "outputId": "5872f706-aa30-4208-e058-efd9d39a5aa4"
      },
      "source": [
        "newdf = df2; newdf['HV Ratio'] = newdf['High']/newdf['Volume']\n",
        "newdf.head()"
      ],
      "execution_count": 9,
      "outputs": [
        {
          "output_type": "execute_result",
          "data": {
            "text/html": [
              "<div>\n",
              "<style scoped>\n",
              "    .dataframe tbody tr th:only-of-type {\n",
              "        vertical-align: middle;\n",
              "    }\n",
              "\n",
              "    .dataframe tbody tr th {\n",
              "        vertical-align: top;\n",
              "    }\n",
              "\n",
              "    .dataframe thead th {\n",
              "        text-align: right;\n",
              "    }\n",
              "</style>\n",
              "<table border=\"1\" class=\"dataframe\">\n",
              "  <thead>\n",
              "    <tr style=\"text-align: right;\">\n",
              "      <th></th>\n",
              "      <th>Date</th>\n",
              "      <th>Open</th>\n",
              "      <th>High</th>\n",
              "      <th>Low</th>\n",
              "      <th>Close</th>\n",
              "      <th>Volume</th>\n",
              "      <th>Adj Close</th>\n",
              "      <th>HV Ratio</th>\n",
              "    </tr>\n",
              "  </thead>\n",
              "  <tbody>\n",
              "    <tr>\n",
              "      <th>0</th>\n",
              "      <td>2012-01-03</td>\n",
              "      <td>59.97</td>\n",
              "      <td>61.06</td>\n",
              "      <td>59.87</td>\n",
              "      <td>60.33</td>\n",
              "      <td>12668800.00</td>\n",
              "      <td>52.62</td>\n",
              "      <td>0.00</td>\n",
              "    </tr>\n",
              "    <tr>\n",
              "      <th>1</th>\n",
              "      <td>2012-01-04</td>\n",
              "      <td>60.21</td>\n",
              "      <td>60.35</td>\n",
              "      <td>59.47</td>\n",
              "      <td>59.71</td>\n",
              "      <td>9593300.00</td>\n",
              "      <td>52.08</td>\n",
              "      <td>0.00</td>\n",
              "    </tr>\n",
              "    <tr>\n",
              "      <th>2</th>\n",
              "      <td>2012-01-05</td>\n",
              "      <td>59.35</td>\n",
              "      <td>59.62</td>\n",
              "      <td>58.37</td>\n",
              "      <td>59.42</td>\n",
              "      <td>12768200.00</td>\n",
              "      <td>51.83</td>\n",
              "      <td>0.00</td>\n",
              "    </tr>\n",
              "    <tr>\n",
              "      <th>3</th>\n",
              "      <td>2012-01-06</td>\n",
              "      <td>59.42</td>\n",
              "      <td>59.45</td>\n",
              "      <td>58.87</td>\n",
              "      <td>59.00</td>\n",
              "      <td>8069400.00</td>\n",
              "      <td>51.46</td>\n",
              "      <td>0.00</td>\n",
              "    </tr>\n",
              "    <tr>\n",
              "      <th>4</th>\n",
              "      <td>2012-01-09</td>\n",
              "      <td>59.03</td>\n",
              "      <td>59.55</td>\n",
              "      <td>58.92</td>\n",
              "      <td>59.18</td>\n",
              "      <td>6679300.00</td>\n",
              "      <td>51.62</td>\n",
              "      <td>0.00</td>\n",
              "    </tr>\n",
              "  </tbody>\n",
              "</table>\n",
              "</div>"
            ],
            "text/plain": [
              "         Date  Open  High   Low  Close      Volume  Adj Close  HV Ratio\n",
              "0  2012-01-03 59.97 61.06 59.87  60.33 12668800.00      52.62      0.00\n",
              "1  2012-01-04 60.21 60.35 59.47  59.71  9593300.00      52.08      0.00\n",
              "2  2012-01-05 59.35 59.62 58.37  59.42 12768200.00      51.83      0.00\n",
              "3  2012-01-06 59.42 59.45 58.87  59.00  8069400.00      51.46      0.00\n",
              "4  2012-01-09 59.03 59.55 58.92  59.18  6679300.00      51.62      0.00"
            ]
          },
          "metadata": {},
          "execution_count": 9
        }
      ]
    },
    {
      "cell_type": "markdown",
      "metadata": {
        "id": "cW7LAugbj3Uy"
      },
      "source": [
        "You may think: It makes no sense! How can the HV Ratio be always 0? Dont worry: its just that we asked pandas to only show the first two decimals. If we ask it to show, for example, 10 decimal places:"
      ]
    },
    {
      "cell_type": "code",
      "metadata": {
        "colab": {
          "base_uri": "https://localhost:8080/",
          "height": 206
        },
        "id": "C2s2uTipoKhd",
        "outputId": "8af4c3a4-7252-476f-962d-00f51bfda785"
      },
      "source": [
        "pd.options.display.float_format = '{:.8f}'.format\n",
        "newdf.head()"
      ],
      "execution_count": 10,
      "outputs": [
        {
          "output_type": "execute_result",
          "data": {
            "text/html": [
              "<div>\n",
              "<style scoped>\n",
              "    .dataframe tbody tr th:only-of-type {\n",
              "        vertical-align: middle;\n",
              "    }\n",
              "\n",
              "    .dataframe tbody tr th {\n",
              "        vertical-align: top;\n",
              "    }\n",
              "\n",
              "    .dataframe thead th {\n",
              "        text-align: right;\n",
              "    }\n",
              "</style>\n",
              "<table border=\"1\" class=\"dataframe\">\n",
              "  <thead>\n",
              "    <tr style=\"text-align: right;\">\n",
              "      <th></th>\n",
              "      <th>Date</th>\n",
              "      <th>Open</th>\n",
              "      <th>High</th>\n",
              "      <th>Low</th>\n",
              "      <th>Close</th>\n",
              "      <th>Volume</th>\n",
              "      <th>Adj Close</th>\n",
              "      <th>HV Ratio</th>\n",
              "    </tr>\n",
              "  </thead>\n",
              "  <tbody>\n",
              "    <tr>\n",
              "      <th>0</th>\n",
              "      <td>2012-01-03</td>\n",
              "      <td>59.97000100</td>\n",
              "      <td>61.06000100</td>\n",
              "      <td>59.86999900</td>\n",
              "      <td>60.33000200</td>\n",
              "      <td>12668800.00000000</td>\n",
              "      <td>52.61923500</td>\n",
              "      <td>0.00000482</td>\n",
              "    </tr>\n",
              "    <tr>\n",
              "      <th>1</th>\n",
              "      <td>2012-01-04</td>\n",
              "      <td>60.20999900</td>\n",
              "      <td>60.34999800</td>\n",
              "      <td>59.47000100</td>\n",
              "      <td>59.70999900</td>\n",
              "      <td>9593300.00000000</td>\n",
              "      <td>52.07847500</td>\n",
              "      <td>0.00000629</td>\n",
              "    </tr>\n",
              "    <tr>\n",
              "      <th>2</th>\n",
              "      <td>2012-01-05</td>\n",
              "      <td>59.34999800</td>\n",
              "      <td>59.61999900</td>\n",
              "      <td>58.36999900</td>\n",
              "      <td>59.41999800</td>\n",
              "      <td>12768200.00000000</td>\n",
              "      <td>51.82553900</td>\n",
              "      <td>0.00000467</td>\n",
              "    </tr>\n",
              "    <tr>\n",
              "      <th>3</th>\n",
              "      <td>2012-01-06</td>\n",
              "      <td>59.41999800</td>\n",
              "      <td>59.45000100</td>\n",
              "      <td>58.86999900</td>\n",
              "      <td>59.00000000</td>\n",
              "      <td>8069400.00000000</td>\n",
              "      <td>51.45922000</td>\n",
              "      <td>0.00000737</td>\n",
              "    </tr>\n",
              "    <tr>\n",
              "      <th>4</th>\n",
              "      <td>2012-01-09</td>\n",
              "      <td>59.02999900</td>\n",
              "      <td>59.54999900</td>\n",
              "      <td>58.91999800</td>\n",
              "      <td>59.18000000</td>\n",
              "      <td>6679300.00000000</td>\n",
              "      <td>51.61621500</td>\n",
              "      <td>0.00000892</td>\n",
              "    </tr>\n",
              "  </tbody>\n",
              "</table>\n",
              "</div>"
            ],
            "text/plain": [
              "         Date        Open        High  ...            Volume   Adj Close   HV Ratio\n",
              "0  2012-01-03 59.97000100 61.06000100  ... 12668800.00000000 52.61923500 0.00000482\n",
              "1  2012-01-04 60.20999900 60.34999800  ...  9593300.00000000 52.07847500 0.00000629\n",
              "2  2012-01-05 59.34999800 59.61999900  ... 12768200.00000000 51.82553900 0.00000467\n",
              "3  2012-01-06 59.41999800 59.45000100  ...  8069400.00000000 51.45922000 0.00000737\n",
              "4  2012-01-09 59.02999900 59.54999900  ...  6679300.00000000 51.61621500 0.00000892\n",
              "\n",
              "[5 rows x 8 columns]"
            ]
          },
          "metadata": {},
          "execution_count": 10
        }
      ]
    },
    {
      "cell_type": "markdown",
      "metadata": {
        "id": "X3bii2NaoaJa"
      },
      "source": [
        "9. What day had the Peak High in Price?"
      ]
    },
    {
      "cell_type": "markdown",
      "metadata": {
        "id": "vNLTVsA_of7T"
      },
      "source": [
        "This is easy to do with sql:"
      ]
    },
    {
      "cell_type": "code",
      "metadata": {
        "colab": {
          "base_uri": "https://localhost:8080/"
        },
        "id": "hZ_07XJVod1Y",
        "outputId": "e2884c23-0930-42ef-c568-ee5f96b786f7"
      },
      "source": [
        "df.createOrReplaceTempView(\"Wallmart\")\n",
        "spark.sql(\"SELECT Date FROM Wallmart where High = (SELECT MAX(High) from Wallmart);\").show()"
      ],
      "execution_count": 11,
      "outputs": [
        {
          "output_type": "stream",
          "name": "stdout",
          "text": [
            "+----------+\n",
            "|      Date|\n",
            "+----------+\n",
            "|2015-01-13|\n",
            "+----------+\n",
            "\n"
          ]
        }
      ]
    },
    {
      "cell_type": "markdown",
      "metadata": {
        "id": "IFUHpaFCyhT7"
      },
      "source": [
        "10. What is the mean of the Close column"
      ]
    },
    {
      "cell_type": "code",
      "metadata": {
        "id": "kJnitBUZ8Caa",
        "colab": {
          "base_uri": "https://localhost:8080/"
        },
        "outputId": "c7fb611d-81fa-4950-c246-f4682f39cebc"
      },
      "source": [
        "spark.sql(\"SELECT AVG(Close) from Wallmart;\").show()"
      ],
      "execution_count": 12,
      "outputs": [
        {
          "output_type": "stream",
          "name": "stdout",
          "text": [
            "+--------------------------+\n",
            "|avg(CAST(Close AS DOUBLE))|\n",
            "+--------------------------+\n",
            "|         72.38844998012726|\n",
            "+--------------------------+\n",
            "\n"
          ]
        }
      ]
    },
    {
      "cell_type": "markdown",
      "metadata": {
        "id": "JEIGnZt3y6cs"
      },
      "source": [
        "11. What is the max and min of the Volume column?"
      ]
    },
    {
      "cell_type": "code",
      "metadata": {
        "colab": {
          "base_uri": "https://localhost:8080/"
        },
        "id": "hYLYLRPNiaPd",
        "outputId": "ced1d045-6b8c-40b0-8e34-ef1a71257ca3"
      },
      "source": [
        "spark.sql(\"SELECT MIN(Volume), MAX(Volume) from Wallmart;\").show()"
      ],
      "execution_count": 13,
      "outputs": [
        {
          "output_type": "stream",
          "name": "stdout",
          "text": [
            "+-----------+-----------+\n",
            "|min(Volume)|max(Volume)|\n",
            "+-----------+-----------+\n",
            "|   10010500|    9994400|\n",
            "+-----------+-----------+\n",
            "\n"
          ]
        }
      ]
    },
    {
      "cell_type": "markdown",
      "metadata": {
        "id": "ArqLxHNSzJlR"
      },
      "source": [
        "12. How many days was the Close lower than 60 dollars?"
      ]
    },
    {
      "cell_type": "code",
      "metadata": {
        "colab": {
          "base_uri": "https://localhost:8080/"
        },
        "id": "ni5ivgXUzBjJ",
        "outputId": "868a0c46-a5ed-4e05-ecb6-424409e64198"
      },
      "source": [
        "spark.sql(\"SELECT COUNT(Date) from Wallmart WHERE Close < 60;\").show()"
      ],
      "execution_count": 14,
      "outputs": [
        {
          "output_type": "stream",
          "name": "stdout",
          "text": [
            "+-----------+\n",
            "|count(Date)|\n",
            "+-----------+\n",
            "|         81|\n",
            "+-----------+\n",
            "\n"
          ]
        }
      ]
    },
    {
      "cell_type": "markdown",
      "metadata": {
        "id": "KDpQbHLgz5GJ"
      },
      "source": [
        "13. What percentage of time was the High greater than 80 dollars?"
      ]
    },
    {
      "cell_type": "code",
      "metadata": {
        "colab": {
          "base_uri": "https://localhost:8080/"
        },
        "id": "H4VY79X4zl-1",
        "outputId": "be3b7c89-d9d5-4e8f-b2da-e3b6eeff0a94"
      },
      "source": [
        "spark.sql(\"SELECT COUNT(Date) from Wallmart WHERE High > 80;\").show()"
      ],
      "execution_count": 15,
      "outputs": [
        {
          "output_type": "stream",
          "name": "stdout",
          "text": [
            "+-----------+\n",
            "|count(Date)|\n",
            "+-----------+\n",
            "|        106|\n",
            "+-----------+\n",
            "\n"
          ]
        }
      ]
    },
    {
      "cell_type": "markdown",
      "metadata": {
        "id": "p1Oh_GuV0TiM"
      },
      "source": [
        "14. What is the Pearson correlation between High and Volume?"
      ]
    },
    {
      "cell_type": "markdown",
      "metadata": {
        "id": "JuA7KCu00kJT"
      },
      "source": [
        "This works better with Pandas:"
      ]
    },
    {
      "cell_type": "code",
      "metadata": {
        "colab": {
          "base_uri": "https://localhost:8080/"
        },
        "id": "ufP9ERVVz-qY",
        "outputId": "8ae4b386-02c9-40ef-d896-20d5943df011"
      },
      "source": [
        "newdf['High'].corr(newdf['Volume'])"
      ],
      "execution_count": 16,
      "outputs": [
        {
          "output_type": "execute_result",
          "data": {
            "text/plain": [
              "-0.3384326061737164"
            ]
          },
          "metadata": {},
          "execution_count": 16
        }
      ]
    },
    {
      "cell_type": "markdown",
      "metadata": {
        "id": "A7kGYNct1AOq"
      },
      "source": [
        "15. What is the max High per year?"
      ]
    },
    {
      "cell_type": "markdown",
      "metadata": {
        "id": "90HbMcA41CTp"
      },
      "source": [
        "For this, we need to set the datatype of the date column as datetime, so that python can work with it; then, we can work with the code:"
      ]
    },
    {
      "cell_type": "code",
      "metadata": {
        "colab": {
          "base_uri": "https://localhost:8080/"
        },
        "id": "h1DQrWsY06J1",
        "outputId": "3e882bb0-624a-4fd5-b0e2-dbeb779aa1a3"
      },
      "source": [
        "newdf['Date'] = pd.to_datetime(newdf['Date'], format='%Y-%m-%d')\n",
        "newdf.groupby(newdf['Date'].dt.year)['High'].max()"
      ],
      "execution_count": 17,
      "outputs": [
        {
          "output_type": "execute_result",
          "data": {
            "text/plain": [
              "Date\n",
              "2012   77.59999800\n",
              "2013   81.37000300\n",
              "2014   88.08999600\n",
              "2015   90.97000100\n",
              "2016   75.19000200\n",
              "Name: High, dtype: float64"
            ]
          },
          "metadata": {},
          "execution_count": 17
        }
      ]
    },
    {
      "cell_type": "markdown",
      "metadata": {
        "id": "sJgydUa39KoQ"
      },
      "source": [
        "16. What is the average Close for each calendar month?"
      ]
    },
    {
      "cell_type": "code",
      "metadata": {
        "id": "OiT13pfS0-q6",
        "colab": {
          "base_uri": "https://localhost:8080/"
        },
        "outputId": "7e117fc5-97f9-49f0-c287-cce903c9689d"
      },
      "source": [
        "newdf.groupby(newdf['Date'].dt.month)['Close'].mean()"
      ],
      "execution_count": 18,
      "outputs": [
        {
          "output_type": "execute_result",
          "data": {
            "text/plain": [
              "Date\n",
              "1    71.44801958\n",
              "2    71.30680444\n",
              "3    71.77794378\n",
              "4    72.97361901\n",
              "5    72.30971689\n",
              "6    72.49537742\n",
              "7    74.43971944\n",
              "8    73.02981855\n",
              "9    72.18411785\n",
              "10   71.57854545\n",
              "11   72.11108931\n",
              "12   72.84792478\n",
              "Name: Close, dtype: float64"
            ]
          },
          "metadata": {},
          "execution_count": 18
        }
      ]
    }
  ]
}