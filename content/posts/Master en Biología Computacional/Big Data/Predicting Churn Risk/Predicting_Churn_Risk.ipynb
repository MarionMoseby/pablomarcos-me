{
 "cells": [
  {
   "cell_type": "markdown",
   "metadata": {
    "id": "u4vbSQ3b7Rdj"
   },
   "source": [
    "Your goal is to create a model that can predict whether a customer will churn (0 or 1) based on the features in [this dataset](https://www.kaggle.com/hassanamin/customer-churn). See the slides for more information."
   ]
  },
  {
   "cell_type": "markdown",
   "metadata": {
    "id": "-3pVKLih7ctP"
   },
   "source": [
    "First, we need to create the Spark Session"
   ]
  },
  {
   "cell_type": "code",
   "execution_count": null,
   "metadata": {
    "id": "DVqBtt-e6_hR"
   },
   "outputs": [],
   "source": [
    "!apt-get install openjdk-8-jdk-headless -qq > /dev/null\n",
    "!wget -q https://mirrors.sonic.net/apache/spark/spark-3.1.2/spark-3.1.2-bin-hadoop3.2.tgz\n",
    "!tar xzf spark-3.1.2-bin-hadoop3.2.tgz\n",
    "!pip install -q findspark\n",
    "\n",
    "\n",
    "import os\n",
    "os.environ[\"JAVA_HOME\"] = \"/usr/lib/jvm/java-8-openjdk-amd64\"\n",
    "os.environ[\"SPARK_HOME\"] = \"/content/spark-3.1.2-bin-hadoop3.2\"\n",
    "\n",
    "\n",
    "import findspark\n",
    "findspark.init()\n",
    "from pyspark.sql import SparkSession\n",
    "spark = SparkSession.builder.master(\"local[*]\").getOrCreate()"
   ]
  },
  {
   "cell_type": "markdown",
   "metadata": {
    "id": "luQ04ieM7jLk"
   },
   "source": [
    "Afterwards, we can read the file and inspect it"
   ]
  },
  {
   "cell_type": "code",
   "execution_count": null,
   "metadata": {
    "colab": {
     "base_uri": "https://localhost:8080/",
     "height": 241
    },
    "id": "Xcw_Wm907flN",
    "outputId": "fdc70da1-12ee-482b-de49-5e5e99cedced"
   },
   "outputs": [
    {
     "data": {
      "text/html": [
       "<div>\n",
       "<style scoped>\n",
       "    .dataframe tbody tr th:only-of-type {\n",
       "        vertical-align: middle;\n",
       "    }\n",
       "\n",
       "    .dataframe tbody tr th {\n",
       "        vertical-align: top;\n",
       "    }\n",
       "\n",
       "    .dataframe thead th {\n",
       "        text-align: right;\n",
       "    }\n",
       "</style>\n",
       "<table border=\"1\" class=\"dataframe\">\n",
       "  <thead>\n",
       "    <tr style=\"text-align: right;\">\n",
       "      <th></th>\n",
       "      <th>summary</th>\n",
       "      <th>Names</th>\n",
       "      <th>Age</th>\n",
       "      <th>Total_Purchase</th>\n",
       "      <th>Account_Manager</th>\n",
       "      <th>Years</th>\n",
       "      <th>Num_Sites</th>\n",
       "      <th>Onboard_date</th>\n",
       "      <th>Location</th>\n",
       "      <th>Company</th>\n",
       "      <th>Churn</th>\n",
       "    </tr>\n",
       "  </thead>\n",
       "  <tbody>\n",
       "    <tr>\n",
       "      <th>0</th>\n",
       "      <td>count</td>\n",
       "      <td>900</td>\n",
       "      <td>900</td>\n",
       "      <td>900</td>\n",
       "      <td>900</td>\n",
       "      <td>900</td>\n",
       "      <td>900</td>\n",
       "      <td>900</td>\n",
       "      <td>900</td>\n",
       "      <td>900</td>\n",
       "      <td>900</td>\n",
       "    </tr>\n",
       "    <tr>\n",
       "      <th>1</th>\n",
       "      <td>mean</td>\n",
       "      <td>None</td>\n",
       "      <td>41.81666666666667</td>\n",
       "      <td>10062.82403333334</td>\n",
       "      <td>0.4811111111111111</td>\n",
       "      <td>5.27315555555555</td>\n",
       "      <td>8.587777777777777</td>\n",
       "      <td>None</td>\n",
       "      <td>None</td>\n",
       "      <td>None</td>\n",
       "      <td>0.16666666666666666</td>\n",
       "    </tr>\n",
       "    <tr>\n",
       "      <th>2</th>\n",
       "      <td>stddev</td>\n",
       "      <td>None</td>\n",
       "      <td>6.127560416916251</td>\n",
       "      <td>2408.644531858096</td>\n",
       "      <td>0.4999208935073339</td>\n",
       "      <td>1.274449013194616</td>\n",
       "      <td>1.7648355920350969</td>\n",
       "      <td>None</td>\n",
       "      <td>None</td>\n",
       "      <td>None</td>\n",
       "      <td>0.3728852122772358</td>\n",
       "    </tr>\n",
       "    <tr>\n",
       "      <th>3</th>\n",
       "      <td>min</td>\n",
       "      <td>Aaron King</td>\n",
       "      <td>22.0</td>\n",
       "      <td>100.0</td>\n",
       "      <td>0</td>\n",
       "      <td>1.0</td>\n",
       "      <td>3.0</td>\n",
       "      <td>2006-01-02 04:16:13</td>\n",
       "      <td>00103 Jeffrey Crest Apt. 205 Padillaville, IA ...</td>\n",
       "      <td>Abbott-Thompson</td>\n",
       "      <td>0</td>\n",
       "    </tr>\n",
       "    <tr>\n",
       "      <th>4</th>\n",
       "      <td>max</td>\n",
       "      <td>Zachary Walsh</td>\n",
       "      <td>65.0</td>\n",
       "      <td>18026.01</td>\n",
       "      <td>1</td>\n",
       "      <td>9.15</td>\n",
       "      <td>14.0</td>\n",
       "      <td>2016-12-28 04:07:38</td>\n",
       "      <td>Unit 9800 Box 2878 DPO AA 75157</td>\n",
       "      <td>Zuniga, Clark and Shaffer</td>\n",
       "      <td>1</td>\n",
       "    </tr>\n",
       "  </tbody>\n",
       "</table>\n",
       "</div>"
      ],
      "text/plain": [
       "  summary          Names  ...                    Company                Churn\n",
       "0   count            900  ...                        900                  900\n",
       "1    mean           None  ...                       None  0.16666666666666666\n",
       "2  stddev           None  ...                       None   0.3728852122772358\n",
       "3     min     Aaron King  ...            Abbott-Thompson                    0\n",
       "4     max  Zachary Walsh  ...  Zuniga, Clark and Shaffer                    1\n",
       "\n",
       "[5 rows x 11 columns]"
      ]
     },
     "execution_count": 2,
     "metadata": {},
     "output_type": "execute_result"
    }
   ],
   "source": [
    "#Please drop the file in the environment's 'Files' panel\n",
    "df = spark.read.options(header=\"true\", inferSchema=\"true\").csv(\"/content/customer_churn.csv\")\n",
    "df.describe().toPandas()"
   ]
  },
  {
   "cell_type": "code",
   "execution_count": null,
   "metadata": {
    "colab": {
     "base_uri": "https://localhost:8080/"
    },
    "id": "YiYrIJ2X8Vkg",
    "outputId": "b31f1edc-0420-45b1-ce20-3fbc7d917463"
   },
   "outputs": [
    {
     "name": "stdout",
     "output_type": "stream",
     "text": [
      "root\n",
      " |-- Names: string (nullable = true)\n",
      " |-- Age: double (nullable = true)\n",
      " |-- Total_Purchase: double (nullable = true)\n",
      " |-- Account_Manager: integer (nullable = true)\n",
      " |-- Years: double (nullable = true)\n",
      " |-- Num_Sites: double (nullable = true)\n",
      " |-- Onboard_date: string (nullable = true)\n",
      " |-- Location: string (nullable = true)\n",
      " |-- Company: string (nullable = true)\n",
      " |-- Churn: integer (nullable = true)\n",
      "\n"
     ]
    }
   ],
   "source": [
    "#To see which columns we wish to select, we do:\n",
    "df.printSchema()"
   ]
  },
  {
   "cell_type": "markdown",
   "metadata": {
    "id": "0sAwQoeQBee_"
   },
   "source": [
    "Here, we have to think wether it is work to index some columns: Both company name and location are pretty much unique, so I see no use for indexing them, although it could be interesting (but far too complicated) to index by country, for instance. I could also index the date by year, or add it to the model as datetime variable type, but, since I dont recall how to tell spark to accept a column as datetime (cant get .to_date() to work :/ ) I will leave it out for now."
   ]
  },
  {
   "cell_type": "code",
   "execution_count": null,
   "metadata": {
    "id": "S_5L4LkH8icN"
   },
   "outputs": [],
   "source": [
    "#And we proceed to select them:\n",
    "mycols =  df.select(['Churn', 'Age', 'Total_Purchase', 'Years', 'Num_sites'])\n",
    "#Hint: since 'Account_Manager' is currently selected as random, we dont have to select it :p\n",
    "final_train = mycols.na.drop()"
   ]
  },
  {
   "cell_type": "markdown",
   "metadata": {
    "id": "PgV9tRRU74e6"
   },
   "source": [
    "Since this dataset did not provide us with a 'train' and a 'test' sub-database, we need to manually make the divission ourselves. Thus:"
   ]
  },
  {
   "cell_type": "code",
   "execution_count": null,
   "metadata": {
    "colab": {
     "base_uri": "https://localhost:8080/"
    },
    "id": "1gUeszNw74NW",
    "outputId": "5e070cb7-4580-472e-eda8-eb931499cb8d"
   },
   "outputs": [
    {
     "name": "stdout",
     "output_type": "stream",
     "text": [
      "+-------+-------------------+------------------+------------------+------------------+------------------+\n",
      "|summary|              Churn|               Age|    Total_Purchase|             Years|         Num_sites|\n",
      "+-------+-------------------+------------------+------------------+------------------+------------------+\n",
      "|  count|                604|               604|               604|               604|               604|\n",
      "|   mean| 0.1456953642384106|41.764900662251655|10058.752913907281|  5.24854304635762| 8.509933774834437|\n",
      "| stddev|0.35309296232693316| 6.293619382523293|2443.5585608960027|1.2693878324304124|1.6725966135800687|\n",
      "|    min|                  0|              22.0|             100.0|               1.0|               4.0|\n",
      "|    max|                  1|              65.0|          16955.76|              9.15|              13.0|\n",
      "+-------+-------------------+------------------+------------------+------------------+------------------+\n",
      "\n",
      "+-------+-------------------+-----------------+------------------+------------------+-----------------+\n",
      "|summary|              Churn|              Age|    Total_Purchase|             Years|        Num_sites|\n",
      "+-------+-------------------+-----------------+------------------+------------------+-----------------+\n",
      "|  count|                296|              296|               296|               296|              296|\n",
      "|   mean|0.20945945945945946| 41.9222972972973|10071.131317567566|5.3233783783783775|8.746621621621621|\n",
      "| stddev|0.40761195202746325|5.782853919155999| 2339.838924409756| 1.285407304203774|1.932765316381917|\n",
      "|    min|                  0|             27.0|            3263.0|              1.81|              3.0|\n",
      "|    max|                  1|             58.0|          18026.01|              8.84|             14.0|\n",
      "+-------+-------------------+-----------------+------------------+------------------+-----------------+\n",
      "\n"
     ]
    },
    {
     "data": {
      "text/plain": [
       "(None, None)"
      ]
     },
     "execution_count": 29,
     "metadata": {},
     "output_type": "execute_result"
    }
   ],
   "source": [
    "(train, test) = final_train.randomSplit([0.7,0.3])\n",
    "train.describe().show(), test.describe().show()"
   ]
  },
  {
   "cell_type": "markdown",
   "metadata": {
    "id": "-PdBNUI2A9A0"
   },
   "source": [
    "Since it seems like the divission was correctly made, and like we have enough items both in the train and test dataframes, we can proceed to building the model based on the train data:"
   ]
  },
  {
   "cell_type": "code",
   "execution_count": null,
   "metadata": {
    "id": "Y7iAzSeG7xL9"
   },
   "outputs": [],
   "source": [
    "from pyspark.ml.feature import (VectorAssembler, OneHotEncoder, VectorIndexer, StringIndexer)\n",
    "assembler = VectorAssembler(inputCols=['Age', 'Total_Purchase', 'Years', 'Num_sites'],\n",
    "                            outputCol='features')"
   ]
  },
  {
   "cell_type": "markdown",
   "metadata": {
    "id": "P5mgmimSHN68"
   },
   "source": [
    "Interesting to know is that we can use: \n",
    "\n",
    "\n",
    "```\n",
    "from pyspark.ml.feature import (VectorAssembler, OneHotEncoder, VectorIndexer, StringIndexer)\n",
    "\n",
    "gender_indexer = StringIndexer(inputCol='Sex', outputCol='SexIndex')\n",
    "gender_encoder = OneHotEncoder(inputCol='SexIndex', outputCol='SexVec')\n",
    "\n",
    "embarked_indexer = StringIndexer(inputCol='Embarked', outputCol='EmbarkedIndex')\n",
    "embarked_encoder = OneHotEncoder(inputCol='EmbarkedIndex', outputCol='EmbarkedVec')\n",
    "```\n",
    "\n",
    "To index vectors, and then add this to pipeline and assembler:     \n",
    "\n",
    "```\n",
    "assembler = VectorAssembler(inputCols=['Pclass','SexVec','Age','SibSp','Parch','Fare','EmbarkedVec'],\n",
    "                            outputCol='features')\n",
    "\n",
    "pipeline = Pipeline(stages=[gender_indexer, embarked_indexer, gender_encoder, embarked_encoder, assembler, lr])\n",
    "```\n",
    "\n",
    "To work with parameters such as sex or others; however, as I have discussed previously, I will not use this here."
   ]
  },
  {
   "cell_type": "code",
   "execution_count": null,
   "metadata": {
    "id": "mKH_eLeTCaeI"
   },
   "outputs": [],
   "source": [
    "from pyspark.ml.classification import LogisticRegression\n",
    "lr = LogisticRegression(featuresCol='features', labelCol='Churn')"
   ]
  },
  {
   "cell_type": "code",
   "execution_count": null,
   "metadata": {
    "id": "DPoGdmUUCm5n"
   },
   "outputs": [],
   "source": [
    "from pyspark.ml import Pipeline\n",
    "pipeline = Pipeline(stages=[assembler, lr])"
   ]
  },
  {
   "cell_type": "code",
   "execution_count": null,
   "metadata": {
    "id": "MwGATP8KFmd6"
   },
   "outputs": [],
   "source": [
    "model = pipeline.fit(train)"
   ]
  },
  {
   "cell_type": "markdown",
   "metadata": {
    "id": "-4B6J2y5FxzF"
   },
   "source": [
    "Once we have developed the model, we curate the test data and use this "
   ]
  },
  {
   "cell_type": "code",
   "execution_count": null,
   "metadata": {
    "id": "5G4TE0enDEO_"
   },
   "outputs": [],
   "source": [
    "curated_test = test.na.drop()\n",
    "predictions = model.transform(curated_test)"
   ]
  },
  {
   "cell_type": "markdown",
   "metadata": {
    "id": "Jz8box9lG6V-"
   },
   "source": [
    "Lets see the results!"
   ]
  },
  {
   "cell_type": "code",
   "execution_count": 49,
   "metadata": {
    "colab": {
     "base_uri": "https://localhost:8080/",
     "height": 424
    },
    "id": "-Eag5ui5DHJq",
    "outputId": "bc2f84cd-41ba-4324-e919-10c6ce98f102"
   },
   "outputs": [
    {
     "data": {
      "text/html": [
       "<div>\n",
       "<style scoped>\n",
       "    .dataframe tbody tr th:only-of-type {\n",
       "        vertical-align: middle;\n",
       "    }\n",
       "\n",
       "    .dataframe tbody tr th {\n",
       "        vertical-align: top;\n",
       "    }\n",
       "\n",
       "    .dataframe thead th {\n",
       "        text-align: right;\n",
       "    }\n",
       "</style>\n",
       "<table border=\"1\" class=\"dataframe\">\n",
       "  <thead>\n",
       "    <tr style=\"text-align: right;\">\n",
       "      <th></th>\n",
       "      <th>Churn</th>\n",
       "      <th>Age</th>\n",
       "      <th>Total_Purchase</th>\n",
       "      <th>Years</th>\n",
       "      <th>Num_sites</th>\n",
       "      <th>features</th>\n",
       "      <th>rawPrediction</th>\n",
       "      <th>probability</th>\n",
       "      <th>prediction</th>\n",
       "    </tr>\n",
       "  </thead>\n",
       "  <tbody>\n",
       "    <tr>\n",
       "      <th>0</th>\n",
       "      <td>0</td>\n",
       "      <td>27.0</td>\n",
       "      <td>8628.80</td>\n",
       "      <td>5.30</td>\n",
       "      <td>7.0</td>\n",
       "      <td>[27.0, 8628.8, 5.3, 7.0]</td>\n",
       "      <td>[6.675936689418812, -6.675936689418812]</td>\n",
       "      <td>[0.9987406968746404, 0.001259303125359601]</td>\n",
       "      <td>0.0</td>\n",
       "    </tr>\n",
       "    <tr>\n",
       "      <th>1</th>\n",
       "      <td>0</td>\n",
       "      <td>28.0</td>\n",
       "      <td>9090.43</td>\n",
       "      <td>5.74</td>\n",
       "      <td>10.0</td>\n",
       "      <td>[28.0, 9090.43, 5.74, 10.0]</td>\n",
       "      <td>[2.1718950670750665, -2.1718950670750665]</td>\n",
       "      <td>[0.8976971350218025, 0.10230286497819752]</td>\n",
       "      <td>0.0</td>\n",
       "    </tr>\n",
       "    <tr>\n",
       "      <th>2</th>\n",
       "      <td>0</td>\n",
       "      <td>29.0</td>\n",
       "      <td>9617.59</td>\n",
       "      <td>5.49</td>\n",
       "      <td>8.0</td>\n",
       "      <td>[29.0, 9617.59, 5.49, 8.0]</td>\n",
       "      <td>[4.976543878227016, -4.976543878227016]</td>\n",
       "      <td>[0.9931493932780102, 0.006850606721989783]</td>\n",
       "      <td>0.0</td>\n",
       "    </tr>\n",
       "    <tr>\n",
       "      <th>3</th>\n",
       "      <td>0</td>\n",
       "      <td>29.0</td>\n",
       "      <td>10203.18</td>\n",
       "      <td>5.82</td>\n",
       "      <td>8.0</td>\n",
       "      <td>[29.0, 10203.18, 5.82, 8.0]</td>\n",
       "      <td>[4.801549127250805, -4.801549127250805]</td>\n",
       "      <td>[0.9918499609427239, 0.00815003905727607]</td>\n",
       "      <td>0.0</td>\n",
       "    </tr>\n",
       "    <tr>\n",
       "      <th>4</th>\n",
       "      <td>0</td>\n",
       "      <td>30.0</td>\n",
       "      <td>13473.35</td>\n",
       "      <td>3.84</td>\n",
       "      <td>10.0</td>\n",
       "      <td>[30.0, 13473.35, 3.84, 10.0]</td>\n",
       "      <td>[2.633769753642472, -2.633769753642472]</td>\n",
       "      <td>[0.9330035738020525, 0.06699642619794755]</td>\n",
       "      <td>0.0</td>\n",
       "    </tr>\n",
       "    <tr>\n",
       "      <th>...</th>\n",
       "      <td>...</td>\n",
       "      <td>...</td>\n",
       "      <td>...</td>\n",
       "      <td>...</td>\n",
       "      <td>...</td>\n",
       "      <td>...</td>\n",
       "      <td>...</td>\n",
       "      <td>...</td>\n",
       "      <td>...</td>\n",
       "    </tr>\n",
       "    <tr>\n",
       "      <th>291</th>\n",
       "      <td>1</td>\n",
       "      <td>50.0</td>\n",
       "      <td>14398.89</td>\n",
       "      <td>5.54</td>\n",
       "      <td>12.0</td>\n",
       "      <td>[50.0, 14398.89, 5.54, 12.0]</td>\n",
       "      <td>[-2.6224366916584323, 2.6224366916584323]</td>\n",
       "      <td>[0.06770831797659854, 0.9322916820234015]</td>\n",
       "      <td>1.0</td>\n",
       "    </tr>\n",
       "    <tr>\n",
       "      <th>292</th>\n",
       "      <td>1</td>\n",
       "      <td>51.0</td>\n",
       "      <td>8100.43</td>\n",
       "      <td>4.92</td>\n",
       "      <td>13.0</td>\n",
       "      <td>[51.0, 8100.43, 4.92, 13.0]</td>\n",
       "      <td>[-3.522746635680445, 3.522746635680445]</td>\n",
       "      <td>[0.02867190349642679, 0.9713280965035732]</td>\n",
       "      <td>1.0</td>\n",
       "    </tr>\n",
       "    <tr>\n",
       "      <th>293</th>\n",
       "      <td>1</td>\n",
       "      <td>55.0</td>\n",
       "      <td>5024.52</td>\n",
       "      <td>8.11</td>\n",
       "      <td>9.0</td>\n",
       "      <td>[55.0, 5024.52, 8.11, 9.0]</td>\n",
       "      <td>[0.4878396300738217, -0.4878396300738217]</td>\n",
       "      <td>[0.619597372506964, 0.380402627493036]</td>\n",
       "      <td>0.0</td>\n",
       "    </tr>\n",
       "    <tr>\n",
       "      <th>294</th>\n",
       "      <td>1</td>\n",
       "      <td>56.0</td>\n",
       "      <td>12217.95</td>\n",
       "      <td>5.79</td>\n",
       "      <td>11.0</td>\n",
       "      <td>[56.0, 12217.95, 5.79, 11.0]</td>\n",
       "      <td>[-1.7215722913002764, 1.7215722913002764]</td>\n",
       "      <td>[0.15166875344376754, 0.8483312465562325]</td>\n",
       "      <td>1.0</td>\n",
       "    </tr>\n",
       "    <tr>\n",
       "      <th>295</th>\n",
       "      <td>1</td>\n",
       "      <td>58.0</td>\n",
       "      <td>9703.93</td>\n",
       "      <td>5.16</td>\n",
       "      <td>11.0</td>\n",
       "      <td>[58.0, 9703.93, 5.16, 11.0]</td>\n",
       "      <td>[-1.4845273670253718, 1.4845273670253718]</td>\n",
       "      <td>[0.18474456093726596, 0.815255439062734]</td>\n",
       "      <td>1.0</td>\n",
       "    </tr>\n",
       "  </tbody>\n",
       "</table>\n",
       "<p>296 rows × 9 columns</p>\n",
       "</div>"
      ],
      "text/plain": [
       "     Churn   Age  ...                                 probability  prediction\n",
       "0        0  27.0  ...  [0.9987406968746404, 0.001259303125359601]         0.0\n",
       "1        0  28.0  ...   [0.8976971350218025, 0.10230286497819752]         0.0\n",
       "2        0  29.0  ...  [0.9931493932780102, 0.006850606721989783]         0.0\n",
       "3        0  29.0  ...   [0.9918499609427239, 0.00815003905727607]         0.0\n",
       "4        0  30.0  ...   [0.9330035738020525, 0.06699642619794755]         0.0\n",
       "..     ...   ...  ...                                         ...         ...\n",
       "291      1  50.0  ...   [0.06770831797659854, 0.9322916820234015]         1.0\n",
       "292      1  51.0  ...   [0.02867190349642679, 0.9713280965035732]         1.0\n",
       "293      1  55.0  ...      [0.619597372506964, 0.380402627493036]         0.0\n",
       "294      1  56.0  ...   [0.15166875344376754, 0.8483312465562325]         1.0\n",
       "295      1  58.0  ...    [0.18474456093726596, 0.815255439062734]         1.0\n",
       "\n",
       "[296 rows x 9 columns]"
      ]
     },
     "execution_count": 49,
     "metadata": {},
     "output_type": "execute_result"
    }
   ],
   "source": [
    "predictions.toPandas()"
   ]
  },
  {
   "cell_type": "markdown",
   "metadata": {
    "id": "jPtWr6zUHBmQ"
   },
   "source": [
    "Now that we have made the predictions, lets evaluate the accuracy of our prediction model:   "
   ]
  },
  {
   "cell_type": "code",
   "execution_count": 53,
   "metadata": {
    "colab": {
     "base_uri": "https://localhost:8080/"
    },
    "id": "5ohVUMWIDKD9",
    "outputId": "9952e536-04cd-47d2-9795-fa2fd0ca0a02"
   },
   "outputs": [
    {
     "data": {
      "text/plain": [
       "0.738833746898263"
      ]
     },
     "execution_count": 53,
     "metadata": {},
     "output_type": "execute_result"
    }
   ],
   "source": [
    "from pyspark.ml.evaluation import BinaryClassificationEvaluator\n",
    "evaluator = BinaryClassificationEvaluator(rawPredictionCol='prediction', labelCol='Churn')\n",
    "acc = evaluator.evaluate(predictions)\n",
    "acc"
   ]
  },
  {
   "cell_type": "markdown",
   "metadata": {
    "id": "RySZAch7Ivoe"
   },
   "source": [
    "As we can see, the precition model is not that great, but it works to an extent.As previously discussed, we may be able to improve the model by indexing other parameters."
   ]
  }
 ],
 "metadata": {
  "colab": {
   "collapsed_sections": [],
   "name": "Consulting Project: Predicting Churn Risk.ipynb",
   "provenance": []
  },
  "kernelspec": {
   "display_name": "Python 3 (ipykernel)",
   "language": "python",
   "name": "python3"
  },
  "language_info": {
   "codemirror_mode": {
    "name": "ipython",
    "version": 3
   },
   "file_extension": ".py",
   "mimetype": "text/x-python",
   "name": "python",
   "nbconvert_exporter": "python",
   "pygments_lexer": "ipython3",
   "version": "3.8.10"
  }
 },
 "nbformat": 4,
 "nbformat_minor": 1
}
