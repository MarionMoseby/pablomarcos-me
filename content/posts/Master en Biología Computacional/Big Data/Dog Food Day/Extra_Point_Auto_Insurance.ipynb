{
 "cells": [
  {
   "cell_type": "markdown",
   "metadata": {
    "id": "gbD7Zl1tFfCh"
   },
   "source": [
    "Nothing ruins the thrill of buying a brand new car more quickly than seeing your new insurance bill. The sting’s even more painful when you know you’re a good driver. It doesn’t seem fair that you have to pay so much if you’ve been cautious on the road for years.\n",
    "\n",
    "Inaccuracies in car insurance company’s claim predictions raise the cost of insurance for good drivers and reduce the price for bad ones. But Kaymo ™ wants to stop that!\n",
    "\n",
    "In this competition, you’re challenged to build a model that predicts the probability that a driver will initiate an auto insurance claim. While Kaymo ™ has used machine learning for the past 10 years, they’re looking to the CAIIS machine learning community to explore new, more powerful methods. A more accurate prediction will allow them to further tailor their prices, and hopefully make auto insurance coverage more accessible to more drivers."
   ]
  },
  {
   "cell_type": "markdown",
   "metadata": {
    "id": "1Ztqe2BZmKWt"
   },
   "source": [
    "## Initial data Analysis"
   ]
  },
  {
   "cell_type": "markdown",
   "metadata": {
    "id": "oJ8RgmcDFPke"
   },
   "source": [
    "First, we need to create the Spark Session"
   ]
  },
  {
   "cell_type": "code",
   "execution_count": 70,
   "metadata": {
    "id": "OlAm5xg9FA5X"
   },
   "outputs": [],
   "source": [
    "#In collab, we need to install everything:\n",
    "!apt-get install openjdk-8-jdk-headless -qq > /dev/null\n",
    "!wget -q https://mirrors.sonic.net/apache/spark/spark-3.1.2/spark-3.1.2-bin-hadoop3.2.tgz\n",
    "!tar xzf spark-3.1.2-bin-hadoop3.2.tgz\n",
    "!pip install -q findspark\n",
    "\n",
    "\n",
    "import os\n",
    "os.environ[\"JAVA_HOME\"] = \"/usr/lib/jvm/java-8-openjdk-amd64\"\n",
    "os.environ[\"SPARK_HOME\"] = \"/content/spark-3.1.2-bin-hadoop3.2\"\n",
    "\n",
    "\n",
    "import findspark\n",
    "findspark.init()\n",
    "from pyspark.sql import SparkSession\n",
    "spark = SparkSession.builder.master(\"local[*]\").getOrCreate()\n",
    "\n",
    "#In a native Jupyter notebook, we would simply do:\n",
    "#from pyspark.sql import SparkSession\n",
    "#spark = SparkSession.builder.appName('seedfinder').getOrCreate()"
   ]
  },
  {
   "cell_type": "markdown",
   "metadata": {
    "id": "_9CNaqRRFwZ4"
   },
   "source": [
    "Afterwards, we can read the file and inspect it"
   ]
  },
  {
   "cell_type": "code",
   "execution_count": 71,
   "metadata": {
    "colab": {
     "base_uri": "https://localhost:8080/",
     "height": 226
    },
    "id": "970VpueWFxM1",
    "outputId": "076b57c3-14ad-4132-d7d6-6b5785594a9d"
   },
   "outputs": [
    {
     "data": {
      "text/html": [
       "<div>\n",
       "<style scoped>\n",
       "    .dataframe tbody tr th:only-of-type {\n",
       "        vertical-align: middle;\n",
       "    }\n",
       "\n",
       "    .dataframe tbody tr th {\n",
       "        vertical-align: top;\n",
       "    }\n",
       "\n",
       "    .dataframe thead th {\n",
       "        text-align: right;\n",
       "    }\n",
       "</style>\n",
       "<table border=\"1\" class=\"dataframe\">\n",
       "  <thead>\n",
       "    <tr style=\"text-align: right;\">\n",
       "      <th></th>\n",
       "      <th>summary</th>\n",
       "      <th>id</th>\n",
       "      <th>cat_0</th>\n",
       "      <th>cat_1</th>\n",
       "      <th>cat_2</th>\n",
       "      <th>cat_3</th>\n",
       "      <th>cat_4</th>\n",
       "      <th>cat_5</th>\n",
       "      <th>cat_6</th>\n",
       "      <th>cat_7</th>\n",
       "      <th>cat_8</th>\n",
       "      <th>cat_9</th>\n",
       "      <th>cat_10</th>\n",
       "      <th>cat_11</th>\n",
       "      <th>cat_12</th>\n",
       "      <th>cat_13</th>\n",
       "      <th>cat_14</th>\n",
       "      <th>cat_15</th>\n",
       "      <th>cat_16</th>\n",
       "      <th>cat_17</th>\n",
       "      <th>cat_18</th>\n",
       "      <th>cont_0</th>\n",
       "      <th>cont_1</th>\n",
       "      <th>cont_2</th>\n",
       "      <th>cont_3</th>\n",
       "      <th>cont_4</th>\n",
       "      <th>cont_5</th>\n",
       "      <th>cont_6</th>\n",
       "      <th>cont_7</th>\n",
       "      <th>cont_8</th>\n",
       "      <th>cont_9</th>\n",
       "      <th>cont_10</th>\n",
       "      <th>target</th>\n",
       "    </tr>\n",
       "  </thead>\n",
       "  <tbody>\n",
       "    <tr>\n",
       "      <th>0</th>\n",
       "      <td>count</td>\n",
       "      <td>4066</td>\n",
       "      <td>4066</td>\n",
       "      <td>4066</td>\n",
       "      <td>4066</td>\n",
       "      <td>4066</td>\n",
       "      <td>4066</td>\n",
       "      <td>4066</td>\n",
       "      <td>4066</td>\n",
       "      <td>4066</td>\n",
       "      <td>4066</td>\n",
       "      <td>4066</td>\n",
       "      <td>4066</td>\n",
       "      <td>4066</td>\n",
       "      <td>4066</td>\n",
       "      <td>4066</td>\n",
       "      <td>4066</td>\n",
       "      <td>4066</td>\n",
       "      <td>4066</td>\n",
       "      <td>4066</td>\n",
       "      <td>4066</td>\n",
       "      <td>4066</td>\n",
       "      <td>4066</td>\n",
       "      <td>4066</td>\n",
       "      <td>4066</td>\n",
       "      <td>4066</td>\n",
       "      <td>4066</td>\n",
       "      <td>4065</td>\n",
       "      <td>4065</td>\n",
       "      <td>4065</td>\n",
       "      <td>4065</td>\n",
       "      <td>4065</td>\n",
       "      <td>4065</td>\n",
       "    </tr>\n",
       "    <tr>\n",
       "      <th>1</th>\n",
       "      <td>mean</td>\n",
       "      <td>3387.4498278406295</td>\n",
       "      <td>None</td>\n",
       "      <td>None</td>\n",
       "      <td>None</td>\n",
       "      <td>None</td>\n",
       "      <td>None</td>\n",
       "      <td>None</td>\n",
       "      <td>None</td>\n",
       "      <td>None</td>\n",
       "      <td>None</td>\n",
       "      <td>None</td>\n",
       "      <td>None</td>\n",
       "      <td>None</td>\n",
       "      <td>None</td>\n",
       "      <td>None</td>\n",
       "      <td>None</td>\n",
       "      <td>None</td>\n",
       "      <td>None</td>\n",
       "      <td>None</td>\n",
       "      <td>None</td>\n",
       "      <td>0.5051998947729144</td>\n",
       "      <td>0.49388336368386704</td>\n",
       "      <td>0.5189480562752655</td>\n",
       "      <td>0.4735777650650935</td>\n",
       "      <td>0.5086566082134892</td>\n",
       "      <td>0.5060181089955016</td>\n",
       "      <td>0.49226472593286386</td>\n",
       "      <td>0.5006876416744185</td>\n",
       "      <td>0.49040640920734324</td>\n",
       "      <td>0.4745391464905265</td>\n",
       "      <td>0.5064674250670175</td>\n",
       "      <td>0.18081180811808117</td>\n",
       "    </tr>\n",
       "    <tr>\n",
       "      <th>2</th>\n",
       "      <td>stddev</td>\n",
       "      <td>1935.5367394936904</td>\n",
       "      <td>None</td>\n",
       "      <td>None</td>\n",
       "      <td>None</td>\n",
       "      <td>None</td>\n",
       "      <td>None</td>\n",
       "      <td>None</td>\n",
       "      <td>None</td>\n",
       "      <td>None</td>\n",
       "      <td>None</td>\n",
       "      <td>None</td>\n",
       "      <td>None</td>\n",
       "      <td>None</td>\n",
       "      <td>None</td>\n",
       "      <td>None</td>\n",
       "      <td>None</td>\n",
       "      <td>None</td>\n",
       "      <td>None</td>\n",
       "      <td>None</td>\n",
       "      <td>None</td>\n",
       "      <td>0.20419268191081688</td>\n",
       "      <td>0.2109889750767605</td>\n",
       "      <td>0.2140486431630643</td>\n",
       "      <td>0.21460470991003147</td>\n",
       "      <td>0.22718105831759158</td>\n",
       "      <td>0.2395814912115326</td>\n",
       "      <td>0.21021050608421313</td>\n",
       "      <td>0.20111985652217018</td>\n",
       "      <td>0.18048630841199265</td>\n",
       "      <td>0.1951590751556047</td>\n",
       "      <td>0.20200775006813254</td>\n",
       "      <td>0.384909527996416</td>\n",
       "    </tr>\n",
       "    <tr>\n",
       "      <th>3</th>\n",
       "      <td>min</td>\n",
       "      <td>0</td>\n",
       "      <td>A</td>\n",
       "      <td>A</td>\n",
       "      <td>A</td>\n",
       "      <td>A</td>\n",
       "      <td>A</td>\n",
       "      <td>A</td>\n",
       "      <td>A</td>\n",
       "      <td>A</td>\n",
       "      <td>A</td>\n",
       "      <td>A</td>\n",
       "      <td>AA</td>\n",
       "      <td>A</td>\n",
       "      <td>A</td>\n",
       "      <td>A</td>\n",
       "      <td>A</td>\n",
       "      <td>A</td>\n",
       "      <td>A</td>\n",
       "      <td>A</td>\n",
       "      <td>A</td>\n",
       "      <td>-0.005136936996862684</td>\n",
       "      <td>0.10745448158938073</td>\n",
       "      <td>0.11502362274662108</td>\n",
       "      <td>0.006599651524877015</td>\n",
       "      <td>0.17695526722535196</td>\n",
       "      <td>-0.006380447747513784</td>\n",
       "      <td>0.021270552792613227</td>\n",
       "      <td>0.1223397138826129</td>\n",
       "      <td>0.0889069927983469</td>\n",
       "      <td>0.22995944353840855</td>\n",
       "      <td>0.1278528100161272</td>\n",
       "      <td>0</td>\n",
       "    </tr>\n",
       "    <tr>\n",
       "      <th>4</th>\n",
       "      <td>max</td>\n",
       "      <td>6757</td>\n",
       "      <td>B</td>\n",
       "      <td>O</td>\n",
       "      <td>U</td>\n",
       "      <td>N</td>\n",
       "      <td>T</td>\n",
       "      <td>ZZ</td>\n",
       "      <td>Y</td>\n",
       "      <td>Y</td>\n",
       "      <td>Y</td>\n",
       "      <td>X</td>\n",
       "      <td>Y</td>\n",
       "      <td>B</td>\n",
       "      <td>B</td>\n",
       "      <td>B</td>\n",
       "      <td>B</td>\n",
       "      <td>D</td>\n",
       "      <td>D</td>\n",
       "      <td>D</td>\n",
       "      <td>D</td>\n",
       "      <td>0.9953078039956524</td>\n",
       "      <td>0.9896946695363368</td>\n",
       "      <td>0.9917094757670126</td>\n",
       "      <td>0.92705434460466</td>\n",
       "      <td>0.8511866390241221</td>\n",
       "      <td>0.8423372084057961</td>\n",
       "      <td>0.957624056103622</td>\n",
       "      <td>1.0044606397161469</td>\n",
       "      <td>1.0414219123188158</td>\n",
       "      <td>0.9895323265306966</td>\n",
       "      <td>0.9925120037993798</td>\n",
       "      <td>1</td>\n",
       "    </tr>\n",
       "  </tbody>\n",
       "</table>\n",
       "</div>"
      ],
      "text/plain": [
       "  summary                  id  ...              cont_10               target\n",
       "0   count                4066  ...                 4065                 4065\n",
       "1    mean  3387.4498278406295  ...   0.5064674250670175  0.18081180811808117\n",
       "2  stddev  1935.5367394936904  ...  0.20200775006813254    0.384909527996416\n",
       "3     min                   0  ...   0.1278528100161272                    0\n",
       "4     max                6757  ...   0.9925120037993798                    1\n",
       "\n",
       "[5 rows x 33 columns]"
      ]
     },
     "execution_count": 71,
     "metadata": {},
     "output_type": "execute_result"
    }
   ],
   "source": [
    "#Please drop the file in the environments 'Files' panel\n",
    "df = spark.read.options(header=\"true\", inferSchema=\"true\").csv(\"/content/train.csv\")\n",
    "df.describe().toPandas()"
   ]
  },
  {
   "cell_type": "markdown",
   "metadata": {
    "id": "Z5XXS-8pi0dp"
   },
   "source": [
    "As we can see, we have a database with 8 categotical variables, 11 continuous variables and a target value, which, in this training data, is provided so that we can train the algorithm. In this database, each row represents a given insurance policy, and target represents whether the policy resulted in a claim (1) or not (0). We want to predict whether a given insurance policy lead to claims, to remove that policies from the market and minimize the chance for costly, non-desirable claims."
   ]
  },
  {
   "cell_type": "markdown",
   "metadata": {
    "id": "4GTeEHiqi7bi"
   },
   "source": [
    "Before proceeding with any approach, we first have to index the categorical variables! This is because pyspark and machine learning algorithms in general dont work well with strings: they need a mathematical value to work with. This has its own problems, specially since the numbers are not random and are orderable, but its the best we have."
   ]
  },
  {
   "cell_type": "code",
   "execution_count": 72,
   "metadata": {
    "colab": {
     "base_uri": "https://localhost:8080/",
     "height": 226
    },
    "id": "aZzi-DouGF9N",
    "outputId": "19769c67-7074-48e4-f6ea-7e6dd914892d"
   },
   "outputs": [
    {
     "data": {
      "text/html": [
       "<div>\n",
       "<style scoped>\n",
       "    .dataframe tbody tr th:only-of-type {\n",
       "        vertical-align: middle;\n",
       "    }\n",
       "\n",
       "    .dataframe tbody tr th {\n",
       "        vertical-align: top;\n",
       "    }\n",
       "\n",
       "    .dataframe thead th {\n",
       "        text-align: right;\n",
       "    }\n",
       "</style>\n",
       "<table border=\"1\" class=\"dataframe\">\n",
       "  <thead>\n",
       "    <tr style=\"text-align: right;\">\n",
       "      <th></th>\n",
       "      <th>summary</th>\n",
       "      <th>id</th>\n",
       "      <th>cat_0</th>\n",
       "      <th>cat_1</th>\n",
       "      <th>cat_2</th>\n",
       "      <th>cat_3</th>\n",
       "      <th>cat_4</th>\n",
       "      <th>cat_5</th>\n",
       "      <th>cat_6</th>\n",
       "      <th>cat_7</th>\n",
       "      <th>cat_8</th>\n",
       "      <th>cat_9</th>\n",
       "      <th>cat_10</th>\n",
       "      <th>cat_11</th>\n",
       "      <th>cat_12</th>\n",
       "      <th>cat_13</th>\n",
       "      <th>cat_14</th>\n",
       "      <th>cat_15</th>\n",
       "      <th>cat_16</th>\n",
       "      <th>cat_17</th>\n",
       "      <th>cat_18</th>\n",
       "      <th>cont_0</th>\n",
       "      <th>cont_1</th>\n",
       "      <th>cont_2</th>\n",
       "      <th>cont_3</th>\n",
       "      <th>cont_4</th>\n",
       "      <th>cont_5</th>\n",
       "      <th>cont_6</th>\n",
       "      <th>cont_7</th>\n",
       "      <th>cont_8</th>\n",
       "      <th>cont_9</th>\n",
       "      <th>cont_10</th>\n",
       "      <th>target</th>\n",
       "      <th>cat_0_index</th>\n",
       "      <th>cat_1_index</th>\n",
       "      <th>cat_2_index</th>\n",
       "      <th>cat_3_index</th>\n",
       "      <th>cat_4_index</th>\n",
       "      <th>cat_5_index</th>\n",
       "      <th>cat_6_index</th>\n",
       "      <th>cat_7_index</th>\n",
       "      <th>cat_8_index</th>\n",
       "      <th>cat_9_index</th>\n",
       "      <th>cat_10_index</th>\n",
       "      <th>cat_11_index</th>\n",
       "      <th>cat_12_index</th>\n",
       "      <th>cat_13_index</th>\n",
       "      <th>cat_14_index</th>\n",
       "      <th>cat_15_index</th>\n",
       "      <th>cat_16_index</th>\n",
       "      <th>cat_17_index</th>\n",
       "      <th>cat_18_index</th>\n",
       "    </tr>\n",
       "  </thead>\n",
       "  <tbody>\n",
       "    <tr>\n",
       "      <th>0</th>\n",
       "      <td>count</td>\n",
       "      <td>4066</td>\n",
       "      <td>4066</td>\n",
       "      <td>4066</td>\n",
       "      <td>4066</td>\n",
       "      <td>4066</td>\n",
       "      <td>4066</td>\n",
       "      <td>4066</td>\n",
       "      <td>4066</td>\n",
       "      <td>4066</td>\n",
       "      <td>4066</td>\n",
       "      <td>4066</td>\n",
       "      <td>4066</td>\n",
       "      <td>4066</td>\n",
       "      <td>4066</td>\n",
       "      <td>4066</td>\n",
       "      <td>4066</td>\n",
       "      <td>4066</td>\n",
       "      <td>4066</td>\n",
       "      <td>4066</td>\n",
       "      <td>4066</td>\n",
       "      <td>4066</td>\n",
       "      <td>4066</td>\n",
       "      <td>4066</td>\n",
       "      <td>4066</td>\n",
       "      <td>4066</td>\n",
       "      <td>4066</td>\n",
       "      <td>4065</td>\n",
       "      <td>4065</td>\n",
       "      <td>4065</td>\n",
       "      <td>4065</td>\n",
       "      <td>4065</td>\n",
       "      <td>4065</td>\n",
       "      <td>4066</td>\n",
       "      <td>4066</td>\n",
       "      <td>4066</td>\n",
       "      <td>4066</td>\n",
       "      <td>4066</td>\n",
       "      <td>4066</td>\n",
       "      <td>4066</td>\n",
       "      <td>4066</td>\n",
       "      <td>4066</td>\n",
       "      <td>4066</td>\n",
       "      <td>4066</td>\n",
       "      <td>4066</td>\n",
       "      <td>4066</td>\n",
       "      <td>4066</td>\n",
       "      <td>4066</td>\n",
       "      <td>4066</td>\n",
       "      <td>4066</td>\n",
       "      <td>4066</td>\n",
       "      <td>4066</td>\n",
       "    </tr>\n",
       "    <tr>\n",
       "      <th>1</th>\n",
       "      <td>mean</td>\n",
       "      <td>3387.4498278406295</td>\n",
       "      <td>None</td>\n",
       "      <td>None</td>\n",
       "      <td>None</td>\n",
       "      <td>None</td>\n",
       "      <td>None</td>\n",
       "      <td>None</td>\n",
       "      <td>None</td>\n",
       "      <td>None</td>\n",
       "      <td>None</td>\n",
       "      <td>None</td>\n",
       "      <td>None</td>\n",
       "      <td>None</td>\n",
       "      <td>None</td>\n",
       "      <td>None</td>\n",
       "      <td>None</td>\n",
       "      <td>None</td>\n",
       "      <td>None</td>\n",
       "      <td>None</td>\n",
       "      <td>None</td>\n",
       "      <td>0.5051998947729144</td>\n",
       "      <td>0.49388336368386704</td>\n",
       "      <td>0.5189480562752655</td>\n",
       "      <td>0.4735777650650935</td>\n",
       "      <td>0.5086566082134892</td>\n",
       "      <td>0.5060181089955016</td>\n",
       "      <td>0.49226472593286386</td>\n",
       "      <td>0.5006876416744185</td>\n",
       "      <td>0.49040640920734324</td>\n",
       "      <td>0.4745391464905265</td>\n",
       "      <td>0.5064674250670175</td>\n",
       "      <td>0.18081180811808117</td>\n",
       "      <td>0.24913920314805707</td>\n",
       "      <td>2.9648303000491882</td>\n",
       "      <td>1.5393507132316773</td>\n",
       "      <td>0.6000983767830792</td>\n",
       "      <td>1.3145597638957207</td>\n",
       "      <td>0.7845548450565667</td>\n",
       "      <td>0.7137235612395475</td>\n",
       "      <td>8.324643384161337</td>\n",
       "      <td>8.775454992621741</td>\n",
       "      <td>0.9473684210526315</td>\n",
       "      <td>19.2073290703394</td>\n",
       "      <td>0.1352680767338908</td>\n",
       "      <td>0.14240039350713232</td>\n",
       "      <td>0.02336448598130841</td>\n",
       "      <td>0.46532218396458436</td>\n",
       "      <td>0.34948352188883425</td>\n",
       "      <td>0.3462862764387605</td>\n",
       "      <td>0.2825873093949828</td>\n",
       "      <td>0.2147073290703394</td>\n",
       "    </tr>\n",
       "    <tr>\n",
       "      <th>2</th>\n",
       "      <td>stddev</td>\n",
       "      <td>1935.5367394936904</td>\n",
       "      <td>None</td>\n",
       "      <td>None</td>\n",
       "      <td>None</td>\n",
       "      <td>None</td>\n",
       "      <td>None</td>\n",
       "      <td>None</td>\n",
       "      <td>None</td>\n",
       "      <td>None</td>\n",
       "      <td>None</td>\n",
       "      <td>None</td>\n",
       "      <td>None</td>\n",
       "      <td>None</td>\n",
       "      <td>None</td>\n",
       "      <td>None</td>\n",
       "      <td>None</td>\n",
       "      <td>None</td>\n",
       "      <td>None</td>\n",
       "      <td>None</td>\n",
       "      <td>None</td>\n",
       "      <td>0.20419268191081688</td>\n",
       "      <td>0.2109889750767605</td>\n",
       "      <td>0.2140486431630643</td>\n",
       "      <td>0.21460470991003147</td>\n",
       "      <td>0.22718105831759158</td>\n",
       "      <td>0.2395814912115326</td>\n",
       "      <td>0.21021050608421313</td>\n",
       "      <td>0.20111985652217018</td>\n",
       "      <td>0.18048630841199265</td>\n",
       "      <td>0.1951590751556047</td>\n",
       "      <td>0.20200775006813254</td>\n",
       "      <td>0.384909527996416</td>\n",
       "      <td>0.4325677750396001</td>\n",
       "      <td>3.2452054039576987</td>\n",
       "      <td>2.4425605042547827</td>\n",
       "      <td>1.1474084345954927</td>\n",
       "      <td>1.7807690795360278</td>\n",
       "      <td>4.2299020498829245</td>\n",
       "      <td>1.380123728813704</td>\n",
       "      <td>9.875877537204804</td>\n",
       "      <td>9.154892230985055</td>\n",
       "      <td>1.8179599316104342</td>\n",
       "      <td>30.361885464393367</td>\n",
       "      <td>0.342051749318574</td>\n",
       "      <td>0.3495033102516255</td>\n",
       "      <td>0.15107680233781368</td>\n",
       "      <td>0.4988573482064128</td>\n",
       "      <td>0.565594945313189</td>\n",
       "      <td>0.5695057140802395</td>\n",
       "      <td>0.6398622202372004</td>\n",
       "      <td>0.5579704263968471</td>\n",
       "    </tr>\n",
       "    <tr>\n",
       "      <th>3</th>\n",
       "      <td>min</td>\n",
       "      <td>0</td>\n",
       "      <td>A</td>\n",
       "      <td>A</td>\n",
       "      <td>A</td>\n",
       "      <td>A</td>\n",
       "      <td>A</td>\n",
       "      <td>A</td>\n",
       "      <td>A</td>\n",
       "      <td>A</td>\n",
       "      <td>A</td>\n",
       "      <td>A</td>\n",
       "      <td>AA</td>\n",
       "      <td>A</td>\n",
       "      <td>A</td>\n",
       "      <td>A</td>\n",
       "      <td>A</td>\n",
       "      <td>A</td>\n",
       "      <td>A</td>\n",
       "      <td>A</td>\n",
       "      <td>A</td>\n",
       "      <td>-0.005136936996862684</td>\n",
       "      <td>0.10745448158938073</td>\n",
       "      <td>0.11502362274662108</td>\n",
       "      <td>0.006599651524877015</td>\n",
       "      <td>0.17695526722535196</td>\n",
       "      <td>-0.006380447747513784</td>\n",
       "      <td>0.021270552792613227</td>\n",
       "      <td>0.1223397138826129</td>\n",
       "      <td>0.0889069927983469</td>\n",
       "      <td>0.22995944353840855</td>\n",
       "      <td>0.1278528100161272</td>\n",
       "      <td>0</td>\n",
       "      <td>0.0</td>\n",
       "      <td>0.0</td>\n",
       "      <td>0.0</td>\n",
       "      <td>0.0</td>\n",
       "      <td>0.0</td>\n",
       "      <td>0.0</td>\n",
       "      <td>0.0</td>\n",
       "      <td>0.0</td>\n",
       "      <td>0.0</td>\n",
       "      <td>0.0</td>\n",
       "      <td>0.0</td>\n",
       "      <td>0.0</td>\n",
       "      <td>0.0</td>\n",
       "      <td>0.0</td>\n",
       "      <td>0.0</td>\n",
       "      <td>0.0</td>\n",
       "      <td>0.0</td>\n",
       "      <td>0.0</td>\n",
       "      <td>0.0</td>\n",
       "    </tr>\n",
       "    <tr>\n",
       "      <th>4</th>\n",
       "      <td>max</td>\n",
       "      <td>6757</td>\n",
       "      <td>B</td>\n",
       "      <td>O</td>\n",
       "      <td>U</td>\n",
       "      <td>N</td>\n",
       "      <td>T</td>\n",
       "      <td>ZZ</td>\n",
       "      <td>Y</td>\n",
       "      <td>Y</td>\n",
       "      <td>Y</td>\n",
       "      <td>X</td>\n",
       "      <td>Y</td>\n",
       "      <td>B</td>\n",
       "      <td>B</td>\n",
       "      <td>B</td>\n",
       "      <td>B</td>\n",
       "      <td>D</td>\n",
       "      <td>D</td>\n",
       "      <td>D</td>\n",
       "      <td>D</td>\n",
       "      <td>0.9953078039956524</td>\n",
       "      <td>0.9896946695363368</td>\n",
       "      <td>0.9917094757670126</td>\n",
       "      <td>0.92705434460466</td>\n",
       "      <td>0.8511866390241221</td>\n",
       "      <td>0.8423372084057961</td>\n",
       "      <td>0.957624056103622</td>\n",
       "      <td>1.0044606397161469</td>\n",
       "      <td>1.0414219123188158</td>\n",
       "      <td>0.9895323265306966</td>\n",
       "      <td>0.9925120037993798</td>\n",
       "      <td>1</td>\n",
       "      <td>1.0</td>\n",
       "      <td>14.0</td>\n",
       "      <td>16.0</td>\n",
       "      <td>12.0</td>\n",
       "      <td>18.0</td>\n",
       "      <td>56.0</td>\n",
       "      <td>14.0</td>\n",
       "      <td>50.0</td>\n",
       "      <td>53.0</td>\n",
       "      <td>16.0</td>\n",
       "      <td>184.0</td>\n",
       "      <td>1.0</td>\n",
       "      <td>1.0</td>\n",
       "      <td>1.0</td>\n",
       "      <td>1.0</td>\n",
       "      <td>3.0</td>\n",
       "      <td>3.0</td>\n",
       "      <td>3.0</td>\n",
       "      <td>3.0</td>\n",
       "    </tr>\n",
       "  </tbody>\n",
       "</table>\n",
       "</div>"
      ],
      "text/plain": [
       "  summary                  id  ...        cat_17_index        cat_18_index\n",
       "0   count                4066  ...                4066                4066\n",
       "1    mean  3387.4498278406295  ...  0.2825873093949828  0.2147073290703394\n",
       "2  stddev  1935.5367394936904  ...  0.6398622202372004  0.5579704263968471\n",
       "3     min                   0  ...                 0.0                 0.0\n",
       "4     max                6757  ...                 3.0                 3.0\n",
       "\n",
       "[5 rows x 52 columns]"
      ]
     },
     "execution_count": 72,
     "metadata": {},
     "output_type": "execute_result"
    }
   ],
   "source": [
    "from pyspark.ml import Pipeline\n",
    "from pyspark.ml.feature import StringIndexer\n",
    "\n",
    "#Bonus! Change this code to index multiple columns at once!\n",
    "#And! With a list comprehension I can specify all the cat_ things from 1 to 18 :p\n",
    "indexers = [StringIndexer(inputCol=column, outputCol=column+\"_index\").fit(df) for column in [f'cat_{x}' for x in range(19)] ]\n",
    "\n",
    "\n",
    "pipeline = Pipeline(stages=indexers)\n",
    "df_indexed = pipeline.fit(df).transform(df)\n",
    "df_indexed.describe().toPandas()"
   ]
  },
  {
   "cell_type": "markdown",
   "metadata": {
    "id": "BUOLIkuLjdvu"
   },
   "source": [
    "We now remove all the non-indexed (useless and repeated) columns from the original dataframe:"
   ]
  },
  {
   "cell_type": "code",
   "execution_count": 73,
   "metadata": {
    "id": "XNO-qvJBjats"
   },
   "outputs": [],
   "source": [
    "df_indexed = df_indexed.select([c for c in df_indexed.columns if c not in [f'cat_{x}' for x in range(19)]]) #Uses the same list comprehension as before!\n",
    "#Note that I am keeping the ID. Since it is a unique identifyer, it would do nothing to help with prediction, but it doesnt harm either"
   ]
  },
  {
   "cell_type": "markdown",
   "metadata": {
    "id": "PXkDiPPBjqhx"
   },
   "source": [
    "Now, we have the indexed dataframe! We can proceed to do some exploratory analysis, to see what is the correlation between some of this parameters and the column of interest (target). For this, I'd usually plot the scatter matrix using pandas, but I have tried here and I have found that there are so many datapoints that the graph that appears is useless. Thus, I will plot a heatmap which tells me which variables are correlated to which "
   ]
  },
  {
   "cell_type": "code",
   "execution_count": 74,
   "metadata": {
    "id": "2KNxUTHRjk2U"
   },
   "outputs": [],
   "source": [
    "#This is useless! Too much data!\n",
    "#import pandas as pd\n",
    "#pd.plotting.scatter_matrix(df.toPandas(), figsize=(10, 10));"
   ]
  },
  {
   "cell_type": "code",
   "execution_count": 75,
   "metadata": {
    "colab": {
     "base_uri": "https://localhost:8080/",
     "height": 615
    },
    "id": "2jgXHOlakWiv",
    "outputId": "b2ccb9ae-df5d-42aa-d1ba-ca60d0583c1b"
   },
   "outputs": [
    {
     "data": {
      "text/plain": [
       "<matplotlib.axes._subplots.AxesSubplot at 0x7f2b4ee3e050>"
      ]
     },
     "execution_count": 75,
     "metadata": {},
     "output_type": "execute_result"
    },
    {
     "data": {
      "image/png": "[encoded data removed]",
      "text/plain": [
       "<Figure size 720x648 with 2 Axes>"
      ]
     },
     "metadata": {
      "needs_background": "light"
     },
     "output_type": "display_data"
    }
   ],
   "source": [
    "import seaborn as sns\n",
    "import matplotlib.pyplot as plt\n",
    "plt.figure(figsize=(10,9)) #Make the plot easier on the eyes\n",
    "sns.heatmap(df_indexed.toPandas().corr())"
   ]
  },
  {
   "cell_type": "markdown",
   "metadata": {
    "id": "da7SA4U4lcdp"
   },
   "source": [
    "As we can see, there is no clear correlation between any of the variables and the target parameter! This seems like a clear cut case for big data analysis, where we could try and see if each small correlation from each characteristic gets to add up and give us a good prediction after all!"
   ]
  },
  {
   "cell_type": "markdown",
   "metadata": {
    "id": "dEicKyJlmE2M"
   },
   "source": [
    "## Supervised approach"
   ]
  },
  {
   "cell_type": "markdown",
   "metadata": {
    "id": "mn_LpSBdmOT4"
   },
   "source": [
    "One of the ways we can try and predict the outcome is through supervised learning. Here, we take a train data set, show the computer how to predict an outcome from this data, and then give it some data to make some predictions on it. \n",
    "\n",
    "Here, we are using three different methods, which come bundled with spark:\n",
    "\n",
    "\n",
    "* [Decission Tree Classifier](https://spark.apache.org/docs/3.1.1/api/python/reference/api/pyspark.ml.classification.DecisionTreeClassifier.html): It uses a decision tree (as a predictive model) to go from observations about an item (represented in the branches) to conclusions about the item's target value (represented in the leaves).\n",
    "* [Random Forest Classifier](https://spark.apache.org/docs/3.1.1/api/python/reference/api/pyspark.ml.classification.RandomForestClassifier.html):  For classification tasks, the output of the random forest is the class selected by most trees. For regression tasks, the mean or average prediction of the individual trees is returned. Random decision forests correct for decision trees' habit of overfitting to their training set.\n",
    "* [Gradient Boosted Trees](https://spark.apache.org/docs/3.1.1/api/python/reference/api/pyspark.ml.classification.GBTClassifier.html): It gives a prediction model in the form of an ensemble of weak prediction models, which are typically decision trees. When a decision tree is the weak learner, the resulting algorithm is called gradient-boosted trees; it usually outperforms random forest.\n",
    "\n",
    "We will use the three methods to find if their results match, and to pick the most accurate of the three."
   ]
  },
  {
   "cell_type": "markdown",
   "metadata": {
    "id": "0q7m4ei6n2FO"
   },
   "source": [
    "First, we must first assemble a Vector with a \"features\" and a \"label\" tag so that it can be processed by Spark."
   ]
  },
  {
   "cell_type": "code",
   "execution_count": 76,
   "metadata": {
    "id": "aOcn49D3n4s1"
   },
   "outputs": [],
   "source": [
    "from pyspark.ml.feature import VectorAssembler, Imputer\n",
    "assembler = VectorAssembler(inputCols= [e for e in df_indexed.columns if e not in ('target')]  , outputCol='features', handleInvalid='skip')\n",
    "output = assembler.transform(df_indexed)\n",
    "imputer = Imputer(inputCols=['target'], outputCols=['label'], strategy='mean')\n",
    "imputer_model = imputer.fit(output)\n",
    "output = imputer_model.transform(output)"
   ]
  },
  {
   "cell_type": "markdown",
   "metadata": {
    "id": "NHxjX3pRr8hc"
   },
   "source": [
    "Now that we have this set up, we can proceed to create the models:"
   ]
  },
  {
   "cell_type": "code",
   "execution_count": 77,
   "metadata": {
    "id": "amLa23Paky1s"
   },
   "outputs": [],
   "source": [
    "#Fist, we alias the methods to make them easier to call\n",
    "from pyspark.ml.classification import (RandomForestClassifier, GBTClassifier, DecisionTreeClassifier)\n",
    "dtc = DecisionTreeClassifier(maxBins=185) #Decision Trees require maxBins to be at least as large as the number of values in each categorical feature\n",
    "rfc = RandomForestClassifier(numTrees = 100, maxBins=185)\n",
    "gbt = GBTClassifier(maxBins=185)"
   ]
  },
  {
   "cell_type": "code",
   "execution_count": 78,
   "metadata": {
    "id": "iPrRqExinomQ"
   },
   "outputs": [],
   "source": [
    "#We fit the three models\n",
    "dtc_model = dtc.fit(output)\n",
    "rfc_model = rfc.fit(output)\n",
    "gbt_model = gbt.fit(output)"
   ]
  },
  {
   "cell_type": "markdown",
   "metadata": {
    "id": "iUNXiK5Fvf6l"
   },
   "source": [
    "Now, we would like to get this model's predictions for our test data. First, we need to read the data:"
   ]
  },
  {
   "cell_type": "code",
   "execution_count": 84,
   "metadata": {
    "colab": {
     "base_uri": "https://localhost:8080/",
     "height": 226
    },
    "id": "Hu48eQJgntgQ",
    "outputId": "62b694ff-f2c3-4f12-b97b-4fb9cac2611a"
   },
   "outputs": [
    {
     "data": {
      "text/html": [
       "<div>\n",
       "<style scoped>\n",
       "    .dataframe tbody tr th:only-of-type {\n",
       "        vertical-align: middle;\n",
       "    }\n",
       "\n",
       "    .dataframe tbody tr th {\n",
       "        vertical-align: top;\n",
       "    }\n",
       "\n",
       "    .dataframe thead th {\n",
       "        text-align: right;\n",
       "    }\n",
       "</style>\n",
       "<table border=\"1\" class=\"dataframe\">\n",
       "  <thead>\n",
       "    <tr style=\"text-align: right;\">\n",
       "      <th></th>\n",
       "      <th>summary</th>\n",
       "      <th>id</th>\n",
       "      <th>cat_0</th>\n",
       "      <th>cat_1</th>\n",
       "      <th>cat_2</th>\n",
       "      <th>cat_3</th>\n",
       "      <th>cat_4</th>\n",
       "      <th>cat_5</th>\n",
       "      <th>cat_6</th>\n",
       "      <th>cat_7</th>\n",
       "      <th>cat_8</th>\n",
       "      <th>cat_9</th>\n",
       "      <th>cat_10</th>\n",
       "      <th>cat_11</th>\n",
       "      <th>cat_12</th>\n",
       "      <th>cat_13</th>\n",
       "      <th>cat_14</th>\n",
       "      <th>cat_15</th>\n",
       "      <th>cat_16</th>\n",
       "      <th>cat_17</th>\n",
       "      <th>cat_18</th>\n",
       "      <th>cont_0</th>\n",
       "      <th>cont_1</th>\n",
       "      <th>cont_2</th>\n",
       "      <th>cont_3</th>\n",
       "      <th>cont_4</th>\n",
       "      <th>cont_5</th>\n",
       "      <th>cont_6</th>\n",
       "      <th>cont_7</th>\n",
       "      <th>cont_8</th>\n",
       "      <th>cont_9</th>\n",
       "      <th>cont_10</th>\n",
       "    </tr>\n",
       "  </thead>\n",
       "  <tbody>\n",
       "    <tr>\n",
       "      <th>0</th>\n",
       "      <td>count</td>\n",
       "      <td>36737</td>\n",
       "      <td>36737</td>\n",
       "      <td>36737</td>\n",
       "      <td>36737</td>\n",
       "      <td>36737</td>\n",
       "      <td>36737</td>\n",
       "      <td>36737</td>\n",
       "      <td>36737</td>\n",
       "      <td>36737</td>\n",
       "      <td>36737</td>\n",
       "      <td>36737</td>\n",
       "      <td>36737</td>\n",
       "      <td>36737</td>\n",
       "      <td>36737</td>\n",
       "      <td>36737</td>\n",
       "      <td>36737</td>\n",
       "      <td>36737</td>\n",
       "      <td>36737</td>\n",
       "      <td>36737</td>\n",
       "      <td>36737</td>\n",
       "      <td>36737</td>\n",
       "      <td>36737</td>\n",
       "      <td>36737</td>\n",
       "      <td>36737</td>\n",
       "      <td>36737</td>\n",
       "      <td>36736</td>\n",
       "      <td>36736</td>\n",
       "      <td>36736</td>\n",
       "      <td>36736</td>\n",
       "      <td>36736</td>\n",
       "      <td>36736</td>\n",
       "    </tr>\n",
       "    <tr>\n",
       "      <th>1</th>\n",
       "      <td>mean</td>\n",
       "      <td>45565.33519340175</td>\n",
       "      <td>None</td>\n",
       "      <td>None</td>\n",
       "      <td>None</td>\n",
       "      <td>None</td>\n",
       "      <td>None</td>\n",
       "      <td>None</td>\n",
       "      <td>None</td>\n",
       "      <td>None</td>\n",
       "      <td>None</td>\n",
       "      <td>None</td>\n",
       "      <td>None</td>\n",
       "      <td>None</td>\n",
       "      <td>None</td>\n",
       "      <td>None</td>\n",
       "      <td>None</td>\n",
       "      <td>None</td>\n",
       "      <td>None</td>\n",
       "      <td>None</td>\n",
       "      <td>None</td>\n",
       "      <td>0.5063036234343945</td>\n",
       "      <td>0.49467192032599405</td>\n",
       "      <td>0.5173822226393028</td>\n",
       "      <td>0.4762916314739485</td>\n",
       "      <td>0.5033223270949208</td>\n",
       "      <td>0.5020626194199714</td>\n",
       "      <td>0.48730612112892824</td>\n",
       "      <td>0.5028144336472354</td>\n",
       "      <td>0.48923176796866097</td>\n",
       "      <td>0.4712561312748483</td>\n",
       "      <td>0.5094019115515299</td>\n",
       "    </tr>\n",
       "    <tr>\n",
       "      <th>2</th>\n",
       "      <td>stddev</td>\n",
       "      <td>26266.780527766103</td>\n",
       "      <td>None</td>\n",
       "      <td>None</td>\n",
       "      <td>None</td>\n",
       "      <td>None</td>\n",
       "      <td>None</td>\n",
       "      <td>None</td>\n",
       "      <td>None</td>\n",
       "      <td>None</td>\n",
       "      <td>None</td>\n",
       "      <td>None</td>\n",
       "      <td>None</td>\n",
       "      <td>None</td>\n",
       "      <td>None</td>\n",
       "      <td>None</td>\n",
       "      <td>None</td>\n",
       "      <td>None</td>\n",
       "      <td>None</td>\n",
       "      <td>None</td>\n",
       "      <td>None</td>\n",
       "      <td>0.20801235880562077</td>\n",
       "      <td>0.21322934164723154</td>\n",
       "      <td>0.2147802721260591</td>\n",
       "      <td>0.21726160996894317</td>\n",
       "      <td>0.22729116824926243</td>\n",
       "      <td>0.24097697602925358</td>\n",
       "      <td>0.2117830227977653</td>\n",
       "      <td>0.20422624901247177</td>\n",
       "      <td>0.1791202966152642</td>\n",
       "      <td>0.19567532832917978</td>\n",
       "      <td>0.20527800336854235</td>\n",
       "    </tr>\n",
       "    <tr>\n",
       "      <th>3</th>\n",
       "      <td>min</td>\n",
       "      <td>3</td>\n",
       "      <td>A</td>\n",
       "      <td>A</td>\n",
       "      <td>A</td>\n",
       "      <td>A</td>\n",
       "      <td>A</td>\n",
       "      <td>A</td>\n",
       "      <td>A</td>\n",
       "      <td>A</td>\n",
       "      <td>A</td>\n",
       "      <td>A</td>\n",
       "      <td>AA</td>\n",
       "      <td>A</td>\n",
       "      <td>A</td>\n",
       "      <td>A</td>\n",
       "      <td>A</td>\n",
       "      <td>A</td>\n",
       "      <td>A</td>\n",
       "      <td>A</td>\n",
       "      <td>A</td>\n",
       "      <td>-0.04726740437268828</td>\n",
       "      <td>0.09905764069525842</td>\n",
       "      <td>0.10521322746692256</td>\n",
       "      <td>-0.038177828728809315</td>\n",
       "      <td>0.17373018292252934</td>\n",
       "      <td>-0.03583375784982512</td>\n",
       "      <td>0.02298451094980952</td>\n",
       "      <td>0.09708227671225958</td>\n",
       "      <td>0.0280130873460242</td>\n",
       "      <td>0.22021805352799687</td>\n",
       "      <td>0.15451327463463016</td>\n",
       "    </tr>\n",
       "    <tr>\n",
       "      <th>4</th>\n",
       "      <td>max</td>\n",
       "      <td>91243</td>\n",
       "      <td>B</td>\n",
       "      <td>O</td>\n",
       "      <td>U</td>\n",
       "      <td>N</td>\n",
       "      <td>T</td>\n",
       "      <td>ZZ</td>\n",
       "      <td>Y</td>\n",
       "      <td>Y</td>\n",
       "      <td>Y</td>\n",
       "      <td>X</td>\n",
       "      <td>Y</td>\n",
       "      <td>B</td>\n",
       "      <td>B</td>\n",
       "      <td>B</td>\n",
       "      <td>B</td>\n",
       "      <td>D</td>\n",
       "      <td>D</td>\n",
       "      <td>D</td>\n",
       "      <td>D</td>\n",
       "      <td>0.9945586232209024</td>\n",
       "      <td>1.001207364106895</td>\n",
       "      <td>1.0105190260692984</td>\n",
       "      <td>0.9440372658550216</td>\n",
       "      <td>0.8541243700209937</td>\n",
       "      <td>0.8455319358435773</td>\n",
       "      <td>0.9646352575880386</td>\n",
       "      <td>1.0274581708548551</td>\n",
       "      <td>1.0434670315747987</td>\n",
       "      <td>0.9992554391006276</td>\n",
       "      <td>1.0066065913617064</td>\n",
       "    </tr>\n",
       "  </tbody>\n",
       "</table>\n",
       "</div>"
      ],
      "text/plain": [
       "  summary                  id  ...               cont_9              cont_10\n",
       "0   count               36737  ...                36736                36736\n",
       "1    mean   45565.33519340175  ...   0.4712561312748483   0.5094019115515299\n",
       "2  stddev  26266.780527766103  ...  0.19567532832917978  0.20527800336854235\n",
       "3     min                   3  ...  0.22021805352799687  0.15451327463463016\n",
       "4     max               91243  ...   0.9992554391006276   1.0066065913617064\n",
       "\n",
       "[5 rows x 32 columns]"
      ]
     },
     "execution_count": 84,
     "metadata": {},
     "output_type": "execute_result"
    }
   ],
   "source": [
    "#Please drop the file in the environments 'Files' panel\n",
    "test_df = spark.read.options(header=\"true\", inferSchema=\"true\").csv(\"/content/test.csv\")\n",
    "test_df.describe().toPandas()"
   ]
  },
  {
   "cell_type": "markdown",
   "metadata": {
    "id": "WpHRZevbDYD8"
   },
   "source": [
    "We have to process it in the same way we processed the test data for it to work!"
   ]
  },
  {
   "cell_type": "code",
   "execution_count": 89,
   "metadata": {
    "id": "Pa2uER4zDccS"
   },
   "outputs": [],
   "source": [
    "indexers = [StringIndexer(inputCol=column, outputCol=column+\"_index\").fit(test_df) for column in [f'cat_{x}' for x in range(19)] ]\n",
    "pipeline = Pipeline(stages=indexers)\n",
    "test_df_indexed = pipeline.fit(test_df).transform(test_df)\n",
    "test_df_indexed.describe().toPandas()\n",
    "test_df_indexed = df_indexed.select([c for c in df_indexed.columns if c not in [f'cat_{x}' for x in range(19)]]) "
   ]
  },
  {
   "cell_type": "code",
   "execution_count": 90,
   "metadata": {
    "id": "dHauVypEwCQg"
   },
   "outputs": [],
   "source": [
    "assembler = VectorAssembler(inputCols= [e for e in test_df_indexed.columns if e not in ('target')]  , outputCol='features', handleInvalid='skip')\n",
    "test_output = assembler.transform(test_df_indexed)\n",
    "imputer = Imputer(inputCols=['target'], outputCols=['label'], strategy='mean')\n",
    "imputer_model = imputer.fit(test_output)\n",
    "test_output = imputer_model.transform(test_output)"
   ]
  },
  {
   "cell_type": "markdown",
   "metadata": {
    "id": "ROGX-956w2Yv"
   },
   "source": [
    "And now, we can predict the results!"
   ]
  },
  {
   "cell_type": "code",
   "execution_count": 91,
   "metadata": {
    "id": "mMIvbEgkw5fI"
   },
   "outputs": [],
   "source": [
    "#And get their predictions\n",
    "dtc_preds = dtc_model.transform(test_output)\n",
    "rfc_preds = rfc_model.transform(test_output)\n",
    "gbt_preds = gbt_model.transform(test_output)"
   ]
  },
  {
   "cell_type": "markdown",
   "metadata": {
    "id": "7OpI3pJPxvho"
   },
   "source": [
    "To see how this all went, we can use ``` MulticlassClassificationEvaluator ```, which will give us an accuracy metric\n"
   ]
  },
  {
   "cell_type": "code",
   "execution_count": 92,
   "metadata": {
    "id": "CscoMqIvw56Y"
   },
   "outputs": [],
   "source": [
    "from pyspark.ml.evaluation import MulticlassClassificationEvaluator\n",
    "#We alias the method\n",
    "evaluator = MulticlassClassificationEvaluator(metricName='accuracy')"
   ]
  },
  {
   "cell_type": "markdown",
   "metadata": {
    "id": "q_hddHnWx45z"
   },
   "source": [
    "And we display the results!"
   ]
  },
  {
   "cell_type": "code",
   "execution_count": 93,
   "metadata": {
    "colab": {
     "base_uri": "https://localhost:8080/"
    },
    "id": "JfWPDmdvx6ck",
    "outputId": "42e71a86-f0bd-4f23-84d4-f7689fec6846"
   },
   "outputs": [
    {
     "name": "stdout",
     "output_type": "stream",
     "text": [
      "DTC: 0.8346863468634687 \n",
      " Features Importance: (31,[2,3,4,6,7,12,13,15,19,20,22,28],[0.014701613420158115,0.043912393310141254,0.01632263297559012,0.023272955254936112,0.008767295495164232,0.07339838005021362,0.026900352099027025,0.0010919366626692384,0.11149836670131266,0.05104627569585904,0.31490514161563943,0.31418265671928924])\n",
      "\n",
      "\n",
      "RFC: 0.8191881918819188 \n",
      " Features Importance: (31,[0,1,2,3,4,5,6,7,8,9,10,11,12,13,14,15,16,17,18,19,20,21,22,23,24,25,26,27,28,29,30],[0.007222725777778714,0.013272624708238185,0.06572063427606169,0.07383599205924346,0.016249034815029796,0.015671208937598453,0.013942792952495857,0.012265185023691075,0.022093613183070106,0.03017036047394847,0.02111126567214282,0.007573440666722141,0.03675523871622703,0.05340791474285819,0.018744859020368907,0.01438979707997024,0.014423643530970557,0.006122722273276428,0.0032687974851870532,0.040250295497554885,0.05959542094667576,0.010453230392129118,0.16357534034178262,0.002108188884061558,0.0018874200854626776,0.00033413253805777044,0.004749384890559298,0.08373181729146607,0.1565634402260749,0.005186828755947708,0.02532264875534833])\n",
      "\n",
      "\n",
      "GBT: 0.9035670356703567 \n",
      " Features Importance: (31,[0,1,2,3,4,5,6,7,9,10,11,12,13,14,15,16,17,18,19,20,21,22,26,27,28,29,30],[0.019554090543858874,0.005057591508728023,0.004343430810202281,0.00926816409691567,0.020932768384980305,0.00785722449857247,0.010564110036515958,0.003058478492707305,0.017320953448943837,0.024428612308636587,0.010505062823265568,0.02208616336937158,0.05280964313333698,0.004004845413782193,0.005113000839952551,0.008379441440475512,0.022397774964668365,0.0033914933949762242,0.21514282579871444,0.15888697801622456,0.04162650837187161,0.26367570868275864,0.0013931935084589204,0.04507176479283232,0.013432437835222032,0.004494546034221436,0.005203187449805732])\n",
      "\n",
      "\n"
     ]
    }
   ],
   "source": [
    "print(f'DTC: {evaluator.evaluate(dtc_preds)} \\n Features Importance: {dtc_model.featureImportances}\\n\\n') \n",
    "print(f'RFC: {evaluator.evaluate(rfc_preds)} \\n Features Importance: {rfc_model.featureImportances}\\n\\n')\n",
    "print(f'GBT: {evaluator.evaluate(gbt_preds)} \\n Features Importance: {gbt_model.featureImportances}\\n\\n')"
   ]
  },
  {
   "cell_type": "markdown",
   "metadata": {
    "id": "bTbQagVqFD5c"
   },
   "source": [
    "Coherent with our heatmap (although this does not always work out this way) no feature has much importance than the rest (also because there are lots of features). The method that got a better result according to out metric is GBT, so that is what we will use for our submission:"
   ]
  },
  {
   "cell_type": "code",
   "execution_count": 102,
   "metadata": {
    "id": "xGYQo68BEcr1"
   },
   "outputs": [],
   "source": [
    "gbt_preds.toPandas()[['id', 'prediction']].to_csv('/content/predictions.csv')"
   ]
  }
 ],
 "metadata": {
  "colab": {
   "collapsed_sections": [],
   "name": "Extra Point - Dogfood Day.ipnyb",
   "provenance": []
  },
  "kernelspec": {
   "display_name": "Python 3 (ipykernel)",
   "language": "python",
   "name": "python3"
  },
  "language_info": {
   "codemirror_mode": {
    "name": "ipython",
    "version": 3
   },
   "file_extension": ".py",
   "mimetype": "text/x-python",
   "name": "python",
   "nbconvert_exporter": "python",
   "pygments_lexer": "ipython3",
   "version": "3.8.10"
  }
 },
 "nbformat": 4,
 "nbformat_minor": 1
}
