{
 "cells": [
  {
   "cell_type": "markdown",
   "id": "ad1dbfa7",
   "metadata": {},
   "source": [
    "For this assignment, I will study Male Pattern Hair Loss, also called baldness or, more technically, alopecia. "
   ]
  },
  {
   "cell_type": "markdown",
   "id": "423c55ec",
   "metadata": {},
   "source": [
    "To do this, I will first try to find some candidates from Scratch (to illustrate the process) and then show what to do if there is already a better candidate (finasteride) whith selective inhibiting capabilities and a good $IC_{50}$ we would like to make as small as possible. In short:\n",
    "\n",
    "1. Finding good candidates using ENSEMBL from Scratch\n",
    "    * Finding targets for our selected protein\n",
    "    * Checking for similar molecules\n",
    "2. Check for already approved drugs\n",
    "3. Using Swissim and metrics to find finasteride-similar drugs"
   ]
  },
  {
   "cell_type": "markdown",
   "id": "9de88c23",
   "metadata": {},
   "source": [
    "## Finding good candidates using ENSEMBL from Scratch"
   ]
  },
  {
   "cell_type": "markdown",
   "id": "9af94582",
   "metadata": {},
   "source": [
    "### Finding targets for our selected protein"
   ]
  },
  {
   "cell_type": "code",
   "execution_count": 1,
   "id": "99d5016f",
   "metadata": {},
   "outputs": [],
   "source": [
    "# First, we import the necessary modules\n",
    "import json  # lets us work with the json format\n",
    "import requests  # allows Python to make web requests\n",
    "import pandas as pd # analysis of tabular data\n",
    "import numpy as np # numerical library"
   ]
  },
  {
   "cell_type": "markdown",
   "id": "8f7cfe61",
   "metadata": {},
   "source": [
    "With a simple search, we can find the CHEMBL codes for **human** 5-alpha-reductase: [CHEMBL2363075](https://www.ebi.ac.uk/chembl/target_report_card/CHEMBL2363075/) for the whole family, and [CHEMBL1856](https://www.ebi.ac.uk/chembl/target_report_card/CHEMBL1856/) for type II, which is the one we want to target, as specified in the report. We can then proceed to search for assay data:"
   ]
  },
  {
   "cell_type": "code",
   "execution_count": 2,
   "id": "45de8357",
   "metadata": {},
   "outputs": [],
   "source": [
    "#We specify we want at least 150 compounds that target CHEMBL1856\n",
    "activity_url = \"https://www.ebi.ac.uk/chembl/api/data/activity?target_chembl_id_exact=CHEMBL1856&offset=150&limit=150\"\n",
    "activity_request = requests.get(activity_url, headers={\"Accept\":\"application/json\"}).json()"
   ]
  },
  {
   "cell_type": "code",
   "execution_count": 3,
   "id": "198e1067",
   "metadata": {},
   "outputs": [
    {
     "data": {
      "text/html": [
       "<div>\n",
       "<style scoped>\n",
       "    .dataframe tbody tr th:only-of-type {\n",
       "        vertical-align: middle;\n",
       "    }\n",
       "\n",
       "    .dataframe tbody tr th {\n",
       "        vertical-align: top;\n",
       "    }\n",
       "\n",
       "    .dataframe thead th {\n",
       "        text-align: right;\n",
       "    }\n",
       "</style>\n",
       "<table border=\"1\" class=\"dataframe\">\n",
       "  <thead>\n",
       "    <tr style=\"text-align: right;\">\n",
       "      <th></th>\n",
       "      <th>molecule_chembl_id</th>\n",
       "      <th>type</th>\n",
       "      <th>standard_value</th>\n",
       "      <th>standard_units</th>\n",
       "    </tr>\n",
       "  </thead>\n",
       "  <tbody>\n",
       "    <tr>\n",
       "      <th>0</th>\n",
       "      <td>CHEMBL175414</td>\n",
       "      <td>Solubility</td>\n",
       "      <td>172900.0</td>\n",
       "      <td>ug.mL-1</td>\n",
       "    </tr>\n",
       "    <tr>\n",
       "      <th>1</th>\n",
       "      <td>CHEMBL307157</td>\n",
       "      <td>MP</td>\n",
       "      <td>45.0</td>\n",
       "      <td>%</td>\n",
       "    </tr>\n",
       "    <tr>\n",
       "      <th>2</th>\n",
       "      <td>CHEMBL307157</td>\n",
       "      <td>MP</td>\n",
       "      <td>0.0</td>\n",
       "      <td>%</td>\n",
       "    </tr>\n",
       "    <tr>\n",
       "      <th>3</th>\n",
       "      <td>CHEMBL307157</td>\n",
       "      <td>DP</td>\n",
       "      <td>0.0</td>\n",
       "      <td>%</td>\n",
       "    </tr>\n",
       "    <tr>\n",
       "      <th>4</th>\n",
       "      <td>CHEMBL307157</td>\n",
       "      <td>TP</td>\n",
       "      <td>76.0</td>\n",
       "      <td>%</td>\n",
       "    </tr>\n",
       "    <tr>\n",
       "      <th>...</th>\n",
       "      <td>...</td>\n",
       "      <td>...</td>\n",
       "      <td>...</td>\n",
       "      <td>...</td>\n",
       "    </tr>\n",
       "    <tr>\n",
       "      <th>145</th>\n",
       "      <td>CHEMBL336532</td>\n",
       "      <td>CAR</td>\n",
       "      <td>1.0</td>\n",
       "      <td>MPK</td>\n",
       "    </tr>\n",
       "    <tr>\n",
       "      <th>146</th>\n",
       "      <td>CHEMBL290133</td>\n",
       "      <td>IC50</td>\n",
       "      <td>20000.0</td>\n",
       "      <td>nM</td>\n",
       "    </tr>\n",
       "    <tr>\n",
       "      <th>147</th>\n",
       "      <td>CHEMBL290133</td>\n",
       "      <td>Intrinsic activity</td>\n",
       "      <td>0.32</td>\n",
       "      <td>None</td>\n",
       "    </tr>\n",
       "    <tr>\n",
       "      <th>148</th>\n",
       "      <td>CHEMBL296415</td>\n",
       "      <td>IC50</td>\n",
       "      <td>0.00086</td>\n",
       "      <td>ug.mL-1</td>\n",
       "    </tr>\n",
       "    <tr>\n",
       "      <th>149</th>\n",
       "      <td>CHEMBL296415</td>\n",
       "      <td>ILS</td>\n",
       "      <td>2.0</td>\n",
       "      <td>%</td>\n",
       "    </tr>\n",
       "  </tbody>\n",
       "</table>\n",
       "<p>150 rows × 4 columns</p>\n",
       "</div>"
      ],
      "text/plain": [
       "    molecule_chembl_id                type standard_value standard_units\n",
       "0         CHEMBL175414          Solubility       172900.0        ug.mL-1\n",
       "1         CHEMBL307157                  MP           45.0              %\n",
       "2         CHEMBL307157                  MP            0.0              %\n",
       "3         CHEMBL307157                  DP            0.0              %\n",
       "4         CHEMBL307157                  TP           76.0              %\n",
       "..                 ...                 ...            ...            ...\n",
       "145       CHEMBL336532                 CAR            1.0            MPK\n",
       "146       CHEMBL290133                IC50        20000.0             nM\n",
       "147       CHEMBL290133  Intrinsic activity           0.32           None\n",
       "148       CHEMBL296415                IC50        0.00086        ug.mL-1\n",
       "149       CHEMBL296415                 ILS            2.0              %\n",
       "\n",
       "[150 rows x 4 columns]"
      ]
     },
     "execution_count": 3,
     "metadata": {},
     "output_type": "execute_result"
    }
   ],
   "source": [
    "activity_table = pd.DataFrame.from_dict(activity_request['activities'])[['molecule_chembl_id', 'type', 'standard_value', 'standard_units']]\n",
    "activity_table #And we transform the data into a table"
   ]
  },
  {
   "cell_type": "code",
   "execution_count": 4,
   "id": "68996d23",
   "metadata": {
    "scrolled": true
   },
   "outputs": [
    {
     "data": {
      "text/html": [
       "<div>\n",
       "<style scoped>\n",
       "    .dataframe tbody tr th:only-of-type {\n",
       "        vertical-align: middle;\n",
       "    }\n",
       "\n",
       "    .dataframe tbody tr th {\n",
       "        vertical-align: top;\n",
       "    }\n",
       "\n",
       "    .dataframe thead th {\n",
       "        text-align: right;\n",
       "    }\n",
       "</style>\n",
       "<table border=\"1\" class=\"dataframe\">\n",
       "  <thead>\n",
       "    <tr style=\"text-align: right;\">\n",
       "      <th></th>\n",
       "      <th>molecule_chembl_id</th>\n",
       "      <th>type</th>\n",
       "      <th>standard_value</th>\n",
       "      <th>standard_units</th>\n",
       "    </tr>\n",
       "  </thead>\n",
       "  <tbody>\n",
       "    <tr>\n",
       "      <th>148</th>\n",
       "      <td>CHEMBL296415</td>\n",
       "      <td>IC50</td>\n",
       "      <td>0.00086</td>\n",
       "      <td>ug.mL-1</td>\n",
       "    </tr>\n",
       "    <tr>\n",
       "      <th>139</th>\n",
       "      <td>CHEMBL54768</td>\n",
       "      <td>IC50</td>\n",
       "      <td>0.01000</td>\n",
       "      <td>ug.mL-1</td>\n",
       "    </tr>\n",
       "    <tr>\n",
       "      <th>122</th>\n",
       "      <td>CHEMBL345415</td>\n",
       "      <td>IC50</td>\n",
       "      <td>1.07000</td>\n",
       "      <td>nM</td>\n",
       "    </tr>\n",
       "    <tr>\n",
       "      <th>111</th>\n",
       "      <td>CHEMBL431940</td>\n",
       "      <td>IC50</td>\n",
       "      <td>3.00000</td>\n",
       "      <td>nM</td>\n",
       "    </tr>\n",
       "    <tr>\n",
       "      <th>114</th>\n",
       "      <td>CHEMBL140442</td>\n",
       "      <td>IC50</td>\n",
       "      <td>3.40000</td>\n",
       "      <td>nM</td>\n",
       "    </tr>\n",
       "    <tr>\n",
       "      <th>92</th>\n",
       "      <td>CHEMBL129</td>\n",
       "      <td>IC50</td>\n",
       "      <td>4.00000</td>\n",
       "      <td>nM</td>\n",
       "    </tr>\n",
       "    <tr>\n",
       "      <th>89</th>\n",
       "      <td>CHEMBL129</td>\n",
       "      <td>IC50</td>\n",
       "      <td>4.00000</td>\n",
       "      <td>nM</td>\n",
       "    </tr>\n",
       "    <tr>\n",
       "      <th>91</th>\n",
       "      <td>CHEMBL129</td>\n",
       "      <td>IC50</td>\n",
       "      <td>6.00000</td>\n",
       "      <td>nM</td>\n",
       "    </tr>\n",
       "    <tr>\n",
       "      <th>108</th>\n",
       "      <td>CHEMBL415967</td>\n",
       "      <td>IC50</td>\n",
       "      <td>6.90000</td>\n",
       "      <td>nM</td>\n",
       "    </tr>\n",
       "    <tr>\n",
       "      <th>75</th>\n",
       "      <td>CHEMBL21222</td>\n",
       "      <td>IC50</td>\n",
       "      <td>10.00000</td>\n",
       "      <td>nM</td>\n",
       "    </tr>\n",
       "  </tbody>\n",
       "</table>\n",
       "</div>"
      ],
      "text/plain": [
       "    molecule_chembl_id  type  standard_value standard_units\n",
       "148       CHEMBL296415  IC50         0.00086        ug.mL-1\n",
       "139        CHEMBL54768  IC50         0.01000        ug.mL-1\n",
       "122       CHEMBL345415  IC50         1.07000             nM\n",
       "111       CHEMBL431940  IC50         3.00000             nM\n",
       "114       CHEMBL140442  IC50         3.40000             nM\n",
       "92           CHEMBL129  IC50         4.00000             nM\n",
       "89           CHEMBL129  IC50         4.00000             nM\n",
       "91           CHEMBL129  IC50         6.00000             nM\n",
       "108       CHEMBL415967  IC50         6.90000             nM\n",
       "75         CHEMBL21222  IC50        10.00000             nM"
      ]
     },
     "execution_count": 4,
     "metadata": {},
     "output_type": "execute_result"
    }
   ],
   "source": [
    "#We select only those that have IC50\n",
    "activity_table_filter = activity_table.loc[activity_table['type']==\"IC50\"].copy().dropna()\n",
    "#Transform the standard_value column to float to be able to work with it\n",
    "activity_table_filter['standard_value'] = activity_table_filter['standard_value'].astype(\"float\")\n",
    "#And we order the table by value\n",
    "activity_table_filter.sort_values(['standard_value']).head(10)"
   ]
  },
  {
   "cell_type": "markdown",
   "id": "8857f2aa",
   "metadata": {},
   "source": [
    "When we sort the found compounds by increasing $IC_{50}$ values, we found that the best compounds tageting 5aR-2 already have pretty low values: an $IC_{50}$ of 0.00086 $\\frac{ug}{mL}$ implies that, at that dose, half of all 5aR-2 would be inhibited, which is pretty good!"
   ]
  },
  {
   "cell_type": "markdown",
   "id": "e012d5c0",
   "metadata": {},
   "source": [
    "### Checking for similar molecules"
   ]
  },
  {
   "cell_type": "markdown",
   "id": "32c2be3b",
   "metadata": {},
   "source": [
    "Now that we have a potential drug candidate, we can visualize it by using its SMILES code:\n",
    "\n",
    "    CHEMBL296415: COC(=O)c1c(C(F)(F)F)[nH]c2c1C13CC1CN(C(=O)c1cc4cc(NC(=O)c5cc6ccccc6[nH]5)ccc4[nH]1)C3=CC2=O"
   ]
  },
  {
   "cell_type": "code",
   "execution_count": 5,
   "id": "107e125a",
   "metadata": {},
   "outputs": [],
   "source": [
    "#Lets import some more libraries!\n",
    "import rdkit\n",
    "import matplotlib.pyplot as plt\n",
    "from rdkit.Chem import MACCSkeys\n",
    "from rdkit.Chem import PandasTools\n",
    "from rdkit.Chem import rdFingerprintGenerator\n",
    "from ipywidgets import interact # widgets\n",
    "import ipywidgets as widgets"
   ]
  },
  {
   "cell_type": "code",
   "execution_count": 6,
   "id": "d67be8c9",
   "metadata": {},
   "outputs": [
    {
     "data": {
      "image/png": "[encoded data removed]",
      "text/plain": [
       "<PIL.PngImagePlugin.PngImageFile image mode=RGB size=300x300 at 0x7FCB6CCDD9A0>"
      ]
     },
     "execution_count": 6,
     "metadata": {},
     "output_type": "execute_result"
    }
   ],
   "source": [
    "#Define Query molecule\n",
    "smiles = \"COC(=O)c1c(C(F)(F)F)[nH]c2c1C13CC1CN(C(=O)c1cc4cc(NC(=O)c5cc6ccccc6[nH]5)ccc4[nH]1)C3=CC2=O\"\n",
    "Query = rdkit.Chem.MolFromSmiles(smiles)\n",
    "#Depict Query molecule\n",
    "rdkit.Chem.Draw.MolToImage(Query, includeAtomNumbers=True)"
   ]
  },
  {
   "cell_type": "markdown",
   "id": "d9b307e7",
   "metadata": {},
   "source": [
    "Now, that is a pretty complex molecule! As we said before, this already has quite a low $IC_{50}$, but, ¿how could we make it even lower? We can try to  find similar molecules to see if one of them has better $IC_{50}$. To do this, we upload the cannonical smiles to [SwisSimilarity](http://www.swisssimilarity.ch/?), selecting \"Combined - ChEMBL (activity<10µM)\". Once we get the results, we export the data as \"ScreeningResults.csv\" and save it in the same folder as this NoteBook to continue:"
   ]
  },
  {
   "cell_type": "code",
   "execution_count": 7,
   "id": "04ae8bef",
   "metadata": {},
   "outputs": [],
   "source": [
    "#Fist, we get the smiles for all the molecules associated with our initial target, CHEMBL1856\n",
    "swiss_table = pd.read_csv('./ScreeningResults.csv', delimiter=';')\n",
    "raw_database = swiss_table.set_axis(['ChemblID','Score','Smile'], axis=1)\n",
    "PandasTools.AddMoleculeColumnToFrame(raw_database, smilesCol='Smile')"
   ]
  },
  {
   "cell_type": "markdown",
   "id": "f6a3edeb",
   "metadata": {},
   "source": [
    "For similarity analysis, we have to, first, select a \"fingerprinting\" method that will let us compare the proteins. There are two main methods:\n",
    "* Molecular ACCess System (MACCS) fingerprints, also termed MACCS structural keys, consist of 166 predefined structural fragments. Each position queries the presence or absence of one particular structural fragment or key.\n",
    "*  Morgan Fingerprints, also called circular fingerprints, are based on the homonymous algorithm, in which each bit corresponds to the circular environment of each atom, and the number of neighboring bonds and atoms is set by the radius. The length is thus variable\n",
    "\n",
    "Each of this methods has its own advantages and disadvantages, so we will combine both for maximum accuracy."
   ]
  },
  {
   "cell_type": "code",
   "execution_count": 8,
   "id": "9b06ff27",
   "metadata": {},
   "outputs": [],
   "source": [
    "#We build databases for the two methods\n",
    "MACCSDatabase = raw_database.ROMol.apply(MACCSkeys.GenMACCSKeys)\n",
    "MorganDatabase = rdFingerprintGenerator.GetFPs(raw_database[\"ROMol\"].tolist())"
   ]
  },
  {
   "cell_type": "code",
   "execution_count": 9,
   "id": "63d60bba",
   "metadata": {},
   "outputs": [],
   "source": [
    "#And prepare the queries:\n",
    "MorganQuery = rdFingerprintGenerator.GetFPs([Query])[0]\n",
    "MACCQuery = MACCSkeys.GenMACCSKeys(Query)"
   ]
  },
  {
   "cell_type": "markdown",
   "id": "0b766447",
   "metadata": {},
   "source": [
    "Now, we have some queries and databases to search them for. But, ¿how can we evaluate the accuracy of the match? Here, we propose the usage of two common similarity measures: [the Tanimoto index and the Dice index](https://jcheminf.biomedcentral.com/articles/10.1186/s13321-015-0069-3)."
   ]
  },
  {
   "cell_type": "code",
   "execution_count": 10,
   "id": "61851fd1",
   "metadata": {},
   "outputs": [],
   "source": [
    "# We calculate this indices both for the MACCS fingerprints\n",
    "raw_database[\"Tanimoto (MACCS)\"] = rdkit.DataStructs.BulkTanimotoSimilarity(MACCQuery, MACCSDatabase)\n",
    "raw_database[\"Dice (MACCS)\"] = rdkit.DataStructs.BulkDiceSimilarity(MACCQuery, MACCSDatabase)\n",
    "# And for the morgan fingerprint too\n",
    "raw_database[\"Tanimoto (Morgan)\"] = rdkit.DataStructs.BulkTanimotoSimilarity(MorganQuery, MorganDatabase)\n",
    "raw_database[\"Dice (Morgan)\"] = rdkit.DataStructs.BulkDiceSimilarity(MorganQuery, MorganDatabase)"
   ]
  },
  {
   "cell_type": "markdown",
   "id": "c762c7bd",
   "metadata": {},
   "source": [
    "We can now proceed to analyse our results! For instance, we could plot the Tanimoto similarity for the MACCS fingerprints versus those for the Morgan Fingerprints. The best molecules would be those with higher overall values, i.e. those closer to the top right corner. So:"
   ]
  },
  {
   "cell_type": "code",
   "execution_count": 11,
   "id": "f77aa9d6",
   "metadata": {},
   "outputs": [
    {
     "data": {
      "image/png": "[encoded data removed]",
      "text/plain": [
       "<Figure size 432x432 with 1 Axes>"
      ]
     },
     "metadata": {
      "needs_background": "light"
     },
     "output_type": "display_data"
    }
   ],
   "source": [
    "fig, ax = plt.subplots(figsize=(6, 6))\n",
    "raw_database.plot(\"Tanimoto (MACCS)\", \"Tanimoto (Morgan)\", kind=\"scatter\", ax=ax)\n",
    "ax.plot([0, 1], [0, 1], \"k--\")\n",
    "ax.set_xlabel(\"Tanimoto (MACCS)\")\n",
    "ax.set_ylabel(\"Tanimoto (Morgan)\")\n",
    "fig;"
   ]
  },
  {
   "cell_type": "markdown",
   "id": "e8e61517",
   "metadata": {},
   "source": [
    "We can see there is not much variability in the morgan fingerprints, with MACCS fingerprints bringing just a bit more info. That is weird! Lets check the distribution histograms to see if that is indeed the case:"
   ]
  },
  {
   "cell_type": "code",
   "execution_count": 12,
   "id": "adb0ac5f",
   "metadata": {
    "scrolled": true
   },
   "outputs": [
    {
     "data": {
      "image/png": "[encoded data removed]",
      "text/plain": [
       "<Figure size 720x432 with 4 Axes>"
      ]
     },
     "metadata": {
      "needs_background": "light"
     },
     "output_type": "display_data"
    }
   ],
   "source": [
    "fig, axes = plt.subplots(figsize=(10, 6), nrows=2, ncols=2)\n",
    "raw_database.hist([\"Tanimoto (MACCS)\"], ax=axes[0, 0])\n",
    "raw_database.hist([\"Tanimoto (Morgan)\"], ax=axes[0, 1])\n",
    "raw_database.hist([\"Dice (MACCS)\"], ax=axes[1, 0])\n",
    "raw_database.hist([\"Dice (Morgan)\"], ax=axes[1, 1])\n",
    "axes[1, 0].set_xlabel(\"similarity value\")\n",
    "axes[1, 0].set_ylabel(\"# molecules\")\n",
    "fig;"
   ]
  },
  {
   "cell_type": "markdown",
   "id": "b6ae55eb",
   "metadata": {},
   "source": [
    "Seeing the histograms, we can't say for sure; it seems like MACCS has indeed a bit more variability, but meh. We can also directly compare Tanimoto and Dice similarities for the two fingerprints."
   ]
  },
  {
   "cell_type": "code",
   "execution_count": 13,
   "id": "ac235f6e",
   "metadata": {},
   "outputs": [
    {
     "data": {
      "image/png": "[encoded data removed]",
      "text/plain": [
       "<Figure size 720x360 with 2 Axes>"
      ]
     },
     "metadata": {
      "needs_background": "light"
     },
     "output_type": "display_data"
    }
   ],
   "source": [
    "fig, axes = plt.subplots(figsize=(10, 5), nrows=1, ncols=2)\n",
    "\n",
    "raw_database.plot(\"Tanimoto (MACCS)\", \"Dice (MACCS)\", kind=\"scatter\", ax=axes[0])\n",
    "axes[0].plot([0, 1], [0, 1], \"k--\")\n",
    "axes[0].set_xlabel(\"Tanimoto (MACCS)\")\n",
    "axes[0].set_ylabel(\"Dice (MACCS)\")\n",
    "\n",
    "raw_database.plot(\"Tanimoto (Morgan)\", \"Dice (Morgan)\", kind=\"scatter\", ax=axes[1])\n",
    "axes[1].plot([0, 1], [0, 1], \"k--\")\n",
    "axes[1].set_xlabel(\"Tanimoto (Morgan)\")\n",
    "axes[1].set_ylabel(\"Dice (Morgan)\")\n",
    "\n",
    "fig;"
   ]
  },
  {
   "cell_type": "markdown",
   "id": "71feabca",
   "metadata": {},
   "source": [
    "There is indeed difference between the two methods, both in variance and in average values."
   ]
  },
  {
   "cell_type": "markdown",
   "id": "96c2075d",
   "metadata": {},
   "source": [
    "Finally, we may select molecules which are pretty similar to our starting molecule. Lets see the average values for our parameters:"
   ]
  },
  {
   "cell_type": "code",
   "execution_count": 14,
   "id": "d4f4530d",
   "metadata": {},
   "outputs": [
    {
     "data": {
      "text/html": [
       "<div>\n",
       "<style scoped>\n",
       "    .dataframe tbody tr th:only-of-type {\n",
       "        vertical-align: middle;\n",
       "    }\n",
       "\n",
       "    .dataframe tbody tr th {\n",
       "        vertical-align: top;\n",
       "    }\n",
       "\n",
       "    .dataframe thead th {\n",
       "        text-align: right;\n",
       "    }\n",
       "</style>\n",
       "<table border=\"1\" class=\"dataframe\">\n",
       "  <thead>\n",
       "    <tr style=\"text-align: right;\">\n",
       "      <th></th>\n",
       "      <th>Score</th>\n",
       "      <th>Tanimoto (MACCS)</th>\n",
       "      <th>Dice (MACCS)</th>\n",
       "      <th>Tanimoto (Morgan)</th>\n",
       "      <th>Dice (Morgan)</th>\n",
       "    </tr>\n",
       "  </thead>\n",
       "  <tbody>\n",
       "    <tr>\n",
       "      <th>count</th>\n",
       "      <td>399.000000</td>\n",
       "      <td>399.000000</td>\n",
       "      <td>399.000000</td>\n",
       "      <td>399.000000</td>\n",
       "      <td>399.000000</td>\n",
       "    </tr>\n",
       "    <tr>\n",
       "      <th>mean</th>\n",
       "      <td>0.006852</td>\n",
       "      <td>0.539287</td>\n",
       "      <td>0.697946</td>\n",
       "      <td>0.163126</td>\n",
       "      <td>0.279435</td>\n",
       "    </tr>\n",
       "    <tr>\n",
       "      <th>std</th>\n",
       "      <td>0.002403</td>\n",
       "      <td>0.070169</td>\n",
       "      <td>0.060605</td>\n",
       "      <td>0.028957</td>\n",
       "      <td>0.042704</td>\n",
       "    </tr>\n",
       "    <tr>\n",
       "      <th>min</th>\n",
       "      <td>0.004000</td>\n",
       "      <td>0.340909</td>\n",
       "      <td>0.508475</td>\n",
       "      <td>0.087302</td>\n",
       "      <td>0.160584</td>\n",
       "    </tr>\n",
       "    <tr>\n",
       "      <th>25%</th>\n",
       "      <td>0.005000</td>\n",
       "      <td>0.488088</td>\n",
       "      <td>0.655994</td>\n",
       "      <td>0.142857</td>\n",
       "      <td>0.250000</td>\n",
       "    </tr>\n",
       "    <tr>\n",
       "      <th>50%</th>\n",
       "      <td>0.006000</td>\n",
       "      <td>0.543210</td>\n",
       "      <td>0.704000</td>\n",
       "      <td>0.160305</td>\n",
       "      <td>0.276316</td>\n",
       "    </tr>\n",
       "    <tr>\n",
       "      <th>75%</th>\n",
       "      <td>0.008000</td>\n",
       "      <td>0.597392</td>\n",
       "      <td>0.747959</td>\n",
       "      <td>0.182609</td>\n",
       "      <td>0.308824</td>\n",
       "    </tr>\n",
       "    <tr>\n",
       "      <th>max</th>\n",
       "      <td>0.020000</td>\n",
       "      <td>0.693333</td>\n",
       "      <td>0.818898</td>\n",
       "      <td>0.228070</td>\n",
       "      <td>0.371429</td>\n",
       "    </tr>\n",
       "  </tbody>\n",
       "</table>\n",
       "</div>"
      ],
      "text/plain": [
       "            Score  Tanimoto (MACCS)  Dice (MACCS)  Tanimoto (Morgan)  \\\n",
       "count  399.000000        399.000000    399.000000         399.000000   \n",
       "mean     0.006852          0.539287      0.697946           0.163126   \n",
       "std      0.002403          0.070169      0.060605           0.028957   \n",
       "min      0.004000          0.340909      0.508475           0.087302   \n",
       "25%      0.005000          0.488088      0.655994           0.142857   \n",
       "50%      0.006000          0.543210      0.704000           0.160305   \n",
       "75%      0.008000          0.597392      0.747959           0.182609   \n",
       "max      0.020000          0.693333      0.818898           0.228070   \n",
       "\n",
       "       Dice (Morgan)  \n",
       "count     399.000000  \n",
       "mean        0.279435  \n",
       "std         0.042704  \n",
       "min         0.160584  \n",
       "25%         0.250000  \n",
       "50%         0.276316  \n",
       "75%         0.308824  \n",
       "max         0.371429  "
      ]
     },
     "execution_count": 14,
     "metadata": {},
     "output_type": "execute_result"
    }
   ],
   "source": [
    "raw_database.describe()"
   ]
  },
  {
   "cell_type": "markdown",
   "id": "f5d4d8ed",
   "metadata": {},
   "source": [
    "As we can see, the simmilarity scores are pretty small, but this is to be expected when selecting \"Combined - ChEMBL (activity<10µM)\" in ENSEMBL, as it takes two methods (electroshape and fingerprint) which are quite different. For our Tanimoto and Dice metrics, we can see that all metrics including MACCS yield way better values than those used with the Morgan fingerprint, and those with Dice show better results than those with Tanimoto. Thus, we use \"dice_maccs\" as our parameter, and set the cutoff to 0.725 (with a length of ~150 elements as we were told to have) and save the data for the next Assignment."
   ]
  },
  {
   "cell_type": "code",
   "execution_count": 15,
   "id": "25e44985",
   "metadata": {},
   "outputs": [
    {
     "data": {
      "text/plain": [
       "156"
      ]
     },
     "execution_count": 15,
     "metadata": {},
     "output_type": "execute_result"
    }
   ],
   "source": [
    "raw_databasefilter = raw_database.loc[raw_database['Dice (MACCS)'].astype('float') > 0.725]\n",
    "len(raw_databasefilter. index)"
   ]
  },
  {
   "cell_type": "code",
   "execution_count": 16,
   "id": "da20a5d3",
   "metadata": {},
   "outputs": [],
   "source": [
    "#We could thus proceed to save, but... see the next section!!\n",
    "#raw_database.to_csv('./SimilarityAnalysisFinasteride.csv')"
   ]
  },
  {
   "cell_type": "markdown",
   "id": "fa71ff74",
   "metadata": {},
   "source": [
    "## Check for already approved drugs"
   ]
  },
  {
   "cell_type": "markdown",
   "id": "1b771d42",
   "metadata": {},
   "source": [
    "That is all very well if we dont have any previously approved drugs, but what if the state-of-the-art is currently more advanced and we indeed have a good target that is selective and has a good $IC_{50}$? Lets see..."
   ]
  },
  {
   "cell_type": "code",
   "execution_count": 17,
   "id": "f098236a",
   "metadata": {},
   "outputs": [
    {
     "data": {
      "text/html": [
       "<div>\n",
       "<style scoped>\n",
       "    .dataframe tbody tr th:only-of-type {\n",
       "        vertical-align: middle;\n",
       "    }\n",
       "\n",
       "    .dataframe tbody tr th {\n",
       "        vertical-align: top;\n",
       "    }\n",
       "\n",
       "    .dataframe thead th {\n",
       "        text-align: right;\n",
       "    }\n",
       "</style>\n",
       "<table border=\"1\" class=\"dataframe\">\n",
       "  <thead>\n",
       "    <tr style=\"text-align: right;\">\n",
       "      <th></th>\n",
       "      <th>molecule_chembl_id</th>\n",
       "      <th>max_phase</th>\n",
       "    </tr>\n",
       "  </thead>\n",
       "  <tbody>\n",
       "    <tr>\n",
       "      <th>0</th>\n",
       "      <td>CHEMBL710</td>\n",
       "      <td>4</td>\n",
       "    </tr>\n",
       "  </tbody>\n",
       "</table>\n",
       "</div>"
      ],
      "text/plain": [
       "  molecule_chembl_id  max_phase\n",
       "0          CHEMBL710          4"
      ]
     },
     "execution_count": 17,
     "metadata": {},
     "output_type": "execute_result"
    }
   ],
   "source": [
    "#We specify we want approved drugs that target CHEMBL1856\n",
    "mechanism_url = \"https://www.ebi.ac.uk/chembl/api/data/mechanism?target_chembl_id__exact=CHEMBL1856\"\n",
    "#And get data from the URL\n",
    "mechanism_components = requests.get(mechanism_url, headers={\"Accept\":\"application/json\"}).json()\n",
    "#Translate it to table\n",
    "mechanism_table = pd.DataFrame.from_dict(mechanism_components['mechanisms'])[['molecule_chembl_id', 'max_phase']]\n",
    "mechanism_table #And print"
   ]
  },
  {
   "cell_type": "markdown",
   "id": "6d9926a1",
   "metadata": {},
   "source": [
    "¡Oh! So **there is** one approved drug! As we can see in the [report card](https://www.ebi.ac.uk/chembl/compound_report_card/CHEMBL710/), this drug is finasteride, which is consistent with the info displayed in the report's sources. Lets see if we can find some simmilar drugs in SwissSimilarity (re-making 1.2)...\n",
    "\n",
    "This is the Canonical Smiles for Finasteride:\n",
    "    \n",
    "    CHEMBL710: CC(C)(C)NC(=O)[C@H]1CC[C@H]2[C@@H]3CC[C@H]4NC(=O)C=C[C@]4(C)[C@H]3CC[C@]12C\n",
    "    \n",
    "We can depict it:"
   ]
  },
  {
   "cell_type": "code",
   "execution_count": 3,
   "id": "a5854f99",
   "metadata": {},
   "outputs": [
    {
     "data": {
      "image/png": "[encoded data removed]",
      "text/plain": [
       "<PIL.PngImagePlugin.PngImageFile image mode=RGB size=300x300 at 0x7F2EB864AAF0>"
      ]
     },
     "execution_count": 3,
     "metadata": {},
     "output_type": "execute_result"
    }
   ],
   "source": [
    "smiles = \"CC(C)(C)NC(=O)[C@H]1CC[C@H]2[C@@H]3CC[C@H]4NC(=O)C=C[C@]4(C)[C@H]3CC[C@]12C\"\n",
    "Query = rdkit.Chem.MolFromSmiles(smiles)\n",
    "rdkit.Chem.Draw.MolToImage(Query, includeAtomNumbers=True)"
   ]
  },
  {
   "cell_type": "markdown",
   "id": "c0666f27",
   "metadata": {},
   "source": [
    "And then import the reports from SwissSimilarity and generate the desired metrics:"
   ]
  },
  {
   "cell_type": "code",
   "execution_count": 4,
   "id": "1957fb84",
   "metadata": {},
   "outputs": [],
   "source": [
    "swiss_table_fns = pd.read_csv('./ScreeningResultsFinasteride.csv', delimiter=';', \n",
    "                              names =('ChemblID','Score','Smile'))\n",
    "PandasTools.AddMoleculeColumnToFrame(swiss_table_fns, smilesCol='Smile')"
   ]
  },
  {
   "cell_type": "code",
   "execution_count": 5,
   "id": "c3b85259",
   "metadata": {},
   "outputs": [],
   "source": [
    "MACCSDatabase = swiss_table_fns.ROMol.apply(MACCSkeys.GenMACCSKeys)\n",
    "MorganDatabase = rdFingerprintGenerator.GetFPs(swiss_table_fns[\"ROMol\"].tolist())\n",
    "MorganQuery = rdFingerprintGenerator.GetFPs([Query])[0]\n",
    "MACCQuery = MACCSkeys.GenMACCSKeys(Query)"
   ]
  },
  {
   "cell_type": "code",
   "execution_count": 6,
   "id": "bd099ae3",
   "metadata": {},
   "outputs": [],
   "source": [
    "swiss_table_fns[\"Tanimoto (MACCS)\"] = rdkit.DataStructs.BulkTanimotoSimilarity(MACCQuery, MACCSDatabase)\n",
    "swiss_table_fns[\"Dice (MACCS)\"] = rdkit.DataStructs.BulkDiceSimilarity(MACCQuery, MACCSDatabase)\n",
    "swiss_table_fns[\"Tanimoto (Morgan)\"] = rdkit.DataStructs.BulkTanimotoSimilarity(MorganQuery, MorganDatabase)\n",
    "swiss_table_fns[\"Dice (Morgan)\"] = rdkit.DataStructs.BulkDiceSimilarity(MorganQuery, MorganDatabase)"
   ]
  },
  {
   "cell_type": "markdown",
   "id": "8685809b",
   "metadata": {},
   "source": [
    "To select the best compounds, lets once again analyze their simmilarity scores:"
   ]
  },
  {
   "cell_type": "code",
   "execution_count": 7,
   "id": "8a366801",
   "metadata": {
    "scrolled": false
   },
   "outputs": [
    {
     "data": {
      "text/html": [
       "<div>\n",
       "<style scoped>\n",
       "    .dataframe tbody tr th:only-of-type {\n",
       "        vertical-align: middle;\n",
       "    }\n",
       "\n",
       "    .dataframe tbody tr th {\n",
       "        vertical-align: top;\n",
       "    }\n",
       "\n",
       "    .dataframe thead th {\n",
       "        text-align: right;\n",
       "    }\n",
       "</style>\n",
       "<table border=\"1\" class=\"dataframe\">\n",
       "  <thead>\n",
       "    <tr style=\"text-align: right;\">\n",
       "      <th></th>\n",
       "      <th>Score</th>\n",
       "      <th>Tanimoto (MACCS)</th>\n",
       "      <th>Dice (MACCS)</th>\n",
       "      <th>Tanimoto (Morgan)</th>\n",
       "      <th>Dice (Morgan)</th>\n",
       "    </tr>\n",
       "  </thead>\n",
       "  <tbody>\n",
       "    <tr>\n",
       "      <th>count</th>\n",
       "      <td>400.000000</td>\n",
       "      <td>400.000000</td>\n",
       "      <td>400.000000</td>\n",
       "      <td>400.000000</td>\n",
       "      <td>400.000000</td>\n",
       "    </tr>\n",
       "    <tr>\n",
       "      <th>mean</th>\n",
       "      <td>0.055978</td>\n",
       "      <td>0.482113</td>\n",
       "      <td>0.640505</td>\n",
       "      <td>0.157272</td>\n",
       "      <td>0.258770</td>\n",
       "    </tr>\n",
       "    <tr>\n",
       "      <th>std</th>\n",
       "      <td>0.099914</td>\n",
       "      <td>0.130162</td>\n",
       "      <td>0.115564</td>\n",
       "      <td>0.108950</td>\n",
       "      <td>0.140409</td>\n",
       "    </tr>\n",
       "    <tr>\n",
       "      <th>min</th>\n",
       "      <td>0.025000</td>\n",
       "      <td>0.205128</td>\n",
       "      <td>0.340426</td>\n",
       "      <td>0.035294</td>\n",
       "      <td>0.068182</td>\n",
       "    </tr>\n",
       "    <tr>\n",
       "      <th>25%</th>\n",
       "      <td>0.027750</td>\n",
       "      <td>0.388682</td>\n",
       "      <td>0.559785</td>\n",
       "      <td>0.093458</td>\n",
       "      <td>0.170940</td>\n",
       "    </tr>\n",
       "    <tr>\n",
       "      <th>50%</th>\n",
       "      <td>0.030000</td>\n",
       "      <td>0.450806</td>\n",
       "      <td>0.621456</td>\n",
       "      <td>0.113636</td>\n",
       "      <td>0.204082</td>\n",
       "    </tr>\n",
       "    <tr>\n",
       "      <th>75%</th>\n",
       "      <td>0.038000</td>\n",
       "      <td>0.600000</td>\n",
       "      <td>0.750000</td>\n",
       "      <td>0.172580</td>\n",
       "      <td>0.294359</td>\n",
       "    </tr>\n",
       "    <tr>\n",
       "      <th>max</th>\n",
       "      <td>0.998000</td>\n",
       "      <td>1.000000</td>\n",
       "      <td>1.000000</td>\n",
       "      <td>1.000000</td>\n",
       "      <td>1.000000</td>\n",
       "    </tr>\n",
       "  </tbody>\n",
       "</table>\n",
       "</div>"
      ],
      "text/plain": [
       "            Score  Tanimoto (MACCS)  Dice (MACCS)  Tanimoto (Morgan)  \\\n",
       "count  400.000000        400.000000    400.000000         400.000000   \n",
       "mean     0.055978          0.482113      0.640505           0.157272   \n",
       "std      0.099914          0.130162      0.115564           0.108950   \n",
       "min      0.025000          0.205128      0.340426           0.035294   \n",
       "25%      0.027750          0.388682      0.559785           0.093458   \n",
       "50%      0.030000          0.450806      0.621456           0.113636   \n",
       "75%      0.038000          0.600000      0.750000           0.172580   \n",
       "max      0.998000          1.000000      1.000000           1.000000   \n",
       "\n",
       "       Dice (Morgan)  \n",
       "count     400.000000  \n",
       "mean        0.258770  \n",
       "std         0.140409  \n",
       "min         0.068182  \n",
       "25%         0.170940  \n",
       "50%         0.204082  \n",
       "75%         0.294359  \n",
       "max         1.000000  "
      ]
     },
     "execution_count": 7,
     "metadata": {},
     "output_type": "execute_result"
    }
   ],
   "source": [
    "swiss_table_fns.describe()"
   ]
  },
  {
   "cell_type": "markdown",
   "id": "87862873",
   "metadata": {},
   "source": [
    "Hum! Interesting. Even though we used the same method, the simmilarity scores are way higher! Tanimoto and Dice indexes, are, in general, a bit worse, but still acceptable; and, as before, values are Dice > Tanimoto and MACCS > Tanimoto; so, we filter by Dice MACCS:"
   ]
  },
  {
   "cell_type": "code",
   "execution_count": 23,
   "id": "7feaf32f",
   "metadata": {},
   "outputs": [
    {
     "data": {
      "text/plain": [
       "194"
      ]
     },
     "execution_count": 23,
     "metadata": {},
     "output_type": "execute_result"
    }
   ],
   "source": [
    "swiss_table_fns_filter = swiss_table_fns.loc[swiss_table_fns['Dice (MACCS)'].astype('float') > 0.625]\n",
    "len(swiss_table_fns_filter. index)"
   ]
  },
  {
   "cell_type": "markdown",
   "id": "b04727ef",
   "metadata": {},
   "source": [
    "This is great! We can thus proceed to save this new database, instead of the old one, given that finasteride is already known to be target-selective. We remove the ROMol column since:\n",
    "a) they are images\n",
    "b) they can be easily generated\n",
    "c) they hugely increase DB size"
   ]
  },
  {
   "cell_type": "code",
   "execution_count": 24,
   "id": "902cb487",
   "metadata": {},
   "outputs": [],
   "source": [
    "swiss_table_fns_filter.drop('ROMol', axis=1).to_csv('./SimilarityAnalysisFinasteride.csv', index=False)"
   ]
  }
 ],
 "metadata": {
  "kernelspec": {
   "display_name": "Python 3 (ipykernel)",
   "language": "python",
   "name": "python3"
  },
  "language_info": {
   "codemirror_mode": {
    "name": "ipython",
    "version": 3
   },
   "file_extension": ".py",
   "mimetype": "text/x-python",
   "name": "python",
   "nbconvert_exporter": "python",
   "pygments_lexer": "ipython3",
   "version": "3.8.10"
  }
 },
 "nbformat": 4,
 "nbformat_minor": 5
}
