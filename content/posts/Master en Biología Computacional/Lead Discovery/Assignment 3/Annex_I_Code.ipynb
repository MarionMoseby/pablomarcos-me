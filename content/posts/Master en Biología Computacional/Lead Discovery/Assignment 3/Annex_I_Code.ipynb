{
 "cells": [
  {
   "cell_type": "markdown",
   "metadata": {},
   "source": [
    "This jupyter notebook shall serve as accompanying material to the paper titled \"Using Computational Methods to Discover Novel Drugs for the Treatment of Androgenetic Alopecia\", a report for the \"Computational Structural Biology for Lead Discovery\" subject at UPM's Master in Computational Biology"
   ]
  },
  {
   "cell_type": "markdown",
   "metadata": {},
   "source": [
    "## Imports"
   ]
  },
  {
   "cell_type": "markdown",
   "metadata": {},
   "source": [
    "First, we proceed to import the modules we will use:"
   ]
  },
  {
   "cell_type": "code",
   "execution_count": 1,
   "metadata": {},
   "outputs": [],
   "source": [
    "import json                        # Lets us work with the json format\n",
    "import requests                    # Allows Python to make web requests\n",
    "import pandas as pd                # Analysis of tabular data\n",
    "import numpy as np                 # Numerical library\n",
    "import matplotlib.pyplot as plt    # Static, animated, and interactive visualizations\n",
    "\n",
    "import rdkit                       # Cheminformatics and ML package\n",
    "from rdkit.Chem import MACCSkeys   # MACCS fingerprint calculation\n",
    "from rdkit.Chem import PandasTools # RDkit interaction with pandas\n",
    "from rdkit.Chem import rdFingerprintGenerator #Generate fingerprints\n",
    "from rdkit import Chem             # The chemistry library\n",
    "from rdkit.Chem import Descriptors, Draw # Molecule descriptors for the Ro5\n",
    "import rdkit.Chem.AllChem as AllChem # Import all RDKit chemistry modules"
   ]
  },
  {
   "cell_type": "markdown",
   "metadata": {},
   "source": [
    "## Initial Analysis"
   ]
  },
  {
   "cell_type": "markdown",
   "metadata": {},
   "source": [
    "First, we query the compounds targeting **CHEMBL1856** (3-oxo-5-alpha-steroid 4-dehydrogenase 2, a.k.a. 5-$\\alpha$-reductase type II"
   ]
  },
  {
   "cell_type": "code",
   "execution_count": 2,
   "metadata": {},
   "outputs": [],
   "source": [
    "# Ask for at least 150 compounds\n",
    "activity_url = \"https://www.ebi.ac.uk/chembl/api/data/activity?target_chembl_id_exact=CHEMBL1856&offset=150&limit=150\"\n",
    "# Get results as JSON\n",
    "activity_request = requests.get(activity_url, headers={\"Accept\":\"application/json\"}).json()\n",
    "# Display as table\n",
    "activity_table = pd.DataFrame.from_dict(activity_request['activities'])[['molecule_chembl_id', \n",
    "                                                                         'type', 'standard_value', 'standard_units']]"
   ]
  },
  {
   "cell_type": "markdown",
   "metadata": {},
   "source": [
    "We then process the data by Ki and standarize the values"
   ]
  },
  {
   "cell_type": "code",
   "execution_count": 3,
   "metadata": {},
   "outputs": [
    {
     "data": {
      "text/html": [
       "<div>\n",
       "<style scoped>\n",
       "    .dataframe tbody tr th:only-of-type {\n",
       "        vertical-align: middle;\n",
       "    }\n",
       "\n",
       "    .dataframe tbody tr th {\n",
       "        vertical-align: top;\n",
       "    }\n",
       "\n",
       "    .dataframe thead th {\n",
       "        text-align: right;\n",
       "    }\n",
       "</style>\n",
       "<table border=\"1\" class=\"dataframe\">\n",
       "  <thead>\n",
       "    <tr style=\"text-align: right;\">\n",
       "      <th></th>\n",
       "      <th>molecule_chembl_id</th>\n",
       "      <th>type</th>\n",
       "      <th>standard_value</th>\n",
       "      <th>standard_units</th>\n",
       "    </tr>\n",
       "  </thead>\n",
       "  <tbody>\n",
       "    <tr>\n",
       "      <th>143</th>\n",
       "      <td>CHEMBL336532</td>\n",
       "      <td>Ki</td>\n",
       "      <td>7.6</td>\n",
       "      <td>nM</td>\n",
       "    </tr>\n",
       "    <tr>\n",
       "      <th>21</th>\n",
       "      <td>CHEMBL3350133</td>\n",
       "      <td>Ki</td>\n",
       "      <td>44.0</td>\n",
       "      <td>nM</td>\n",
       "    </tr>\n",
       "    <tr>\n",
       "      <th>140</th>\n",
       "      <td>CHEMBL340006</td>\n",
       "      <td>Ki</td>\n",
       "      <td>46.0</td>\n",
       "      <td>nM</td>\n",
       "    </tr>\n",
       "    <tr>\n",
       "      <th>25</th>\n",
       "      <td>CHEMBL3350133</td>\n",
       "      <td>Ki</td>\n",
       "      <td>110.0</td>\n",
       "      <td>nM</td>\n",
       "    </tr>\n",
       "    <tr>\n",
       "      <th>141</th>\n",
       "      <td>CHEMBL340006</td>\n",
       "      <td>Ki</td>\n",
       "      <td>265.0</td>\n",
       "      <td>nM</td>\n",
       "    </tr>\n",
       "  </tbody>\n",
       "</table>\n",
       "</div>"
      ],
      "text/plain": [
       "    molecule_chembl_id type  standard_value standard_units\n",
       "143       CHEMBL336532   Ki             7.6             nM\n",
       "21       CHEMBL3350133   Ki            44.0             nM\n",
       "140       CHEMBL340006   Ki            46.0             nM\n",
       "25       CHEMBL3350133   Ki           110.0             nM\n",
       "141       CHEMBL340006   Ki           265.0             nM"
      ]
     },
     "execution_count": 3,
     "metadata": {},
     "output_type": "execute_result"
    }
   ],
   "source": [
    "# Select only those that have Ki\n",
    "activity_table_filter = activity_table.loc[activity_table['type']==\"Ki\"].copy().dropna()\n",
    "# Transform the standard_value column to float to be able to work with it\n",
    "activity_table_filter['standard_value'] = activity_table_filter['standard_value'].astype(\"float\")\n",
    "# Order the table by value and display first 5 values\n",
    "activity_table_filter.sort_values(['standard_value']).head(5)"
   ]
  },
  {
   "cell_type": "markdown",
   "metadata": {},
   "source": [
    "We find the best compound to be CHEMBL296415. After [checking CHEMBL](https://www.ebi.ac.uk/chembl/compound_report_card/CHEMBL296415/), we find no information on selectivity; since we want it to be selective, we search for approved, selective drugs:"
   ]
  },
  {
   "cell_type": "code",
   "execution_count": 4,
   "metadata": {},
   "outputs": [
    {
     "data": {
      "text/html": [
       "<div>\n",
       "<style scoped>\n",
       "    .dataframe tbody tr th:only-of-type {\n",
       "        vertical-align: middle;\n",
       "    }\n",
       "\n",
       "    .dataframe tbody tr th {\n",
       "        vertical-align: top;\n",
       "    }\n",
       "\n",
       "    .dataframe thead th {\n",
       "        text-align: right;\n",
       "    }\n",
       "</style>\n",
       "<table border=\"1\" class=\"dataframe\">\n",
       "  <thead>\n",
       "    <tr style=\"text-align: right;\">\n",
       "      <th></th>\n",
       "      <th>molecule_chembl_id</th>\n",
       "      <th>max_phase</th>\n",
       "    </tr>\n",
       "  </thead>\n",
       "  <tbody>\n",
       "    <tr>\n",
       "      <th>0</th>\n",
       "      <td>CHEMBL710</td>\n",
       "      <td>4</td>\n",
       "    </tr>\n",
       "  </tbody>\n",
       "</table>\n",
       "</div>"
      ],
      "text/plain": [
       "  molecule_chembl_id  max_phase\n",
       "0          CHEMBL710          4"
      ]
     },
     "execution_count": 4,
     "metadata": {},
     "output_type": "execute_result"
    }
   ],
   "source": [
    "# Specify approved drugs that target CHEMBL1856\n",
    "mechanism_url = \"https://www.ebi.ac.uk/chembl/api/data/mechanism?target_chembl_id__exact=CHEMBL1856\"\n",
    "# Get data from the URL\n",
    "mechanism_components = requests.get(mechanism_url, headers={\"Accept\":\"application/json\"}).json()\n",
    "# Format dataframe\n",
    "mechanism_table = pd.DataFrame.from_dict(mechanism_components['mechanisms'])[['molecule_chembl_id', 'max_phase']]\n",
    "mechanism_table #And print"
   ]
  },
  {
   "cell_type": "markdown",
   "metadata": {},
   "source": [
    "We find there is only one approved compound, Finasteride (**CHEMBL710**). Our focus will thus be finding drugs similar to Finasteride, but more effective, more selective, and with less side effects."
   ]
  },
  {
   "cell_type": "markdown",
   "metadata": {},
   "source": [
    "## Similarity Analysis"
   ]
  },
  {
   "cell_type": "markdown",
   "metadata": {},
   "source": [
    "We upload FNS's SMILES TO [SwissSimilarity](http://www.swisssimilarity.ch/), select ChEMBL (activity<10µM) as subset and combined as method, run the analysis and save the result as \"ScreeningResultsFinasteride.csv\"."
   ]
  },
  {
   "cell_type": "markdown",
   "metadata": {},
   "source": [
    "## Ligand Based Virtual Screening"
   ]
  },
  {
   "cell_type": "markdown",
   "metadata": {},
   "source": [
    "We subset this data to get only the results most similar to FNS, using a series of metrics (DICE/Tanimoto, MACCS/Morgan) explained in the paper."
   ]
  },
  {
   "cell_type": "code",
   "execution_count": 5,
   "metadata": {},
   "outputs": [
    {
     "data": {
      "image/png": "[encoded data removed]",
      "text/plain": [
       "<PIL.PngImagePlugin.PngImageFile image mode=RGB size=300x300 at 0x7F8DE1DB7E20>"
      ]
     },
     "execution_count": 5,
     "metadata": {},
     "output_type": "execute_result"
    }
   ],
   "source": [
    "# Define Query molecule\n",
    "smiles = \"CC(C)(C)NC(=O)[C@H]1CC[C@H]2[C@@H]3CC[C@H]4NC(=O)C=C[C@]4(C)[C@H]3CC[C@]12C\"\n",
    "Query = rdkit.Chem.MolFromSmiles(smiles)\n",
    "# And depict it\n",
    "rdkit.Chem.Draw.MolToImage(Query, includeAtomNumbers=True)"
   ]
  },
  {
   "cell_type": "code",
   "execution_count": 6,
   "metadata": {},
   "outputs": [
    {
     "name": "stdout",
     "output_type": "stream",
     "text": [
      "The initial compounds database has 400 molecules\n"
     ]
    }
   ],
   "source": [
    "raw_database = pd.read_csv('./ScreeningResultsFinasteride.csv', delimiter=';', \n",
    "                           names =('ChemblID','Score','Smile'))       # Read the file and add titles\n",
    "print(f\"The initial compounds database has {len(raw_database)} molecules\")\n",
    "PandasTools.AddMoleculeColumnToFrame(raw_database, smilesCol='Smile') # Generate molecule (RoMol) from SMILES"
   ]
  },
  {
   "cell_type": "markdown",
   "metadata": {},
   "source": [
    "Now, we will build databases for our fingerprints:"
   ]
  },
  {
   "cell_type": "code",
   "execution_count": 7,
   "metadata": {},
   "outputs": [],
   "source": [
    "# We build databases for the two methods\n",
    "MACCSDatabase = raw_database.ROMol.apply(MACCSkeys.GenMACCSKeys)\n",
    "MorganDatabase = rdFingerprintGenerator.GetFPs(raw_database[\"ROMol\"].tolist())\n",
    "\n",
    "# And prepare the queries:\n",
    "MorganQuery = rdFingerprintGenerator.GetFPs([Query])[0]\n",
    "MACCQuery = MACCSkeys.GenMACCSKeys(Query)"
   ]
  },
  {
   "cell_type": "markdown",
   "metadata": {},
   "source": [
    "And we calculate the indices based on those fingerprints:"
   ]
  },
  {
   "cell_type": "code",
   "execution_count": 8,
   "metadata": {},
   "outputs": [],
   "source": [
    "# We calculate this indices both for the MACCS fingerprints\n",
    "raw_database[\"Tanimoto (MACCS)\"] = rdkit.DataStructs.BulkTanimotoSimilarity(MACCQuery, MACCSDatabase)\n",
    "raw_database[\"Dice (MACCS)\"] = rdkit.DataStructs.BulkDiceSimilarity(MACCQuery, MACCSDatabase)\n",
    "# And for the morgan fingerprint too\n",
    "raw_database[\"Tanimoto (Morgan)\"] = rdkit.DataStructs.BulkTanimotoSimilarity(MorganQuery, MorganDatabase)\n",
    "raw_database[\"Dice (Morgan)\"] = rdkit.DataStructs.BulkDiceSimilarity(MorganQuery, MorganDatabase)"
   ]
  },
  {
   "cell_type": "markdown",
   "metadata": {},
   "source": [
    "We can describe the new database:"
   ]
  },
  {
   "cell_type": "code",
   "execution_count": 9,
   "metadata": {},
   "outputs": [
    {
     "data": {
      "text/html": [
       "<div>\n",
       "<style scoped>\n",
       "    .dataframe tbody tr th:only-of-type {\n",
       "        vertical-align: middle;\n",
       "    }\n",
       "\n",
       "    .dataframe tbody tr th {\n",
       "        vertical-align: top;\n",
       "    }\n",
       "\n",
       "    .dataframe thead th {\n",
       "        text-align: right;\n",
       "    }\n",
       "</style>\n",
       "<table border=\"1\" class=\"dataframe\">\n",
       "  <thead>\n",
       "    <tr style=\"text-align: right;\">\n",
       "      <th></th>\n",
       "      <th>Score</th>\n",
       "      <th>Tanimoto (MACCS)</th>\n",
       "      <th>Dice (MACCS)</th>\n",
       "      <th>Tanimoto (Morgan)</th>\n",
       "      <th>Dice (Morgan)</th>\n",
       "    </tr>\n",
       "  </thead>\n",
       "  <tbody>\n",
       "    <tr>\n",
       "      <th>count</th>\n",
       "      <td>400.000000</td>\n",
       "      <td>400.000000</td>\n",
       "      <td>400.000000</td>\n",
       "      <td>400.000000</td>\n",
       "      <td>400.000000</td>\n",
       "    </tr>\n",
       "    <tr>\n",
       "      <th>mean</th>\n",
       "      <td>0.055978</td>\n",
       "      <td>0.482113</td>\n",
       "      <td>0.640505</td>\n",
       "      <td>0.157272</td>\n",
       "      <td>0.258770</td>\n",
       "    </tr>\n",
       "    <tr>\n",
       "      <th>std</th>\n",
       "      <td>0.099914</td>\n",
       "      <td>0.130162</td>\n",
       "      <td>0.115564</td>\n",
       "      <td>0.108950</td>\n",
       "      <td>0.140409</td>\n",
       "    </tr>\n",
       "    <tr>\n",
       "      <th>min</th>\n",
       "      <td>0.025000</td>\n",
       "      <td>0.205128</td>\n",
       "      <td>0.340426</td>\n",
       "      <td>0.035294</td>\n",
       "      <td>0.068182</td>\n",
       "    </tr>\n",
       "    <tr>\n",
       "      <th>25%</th>\n",
       "      <td>0.027750</td>\n",
       "      <td>0.388682</td>\n",
       "      <td>0.559785</td>\n",
       "      <td>0.093458</td>\n",
       "      <td>0.170940</td>\n",
       "    </tr>\n",
       "    <tr>\n",
       "      <th>50%</th>\n",
       "      <td>0.030000</td>\n",
       "      <td>0.450806</td>\n",
       "      <td>0.621456</td>\n",
       "      <td>0.113636</td>\n",
       "      <td>0.204082</td>\n",
       "    </tr>\n",
       "    <tr>\n",
       "      <th>75%</th>\n",
       "      <td>0.038000</td>\n",
       "      <td>0.600000</td>\n",
       "      <td>0.750000</td>\n",
       "      <td>0.172580</td>\n",
       "      <td>0.294359</td>\n",
       "    </tr>\n",
       "    <tr>\n",
       "      <th>max</th>\n",
       "      <td>0.998000</td>\n",
       "      <td>1.000000</td>\n",
       "      <td>1.000000</td>\n",
       "      <td>1.000000</td>\n",
       "      <td>1.000000</td>\n",
       "    </tr>\n",
       "  </tbody>\n",
       "</table>\n",
       "</div>"
      ],
      "text/plain": [
       "            Score  Tanimoto (MACCS)  Dice (MACCS)  Tanimoto (Morgan)  \\\n",
       "count  400.000000        400.000000    400.000000         400.000000   \n",
       "mean     0.055978          0.482113      0.640505           0.157272   \n",
       "std      0.099914          0.130162      0.115564           0.108950   \n",
       "min      0.025000          0.205128      0.340426           0.035294   \n",
       "25%      0.027750          0.388682      0.559785           0.093458   \n",
       "50%      0.030000          0.450806      0.621456           0.113636   \n",
       "75%      0.038000          0.600000      0.750000           0.172580   \n",
       "max      0.998000          1.000000      1.000000           1.000000   \n",
       "\n",
       "       Dice (Morgan)  \n",
       "count     400.000000  \n",
       "mean        0.258770  \n",
       "std         0.140409  \n",
       "min         0.068182  \n",
       "25%         0.170940  \n",
       "50%         0.204082  \n",
       "75%         0.294359  \n",
       "max         1.000000  "
      ]
     },
     "execution_count": 9,
     "metadata": {},
     "output_type": "execute_result"
    }
   ],
   "source": [
    "raw_database.describe()"
   ]
  },
  {
   "cell_type": "markdown",
   "metadata": {},
   "source": [
    "As we can see, the simmilarity scores are pretty small, but this is to be expected when selecting \"Combined - ChEMBL (activity<10µM)\" in ENSEMBL, as it takes two methods (electroshape and fingerprint) which are quite different. For our Tanimoto and Dice metrics, we can see that all metrics including MACCS yield way better values than those used with the Morgan fingerprint, and those with Dice show better results than those with Tanimoto. Thus, we use \"dice_maccs\" as our parameter, and set the cutoff to 0.621456 (with a length of ~200 elements and representing Quartile 2) and save the data."
   ]
  },
  {
   "cell_type": "code",
   "execution_count": 10,
   "metadata": {},
   "outputs": [
    {
     "name": "stdout",
     "output_type": "stream",
     "text": [
      "The DICE(MACCS) filtered database has 200 molecules\n"
     ]
    }
   ],
   "source": [
    "raw_databasefilter = raw_database.loc[raw_database['Dice (MACCS)'].astype('float') > 0.621456]\n",
    "raw_databasefilter.drop('ROMol', axis=1).to_csv('./SimilarityAnalysisFinasteride.csv', index=False)\n",
    "print(f\"The DICE(MACCS) filtered database has {len(raw_databasefilter)} molecules\")"
   ]
  },
  {
   "cell_type": "markdown",
   "metadata": {},
   "source": [
    "## Pharmacophore Based Virtual Screning"
   ]
  },
  {
   "cell_type": "markdown",
   "metadata": {},
   "source": [
    "We upload \"SimilarityAnalysisFinasteride.csv\" to Pharmit, and generate the \"Finasteride-Similar 5ARIs KQMJ9Y\" database. Since PharmIt requires the db format to be \".smi\", we make the necessary changes:"
   ]
  },
  {
   "cell_type": "code",
   "execution_count": 11,
   "metadata": {},
   "outputs": [],
   "source": [
    "pharmit_input = raw_databasefilter['Smile'] + ' ' + raw_databasefilter['ChemblID']\n",
    "pharmit_input.to_csv('./pharmit_input.smi', index=False, header=False)"
   ]
  },
  {
   "cell_type": "markdown",
   "metadata": {},
   "source": [
    "We use our created pharmacophore (see paper) to filter the database, and download the results as \"pharmit_output.sdf\""
   ]
  },
  {
   "cell_type": "markdown",
   "metadata": {},
   "source": [
    "## ADMET Properties analysis"
   ]
  },
  {
   "cell_type": "markdown",
   "metadata": {},
   "source": [
    "As a proxy for ADMET properties, we are using Lipinski's rule of five, adding TPSA as an additional method."
   ]
  },
  {
   "cell_type": "code",
   "execution_count": 12,
   "metadata": {},
   "outputs": [],
   "source": [
    "def calculate_ro5_properties(smiles): # Define the funtion to validate Ro5\n",
    "    molecule = Chem.MolFromSmiles(smiles)\n",
    "    molecular_weight = Descriptors.ExactMolWt(molecule)\n",
    "    n_hba = Descriptors.NumHAcceptors(molecule)\n",
    "    n_hbd = Descriptors.NumHDonors(molecule)\n",
    "    logp = Descriptors.MolLogP(molecule)\n",
    "    TPSA = Descriptors.TPSA (molecule)\n",
    "    conditions = [molecular_weight <= 500, n_hba <= 10, n_hbd <= 5, logp <= 5, TPSA < 140]\n",
    "    ro5_fulfilled = sum(conditions) == 5 \n",
    "    return pd.Series(\n",
    "        [molecular_weight, n_hba, n_hbd, logp, TPSA, ro5_fulfilled],\n",
    "        index=[\"molecular_weight\", \"n_hba\", \"n_hbd\", \"logp\", \"TPSA\", \"ro5_fulfilled\"],\n",
    "    )"
   ]
  },
  {
   "cell_type": "markdown",
   "metadata": {},
   "source": [
    "Read the database we will process:"
   ]
  },
  {
   "cell_type": "code",
   "execution_count": 13,
   "metadata": {},
   "outputs": [
    {
     "name": "stdout",
     "output_type": "stream",
     "text": [
      "The pharmit database has 51 molecules\n"
     ]
    }
   ],
   "source": [
    "MoleculeDatabase = PandasTools.LoadSDF('./pharmit_output.sdf', embedProps=True, molColName=None, smilesName='smiles')\n",
    "print(f\"The pharmit database has {len(MoleculeDatabase)} molecules\")"
   ]
  },
  {
   "cell_type": "markdown",
   "metadata": {},
   "source": [
    "And apply the Rule of Five"
   ]
  },
  {
   "cell_type": "code",
   "execution_count": 14,
   "metadata": {
    "scrolled": true
   },
   "outputs": [
    {
     "name": "stdout",
     "output_type": "stream",
     "text": [
      "30 Ro5-following compounds found\n"
     ]
    }
   ],
   "source": [
    "# Calculate RO5 properties for all molecules\n",
    "ro5_properties = MoleculeDatabase[\"smiles\"].apply(calculate_ro5_properties)\n",
    "\n",
    "# Concat the properties dataframe with the pharmit output dataframe\n",
    "MoleculeDatabase_Concat = pd.concat([MoleculeDatabase, ro5_properties], axis=1)\n",
    "\n",
    "#And separate by valid and invalid drugs (~ negates boolean values)\n",
    "MoleculeDatabase_ro5_fulfilled = MoleculeDatabase_Concat[MoleculeDatabase_Concat[\"ro5_fulfilled\"]]\n",
    "MoleculeDatabase_ro5_violated = MoleculeDatabase_Concat[~MoleculeDatabase_Concat[\"ro5_fulfilled\"]]\n",
    "print(f\"{len(MoleculeDatabase_ro5_fulfilled)} Ro5-following compounds found\")"
   ]
  },
  {
   "cell_type": "markdown",
   "metadata": {},
   "source": [
    "We save Ro5-fulfilling compounds for refference:"
   ]
  },
  {
   "cell_type": "code",
   "execution_count": 15,
   "metadata": {},
   "outputs": [],
   "source": [
    "MoleculeDatabase_ro5_fulfilled.to_csv(\"MolDB_Ro5.csv\", index=False)"
   ]
  },
  {
   "cell_type": "markdown",
   "metadata": {},
   "source": [
    "## Docking using DockThor (Autodock Vina)"
   ]
  },
  {
   "cell_type": "markdown",
   "metadata": {},
   "source": [
    "For autodock vina, we want to screen the most similar molecules to our pharmacophore to see how these bind to our original targets. We can get the 4 best hits like so:"
   ]
  },
  {
   "cell_type": "code",
   "execution_count": 16,
   "metadata": {},
   "outputs": [
    {
     "data": {
      "text/html": [
       "<div>\n",
       "<style scoped>\n",
       "    .dataframe tbody tr th:only-of-type {\n",
       "        vertical-align: middle;\n",
       "    }\n",
       "\n",
       "    .dataframe tbody tr th {\n",
       "        vertical-align: top;\n",
       "    }\n",
       "\n",
       "    .dataframe thead th {\n",
       "        text-align: right;\n",
       "    }\n",
       "</style>\n",
       "<table border=\"1\" class=\"dataframe\">\n",
       "  <thead>\n",
       "    <tr style=\"text-align: right;\">\n",
       "      <th></th>\n",
       "      <th>rmsd</th>\n",
       "      <th>ID</th>\n",
       "      <th>smiles</th>\n",
       "      <th>molecular_weight</th>\n",
       "      <th>n_hba</th>\n",
       "      <th>n_hbd</th>\n",
       "      <th>logp</th>\n",
       "      <th>TPSA</th>\n",
       "      <th>ro5_fulfilled</th>\n",
       "    </tr>\n",
       "  </thead>\n",
       "  <tbody>\n",
       "    <tr>\n",
       "      <th>33</th>\n",
       "      <td>0.60144037</td>\n",
       "      <td>CHEMBL2397139</td>\n",
       "      <td>CNC(=O)c1ccc(OC2CCC(NC(=O)NC34CC5CC(CC(C5)C3)C...</td>\n",
       "      <td>425.267842</td>\n",
       "      <td>3</td>\n",
       "      <td>3</td>\n",
       "      <td>4.00420</td>\n",
       "      <td>79.46</td>\n",
       "      <td>True</td>\n",
       "    </tr>\n",
       "    <tr>\n",
       "      <th>23</th>\n",
       "      <td>0.551425219</td>\n",
       "      <td>CHEMBL1668930</td>\n",
       "      <td>CC(=O)N1CCC(NC(=O)NC2CCC(C)(C)CC2)CC1</td>\n",
       "      <td>295.225977</td>\n",
       "      <td>2</td>\n",
       "      <td>2</td>\n",
       "      <td>2.26530</td>\n",
       "      <td>61.44</td>\n",
       "      <td>True</td>\n",
       "    </tr>\n",
       "    <tr>\n",
       "      <th>17</th>\n",
       "      <td>0.547150791</td>\n",
       "      <td>CHEMBL2282650</td>\n",
       "      <td>CC1=C2N(C)CC3C(CCC4(C)C(C(=O)NC(C)(C)C)CCC34)C...</td>\n",
       "      <td>400.308979</td>\n",
       "      <td>3</td>\n",
       "      <td>1</td>\n",
       "      <td>4.54840</td>\n",
       "      <td>49.41</td>\n",
       "      <td>True</td>\n",
       "    </tr>\n",
       "    <tr>\n",
       "      <th>46</th>\n",
       "      <td>0.510232747</td>\n",
       "      <td>CHEMBL1631395</td>\n",
       "      <td>CC(=O)Nc1cc2c3c(c1)n(C/C=C/Cn1cc(C)c(=O)[nH]c1...</td>\n",
       "      <td>409.175004</td>\n",
       "      <td>7</td>\n",
       "      <td>2</td>\n",
       "      <td>1.12242</td>\n",
       "      <td>110.89</td>\n",
       "      <td>True</td>\n",
       "    </tr>\n",
       "  </tbody>\n",
       "</table>\n",
       "</div>"
      ],
      "text/plain": [
       "           rmsd             ID  \\\n",
       "33   0.60144037  CHEMBL2397139   \n",
       "23  0.551425219  CHEMBL1668930   \n",
       "17  0.547150791  CHEMBL2282650   \n",
       "46  0.510232747  CHEMBL1631395   \n",
       "\n",
       "                                               smiles  molecular_weight  \\\n",
       "33  CNC(=O)c1ccc(OC2CCC(NC(=O)NC34CC5CC(CC(C5)C3)C...        425.267842   \n",
       "23              CC(=O)N1CCC(NC(=O)NC2CCC(C)(C)CC2)CC1        295.225977   \n",
       "17  CC1=C2N(C)CC3C(CCC4(C)C(C(=O)NC(C)(C)C)CCC34)C...        400.308979   \n",
       "46  CC(=O)Nc1cc2c3c(c1)n(C/C=C/Cn1cc(C)c(=O)[nH]c1...        409.175004   \n",
       "\n",
       "    n_hba  n_hbd     logp    TPSA  ro5_fulfilled  \n",
       "33      3      3  4.00420   79.46           True  \n",
       "23      2      2  2.26530   61.44           True  \n",
       "17      3      1  4.54840   49.41           True  \n",
       "46      7      2  1.12242  110.89           True  "
      ]
     },
     "execution_count": 16,
     "metadata": {},
     "output_type": "execute_result"
    }
   ],
   "source": [
    "MoleculeDatabase_ro5_fulfilled.sort_values(['rmsd'], ascending=False).head(4)"
   ]
  },
  {
   "cell_type": "markdown",
   "metadata": {},
   "source": [
    "And we process them using Autodock Vina. Unfortunately, this are not valid molecules (see paper). So, we process the full database to get one in SDF format for DockThor"
   ]
  },
  {
   "cell_type": "code",
   "execution_count": 17,
   "metadata": {
    "scrolled": false
   },
   "outputs": [],
   "source": [
    "pd.options.mode.chained_assignment = None # Disable warnings\n",
    "# Subset only the eseential columns\n",
    "MoleculeDatabase_ro5_fulfilled.reset_index(inplace=True)\n",
    "MitDatabase = MoleculeDatabase_ro5_fulfilled[['ID','smiles']]\n",
    "# We add the molecule column using rdkit\n",
    "PandasTools.AddMoleculeColumnToFrame(MitDatabase,'smiles','Molecule')\n",
    "# And add Hidrogens to said molecules\n",
    "MitDatabase['MoleculeH'] = MitDatabase['Molecule'].apply(Chem.AddHs)\n",
    "# Compute 3D coordinates\n",
    "MitDatabase['MoleculeH'].map(AllChem.EmbedMolecule);"
   ]
  },
  {
   "cell_type": "markdown",
   "metadata": {},
   "source": [
    "And we save it:"
   ]
  },
  {
   "cell_type": "code",
   "execution_count": 18,
   "metadata": {},
   "outputs": [],
   "source": [
    "PandasTools.WriteSDF(MitDatabase, 'Finasteride_Similar_Ro5.sdf', \n",
    "                     molColName='MoleculeH', properties=list(MitDatabase.columns))"
   ]
  },
  {
   "cell_type": "markdown",
   "metadata": {},
   "source": [
    "We can now read the results and process them:"
   ]
  },
  {
   "cell_type": "code",
   "execution_count": 19,
   "metadata": {},
   "outputs": [],
   "source": [
    "# Load dataframes\n",
    "bestranking_typeII = pd.read_csv('./bestranking_typeII.csv', delimiter=';', header=0) \n",
    "bestranking_typeI  = pd.read_csv('./bestranking_typeI.csv',  delimiter=';', header=0) \n",
    "\n",
    "# For each database, get the compound ID and select the Name and Score columns\n",
    "for i, row in bestranking_typeII.iterrows(): bestranking_typeII['Name'][i] = bestranking_typeII['Name'][i].split('_')[-1]\n",
    "bestranking_typeII = bestranking_typeII[['Name', 'Score']]\n",
    "\n",
    "# For each database, get the compound ID and select the Name and Score columns\n",
    "for i, row in bestranking_typeI.iterrows(): bestranking_typeI['Name'][i] = bestranking_typeI['Name'][i].split('_')[-1]\n",
    "bestranking_typeI = bestranking_typeI[['Name', 'Score']]\n",
    "\n",
    "# We rename the columns\n",
    "bestranking_typeII.rename(columns = {'Score':'Score for type II'}, inplace = True)\n",
    "bestranking_typeI.rename(columns = {'Score':'Score for type I'}, inplace = True)\n",
    "\n",
    "# Merge the two dataframes\n",
    "bestranking = pd.merge(bestranking_typeI, bestranking_typeII, how='inner', on = 'Name')\n",
    "\n",
    "# Add CHEMBLIDs\n",
    "for i, row in bestranking.iterrows(): \n",
    "    bestranking['Name'][i] = MoleculeDatabase_ro5_fulfilled.iloc[int(row[\"Name\"])]['ID']\n",
    "    \n",
    "# And convert scores to Ki\n",
    "bestranking[\"KI for type I\"] = np.exp(-bestranking[\"Score for type I\"]/(0.008314*(273+37)))\n",
    "bestranking[\"KI for type II\"] = np.exp(-bestranking[\"Score for type II\"]/(0.008314*(273+37)))"
   ]
  },
  {
   "cell_type": "markdown",
   "metadata": {},
   "source": [
    "Now, we select only those CHEMBLIDs that are more effective and selective than finasteride:"
   ]
  },
  {
   "cell_type": "code",
   "execution_count": 20,
   "metadata": {},
   "outputs": [
    {
     "data": {
      "text/html": [
       "<div>\n",
       "<style scoped>\n",
       "    .dataframe tbody tr th:only-of-type {\n",
       "        vertical-align: middle;\n",
       "    }\n",
       "\n",
       "    .dataframe tbody tr th {\n",
       "        vertical-align: top;\n",
       "    }\n",
       "\n",
       "    .dataframe thead th {\n",
       "        text-align: right;\n",
       "    }\n",
       "</style>\n",
       "<table border=\"1\" class=\"dataframe\">\n",
       "  <thead>\n",
       "    <tr style=\"text-align: right;\">\n",
       "      <th></th>\n",
       "      <th>Name</th>\n",
       "      <th>Score for type I</th>\n",
       "      <th>Score for type II</th>\n",
       "      <th>KI for type I</th>\n",
       "      <th>KI for type II</th>\n",
       "    </tr>\n",
       "  </thead>\n",
       "  <tbody>\n",
       "    <tr>\n",
       "      <th>0</th>\n",
       "      <td>CHEMBL2057291</td>\n",
       "      <td>-10.082</td>\n",
       "      <td>-8.657</td>\n",
       "      <td>49.988102</td>\n",
       "      <td>28.757235</td>\n",
       "    </tr>\n",
       "    <tr>\n",
       "      <th>2</th>\n",
       "      <td>CHEMBL1343539</td>\n",
       "      <td>-9.619</td>\n",
       "      <td>-8.498</td>\n",
       "      <td>41.768499</td>\n",
       "      <td>27.036773</td>\n",
       "    </tr>\n",
       "    <tr>\n",
       "      <th>3</th>\n",
       "      <td>CHEMBL2282650</td>\n",
       "      <td>-9.608</td>\n",
       "      <td>-8.746</td>\n",
       "      <td>41.590612</td>\n",
       "      <td>29.767617</td>\n",
       "    </tr>\n",
       "    <tr>\n",
       "      <th>4</th>\n",
       "      <td>CHEMBL2057296</td>\n",
       "      <td>-9.581</td>\n",
       "      <td>-8.565</td>\n",
       "      <td>41.157187</td>\n",
       "      <td>27.748830</td>\n",
       "    </tr>\n",
       "    <tr>\n",
       "      <th>5</th>\n",
       "      <td>CHEMBL76192</td>\n",
       "      <td>-9.507</td>\n",
       "      <td>-8.255</td>\n",
       "      <td>39.992294</td>\n",
       "      <td>24.604138</td>\n",
       "    </tr>\n",
       "    <tr>\n",
       "      <th>6</th>\n",
       "      <td>CHEMBL2282653</td>\n",
       "      <td>-9.351</td>\n",
       "      <td>-8.616</td>\n",
       "      <td>37.643461</td>\n",
       "      <td>28.303388</td>\n",
       "    </tr>\n",
       "    <tr>\n",
       "      <th>7</th>\n",
       "      <td>CHEMBL1762030</td>\n",
       "      <td>-9.271</td>\n",
       "      <td>-8.796</td>\n",
       "      <td>36.492965</td>\n",
       "      <td>30.350742</td>\n",
       "    </tr>\n",
       "    <tr>\n",
       "      <th>8</th>\n",
       "      <td>CHEMBL2282652</td>\n",
       "      <td>-9.252</td>\n",
       "      <td>-8.281</td>\n",
       "      <td>36.224930</td>\n",
       "      <td>24.853599</td>\n",
       "    </tr>\n",
       "    <tr>\n",
       "      <th>9</th>\n",
       "      <td>CHEMBL1668930</td>\n",
       "      <td>-9.204</td>\n",
       "      <td>-7.939</td>\n",
       "      <td>35.556526</td>\n",
       "      <td>21.765096</td>\n",
       "    </tr>\n",
       "    <tr>\n",
       "      <th>10</th>\n",
       "      <td>CHEMBL1631395</td>\n",
       "      <td>-9.186</td>\n",
       "      <td>-8.164</td>\n",
       "      <td>35.309066</td>\n",
       "      <td>23.750579</td>\n",
       "    </tr>\n",
       "    <tr>\n",
       "      <th>11</th>\n",
       "      <td>CHEMBL1825149</td>\n",
       "      <td>-9.137</td>\n",
       "      <td>-7.898</td>\n",
       "      <td>34.644117</td>\n",
       "      <td>21.421599</td>\n",
       "    </tr>\n",
       "    <tr>\n",
       "      <th>12</th>\n",
       "      <td>CHEMBL3221237</td>\n",
       "      <td>-9.109</td>\n",
       "      <td>-8.250</td>\n",
       "      <td>34.269783</td>\n",
       "      <td>24.556452</td>\n",
       "    </tr>\n",
       "    <tr>\n",
       "      <th>13</th>\n",
       "      <td>CHEMBL1800917</td>\n",
       "      <td>-9.108</td>\n",
       "      <td>-8.054</td>\n",
       "      <td>34.256489</td>\n",
       "      <td>22.758239</td>\n",
       "    </tr>\n",
       "    <tr>\n",
       "      <th>14</th>\n",
       "      <td>CHEMBL280155</td>\n",
       "      <td>-8.991</td>\n",
       "      <td>-8.473</td>\n",
       "      <td>32.736163</td>\n",
       "      <td>26.775786</td>\n",
       "    </tr>\n",
       "    <tr>\n",
       "      <th>15</th>\n",
       "      <td>CHEMBL2282654</td>\n",
       "      <td>-8.969</td>\n",
       "      <td>-8.318</td>\n",
       "      <td>32.457919</td>\n",
       "      <td>25.212967</td>\n",
       "    </tr>\n",
       "    <tr>\n",
       "      <th>16</th>\n",
       "      <td>CHEMBL2057293</td>\n",
       "      <td>-8.937</td>\n",
       "      <td>-8.796</td>\n",
       "      <td>32.057416</td>\n",
       "      <td>30.350742</td>\n",
       "    </tr>\n",
       "    <tr>\n",
       "      <th>17</th>\n",
       "      <td>CHEMBL2282779</td>\n",
       "      <td>-8.909</td>\n",
       "      <td>-8.314</td>\n",
       "      <td>31.711032</td>\n",
       "      <td>25.173867</td>\n",
       "    </tr>\n",
       "    <tr>\n",
       "      <th>18</th>\n",
       "      <td>CHEMBL1668929</td>\n",
       "      <td>-8.847</td>\n",
       "      <td>-8.067</td>\n",
       "      <td>30.957299</td>\n",
       "      <td>22.873321</td>\n",
       "    </tr>\n",
       "    <tr>\n",
       "      <th>19</th>\n",
       "      <td>CHEMBL710</td>\n",
       "      <td>-8.839</td>\n",
       "      <td>-8.467</td>\n",
       "      <td>30.861358</td>\n",
       "      <td>26.713525</td>\n",
       "    </tr>\n",
       "  </tbody>\n",
       "</table>\n",
       "</div>"
      ],
      "text/plain": [
       "             Name  Score for type I  Score for type II  KI for type I  \\\n",
       "0   CHEMBL2057291           -10.082             -8.657      49.988102   \n",
       "2   CHEMBL1343539            -9.619             -8.498      41.768499   \n",
       "3   CHEMBL2282650            -9.608             -8.746      41.590612   \n",
       "4   CHEMBL2057296            -9.581             -8.565      41.157187   \n",
       "5     CHEMBL76192            -9.507             -8.255      39.992294   \n",
       "6   CHEMBL2282653            -9.351             -8.616      37.643461   \n",
       "7   CHEMBL1762030            -9.271             -8.796      36.492965   \n",
       "8   CHEMBL2282652            -9.252             -8.281      36.224930   \n",
       "9   CHEMBL1668930            -9.204             -7.939      35.556526   \n",
       "10  CHEMBL1631395            -9.186             -8.164      35.309066   \n",
       "11  CHEMBL1825149            -9.137             -7.898      34.644117   \n",
       "12  CHEMBL3221237            -9.109             -8.250      34.269783   \n",
       "13  CHEMBL1800917            -9.108             -8.054      34.256489   \n",
       "14   CHEMBL280155            -8.991             -8.473      32.736163   \n",
       "15  CHEMBL2282654            -8.969             -8.318      32.457919   \n",
       "16  CHEMBL2057293            -8.937             -8.796      32.057416   \n",
       "17  CHEMBL2282779            -8.909             -8.314      31.711032   \n",
       "18  CHEMBL1668929            -8.847             -8.067      30.957299   \n",
       "19      CHEMBL710            -8.839             -8.467      30.861358   \n",
       "\n",
       "    KI for type II  \n",
       "0        28.757235  \n",
       "2        27.036773  \n",
       "3        29.767617  \n",
       "4        27.748830  \n",
       "5        24.604138  \n",
       "6        28.303388  \n",
       "7        30.350742  \n",
       "8        24.853599  \n",
       "9        21.765096  \n",
       "10       23.750579  \n",
       "11       21.421599  \n",
       "12       24.556452  \n",
       "13       22.758239  \n",
       "14       26.775786  \n",
       "15       25.212967  \n",
       "16       30.350742  \n",
       "17       25.173867  \n",
       "18       22.873321  \n",
       "19       26.713525  "
      ]
     },
     "execution_count": 20,
     "metadata": {},
     "output_type": "execute_result"
    }
   ],
   "source": [
    "initial_ki = float(bestranking.loc[bestranking[\"Name\"]==\"CHEMBL710\"][\"KI for type I\"])\n",
    "bestranking.loc[(bestranking[\"KI for type I\"] >= initial_ki) & (bestranking[\"KI for type II\"] <= initial_ki)]"
   ]
  },
  {
   "cell_type": "markdown",
   "metadata": {},
   "source": [
    "Since there are a lot of compounds, we can select those that are better among equals:"
   ]
  },
  {
   "cell_type": "code",
   "execution_count": 21,
   "metadata": {},
   "outputs": [
    {
     "data": {
      "text/html": [
       "<div>\n",
       "<style scoped>\n",
       "    .dataframe tbody tr th:only-of-type {\n",
       "        vertical-align: middle;\n",
       "    }\n",
       "\n",
       "    .dataframe tbody tr th {\n",
       "        vertical-align: top;\n",
       "    }\n",
       "\n",
       "    .dataframe thead th {\n",
       "        text-align: right;\n",
       "    }\n",
       "</style>\n",
       "<table border=\"1\" class=\"dataframe\">\n",
       "  <thead>\n",
       "    <tr style=\"text-align: right;\">\n",
       "      <th></th>\n",
       "      <th>Name</th>\n",
       "      <th>Score for type I</th>\n",
       "      <th>Score for type II</th>\n",
       "      <th>KI for type I</th>\n",
       "      <th>KI for type II</th>\n",
       "    </tr>\n",
       "  </thead>\n",
       "  <tbody>\n",
       "    <tr>\n",
       "      <th>5</th>\n",
       "      <td>CHEMBL76192</td>\n",
       "      <td>-9.507</td>\n",
       "      <td>-8.255</td>\n",
       "      <td>39.992294</td>\n",
       "      <td>24.604138</td>\n",
       "    </tr>\n",
       "    <tr>\n",
       "      <th>8</th>\n",
       "      <td>CHEMBL2282652</td>\n",
       "      <td>-9.252</td>\n",
       "      <td>-8.281</td>\n",
       "      <td>36.224930</td>\n",
       "      <td>24.853599</td>\n",
       "    </tr>\n",
       "    <tr>\n",
       "      <th>9</th>\n",
       "      <td>CHEMBL1668930</td>\n",
       "      <td>-9.204</td>\n",
       "      <td>-7.939</td>\n",
       "      <td>35.556526</td>\n",
       "      <td>21.765096</td>\n",
       "    </tr>\n",
       "  </tbody>\n",
       "</table>\n",
       "</div>"
      ],
      "text/plain": [
       "            Name  Score for type I  Score for type II  KI for type I  \\\n",
       "5    CHEMBL76192            -9.507             -8.255      39.992294   \n",
       "8  CHEMBL2282652            -9.252             -8.281      36.224930   \n",
       "9  CHEMBL1668930            -9.204             -7.939      35.556526   \n",
       "\n",
       "   KI for type II  \n",
       "5       24.604138  \n",
       "8       24.853599  \n",
       "9       21.765096  "
      ]
     },
     "execution_count": 21,
     "metadata": {},
     "output_type": "execute_result"
    }
   ],
   "source": [
    "bestranking.loc[(bestranking[\"KI for type I\"] >= (initial_ki + 0.15*initial_ki )) & \n",
    "                 (bestranking[\"KI for type II\"] <= (initial_ki - 0.15*initial_ki))]"
   ]
  },
  {
   "cell_type": "markdown",
   "metadata": {},
   "source": [
    "The discussion can be checked in the paper! :P"
   ]
  }
 ],
 "metadata": {
  "kernelspec": {
   "display_name": "Python 3 (ipykernel)",
   "language": "python",
   "name": "python3"
  },
  "language_info": {
   "codemirror_mode": {
    "name": "ipython",
    "version": 3
   },
   "file_extension": ".py",
   "mimetype": "text/x-python",
   "name": "python",
   "nbconvert_exporter": "python",
   "pygments_lexer": "ipython3",
   "version": "3.8.10"
  }
 },
 "nbformat": 4,
 "nbformat_minor": 4
}
